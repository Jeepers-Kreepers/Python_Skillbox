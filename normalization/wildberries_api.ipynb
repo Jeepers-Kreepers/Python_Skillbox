{
 "cells": [
  {
   "cell_type": "code",
   "id": "initial_id",
   "metadata": {
    "collapsed": true,
    "ExecuteTime": {
     "end_time": "2025-05-04T12:44:55.041509Z",
     "start_time": "2025-05-04T12:44:54.918473Z"
    }
   },
   "source": [
    "import requests\n",
    "\n",
    "def get_wildberries_data(product_name):\n",
    "    url = \"https://search.wb.ru/exactmatch/ru/common/v4/search\"\n",
    "    params = {\n",
    "        \"query\": product_name,\n",
    "        \"resultset\": \"catalog\",\n",
    "        \"limit\": 1\n",
    "    }\n",
    "    response = requests.get(url, params=params)\n",
    "    if response.status_code == 200:\n",
    "        data = response.json()\n",
    "        print(data)\n",
    "        if data.get(\"data\", {}).get(\"products\"):\n",
    "            product = data[\"data\"][\"products\"][0]\n",
    "            return {\n",
    "                \"Название\": product.get(\"name\"),\n",
    "                \"Артикул\": product.get(\"id\"),\n",
    "                \"Производитель\": product.get(\"brand\"),\n",
    "            }\n",
    "    return None\n",
    "\n",
    "result = get_wildberries_data(\"Ноутбук HP 15s-fq2023ur\")\n",
    "print(result)"
   ],
   "outputs": [
    {
     "name": "stdout",
     "output_type": "stream",
     "text": [
      "{'metadata': {'catalog_type': 'preset', 'catalog_value': 'preset=10915328&_st0=ZnEyMDIzdXI=', 'normquery': 'ноутбук hp 15s', 'search_result': {}, 'name': 'Ноутбук HP 15s-fq2023ur', 'rmi': '5', 'title': 'ноутбук hp 15s fq2023ur', 'rs': 43, 'context': ['электроника']}, 'state': 0, 'version': 2, 'params': {'version': 2, 'curr': 'rub', 'dest': 0, 'payloadVersion': 1}, 'data': {'products': [], 'total': 0}}\n",
      "None\n"
     ]
    }
   ],
   "execution_count": 1
  },
  {
   "metadata": {
    "ExecuteTime": {
     "end_time": "2025-05-03T19:05:13.862073Z",
     "start_time": "2025-05-03T19:05:10.225987Z"
    }
   },
   "cell_type": "code",
   "source": [
    "import requests\n",
    "\n",
    "def get_ozon_data(product_name):\n",
    "    url = \"https://api-seller.ozon.ru/v2/product/list\"\n",
    "    headers = {\n",
    "        \"Client-Id\": \"YOUR_CLIENT_ID\",\n",
    "        \"Api-Key\": \"YOUR_API_KEY\"\n",
    "    }\n",
    "    payload = {\n",
    "        \"filter\": {\n",
    "            \"offer_id\": [product_name],\n",
    "            \"visibility\": \"ALL\"\n",
    "        },\n",
    "        \"limit\": 1\n",
    "    }\n",
    "    response = requests.post(url, headers=headers, json=payload)\n",
    "    if response.status_code == 200:\n",
    "        data = response.json()\n",
    "        if data.get(\"result\", {}).get(\"items\"):\n",
    "            product = data[\"result\"][\"items\"][0]\n",
    "            return {\n",
    "                \"Название\": product.get(\"name\"),\n",
    "                \"Артикул\": product.get(\"offer_id\"),\n",
    "                \"Производитель\": product.get(\"brand\")\n",
    "            }\n",
    "    return None\n",
    "\n",
    "result = get_ozon_data(\"Смартфон Samsung Galaxy S23\")\n",
    "print(result)"
   ],
   "id": "d85a98de48bf2d0e",
   "outputs": [
    {
     "name": "stdout",
     "output_type": "stream",
     "text": [
      "None\n"
     ]
    }
   ],
   "execution_count": 3
  },
  {
   "metadata": {
    "ExecuteTime": {
     "end_time": "2025-05-03T19:05:40.987223Z",
     "start_time": "2025-05-03T19:05:39.390955Z"
    }
   },
   "cell_type": "code",
   "source": [
    "import requests\n",
    "\n",
    "def get_google_shopping_data(product_name):\n",
    "    api_key = \"YOUR_SERPAPI_KEY\"\n",
    "    url = f\"https://serpapi.com/search.json?engine=google_shopping&q={product_name}&api_key={api_key}\"\n",
    "    response = requests.get(url)\n",
    "    if response.status_code == 200:\n",
    "        data = response.json()\n",
    "        if data.get(\"shopping_results\"):\n",
    "            product = data[\"shopping_results\"][0]\n",
    "            return {\n",
    "                \"Название\": product.get(\"title\"),\n",
    "                \"Артикул\": product.get(\"product_id\"),\n",
    "                \"Производитель\": product.get(\"source\")\n",
    "            }\n",
    "    return None\n",
    "\n",
    "result = get_google_shopping_data(\"Кроссовки Nike Air Force 1\")\n",
    "print(result)"
   ],
   "id": "61ea04111e8c723c",
   "outputs": [
    {
     "name": "stdout",
     "output_type": "stream",
     "text": [
      "None\n"
     ]
    }
   ],
   "execution_count": 4
  },
  {
   "metadata": {
    "ExecuteTime": {
     "end_time": "2025-05-03T19:06:04.900040Z",
     "start_time": "2025-05-03T19:06:03.370499Z"
    }
   },
   "cell_type": "code",
   "source": [
    "import requests\n",
    "\n",
    "def get_gtin_data(barcode):\n",
    "    url = f\"https://api.barcodelookup.com/v3/products?barcode={barcode}&formatted=y&key=YOUR_API_KEY\"\n",
    "    response = requests.get(url)\n",
    "    if response.status_code == 200:\n",
    "        data = response.json()\n",
    "        if data.get(\"products\"):\n",
    "            product = data[\"products\"][0]\n",
    "            return {\n",
    "                \"Название\": product.get(\"product_name\"),\n",
    "                \"Артикул\": product.get(\"barcode_number\"),\n",
    "                \"Производитель\": product.get(\"manufacturer\")\n",
    "            }\n",
    "    return None\n",
    "\n",
    "result = get_gtin_data(\"190198032527\")  # Пример штрих-кода\n",
    "print(result)"
   ],
   "id": "9c8e562f1a667b6b",
   "outputs": [
    {
     "name": "stdout",
     "output_type": "stream",
     "text": [
      "None\n"
     ]
    }
   ],
   "execution_count": 5
  }
 ],
 "metadata": {
  "kernelspec": {
   "display_name": "Python 3",
   "language": "python",
   "name": "python3"
  },
  "language_info": {
   "codemirror_mode": {
    "name": "ipython",
    "version": 2
   },
   "file_extension": ".py",
   "mimetype": "text/x-python",
   "name": "python",
   "nbconvert_exporter": "python",
   "pygments_lexer": "ipython2",
   "version": "2.7.6"
  }
 },
 "nbformat": 4,
 "nbformat_minor": 5
}
