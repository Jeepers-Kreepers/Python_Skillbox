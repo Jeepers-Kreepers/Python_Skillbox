{
 "cells": [
  {
   "cell_type": "code",
   "id": "initial_id",
   "metadata": {
    "collapsed": true,
    "ExecuteTime": {
     "end_time": "2025-02-24T17:36:36.231081Z",
     "start_time": "2025-02-24T17:36:36.227728Z"
    }
   },
   "source": [
    "def read_subjects():\n",
    "    \"\"\"Считывает список предметов.\"\"\"\n",
    "    subjects = []\n",
    "    while True:\n",
    "        subject = input(\"Введите предмет: \")\n",
    "        if subject.lower() == \"стоп\":\n",
    "            break\n",
    "        subjects.append(subject)\n",
    "    return subjects\n"
   ],
   "outputs": [],
   "execution_count": 19
  },
  {
   "metadata": {
    "ExecuteTime": {
     "end_time": "2025-02-24T17:36:52.065193Z",
     "start_time": "2025-02-24T17:36:36.240563Z"
    }
   },
   "cell_type": "code",
   "source": [
    "subjects = read_subjects()\n",
    "subjects"
   ],
   "id": "b9dc973dcb7162e5",
   "outputs": [
    {
     "data": {
      "text/plain": [
       "['Математика', 'Физика']"
      ]
     },
     "execution_count": 20,
     "metadata": {},
     "output_type": "execute_result"
    }
   ],
   "execution_count": 20
  },
  {
   "metadata": {
    "ExecuteTime": {
     "end_time": "2025-02-24T17:36:52.086674Z",
     "start_time": "2025-02-24T17:36:52.081902Z"
    }
   },
   "cell_type": "code",
   "source": [
    "def read_student():\n",
    "    \"\"\"Считывает данные о студенте.\"\"\"\n",
    "    students = []\n",
    "    while True:\n",
    "        student = input(\"Введите Фамилию и Имя студента через пробел: \")\n",
    "        if student.lower() == \"стоп\":\n",
    "            break\n",
    "        try:\n",
    "            surname, name = student.split()\n",
    "            students.append((surname, name))\n",
    "        except ValueError:\n",
    "            print(\"Ошибка. Введите фамилию и имя через пробел.\")\n",
    "    return students\n"
   ],
   "id": "37b16075f2b25a18",
   "outputs": [],
   "execution_count": 21
  },
  {
   "metadata": {
    "ExecuteTime": {
     "end_time": "2025-02-24T17:37:14.396206Z",
     "start_time": "2025-02-24T17:36:52.151258Z"
    }
   },
   "cell_type": "code",
   "source": [
    "students = read_student()\n",
    "print(type(subjects))\n",
    "students"
   ],
   "id": "96d55ff21914b901",
   "outputs": [
    {
     "name": "stdout",
     "output_type": "stream",
     "text": [
      "<class 'list'>\n"
     ]
    },
    {
     "data": {
      "text/plain": [
       "[('Саша', 'Саша'), ('Миша', 'Миша')]"
      ]
     },
     "execution_count": 22,
     "metadata": {},
     "output_type": "execute_result"
    }
   ],
   "execution_count": 22
  },
  {
   "metadata": {
    "ExecuteTime": {
     "end_time": "2025-02-24T17:37:14.528754Z",
     "start_time": "2025-02-24T17:37:14.525287Z"
    }
   },
   "cell_type": "code",
   "source": [
    "def read_scores(students, subjects):\n",
    "    \"\"\"Считывает оценки студентов.\"\"\"\n",
    "    scores = []\n",
    "    for student in students:\n",
    "        student_scores = {}\n",
    "        for subject in subjects:\n",
    "            score = int(input(f\"Введите оценку по предмету {subject} для студента {student[0]} {student[1]}: \"))\n",
    "            student_scores[subject] = score\n",
    "        scores.append(student_scores)\n",
    "    return scores\n"
   ],
   "id": "8e206391892c1f55",
   "outputs": [],
   "execution_count": 23
  },
  {
   "metadata": {
    "ExecuteTime": {
     "end_time": "2025-02-24T17:37:20.686334Z",
     "start_time": "2025-02-24T17:37:14.580679Z"
    }
   },
   "cell_type": "code",
   "source": [
    "scores = read_scores(students, subjects)\n",
    "scores"
   ],
   "id": "c31b409b358e02c9",
   "outputs": [
    {
     "data": {
      "text/plain": [
       "[{'Математика': 1, 'Физика': 2}, {'Математика': 3, 'Физика': 4}]"
      ]
     },
     "execution_count": 24,
     "metadata": {},
     "output_type": "execute_result"
    }
   ],
   "execution_count": 24
  },
  {
   "metadata": {
    "ExecuteTime": {
     "end_time": "2025-02-24T18:14:59.730112Z",
     "start_time": "2025-02-24T18:14:59.726167Z"
    }
   },
   "cell_type": "code",
   "source": [
    "student_averages = {}\n",
    "a = list(enumerate(students))\n",
    "for i, student in a:\n",
    "    total_score = sum(scores[i].values())\n",
    "    print(total_score)\n",
    "    average_score = total_score / len(scores[i])\n",
    "    print(average_score)\n",
    "    student_averages[student] = average_score\n",
    "print(student_averages)\n",
    "print(a)"
   ],
   "id": "74cd663fed75d177",
   "outputs": [
    {
     "name": "stdout",
     "output_type": "stream",
     "text": [
      "3\n",
      "1.5\n",
      "7\n",
      "3.5\n",
      "{('Саша', 'Саша'): 1.5, ('Миша', 'Миша'): 3.5}\n",
      "[(0, ('Саша', 'Саша')), (1, ('Миша', 'Миша'))]\n"
     ]
    }
   ],
   "execution_count": 42
  },
  {
   "metadata": {
    "ExecuteTime": {
     "end_time": "2025-02-24T18:18:55.258180Z",
     "start_time": "2025-02-24T18:18:55.254119Z"
    }
   },
   "cell_type": "code",
   "source": [
    "best_student = max(student_averages, key=student_averages.get)\n",
    "best_student"
   ],
   "id": "1c4a7ae962173c2d",
   "outputs": [
    {
     "data": {
      "text/plain": [
       "('Миша', 'Миша')"
      ]
     },
     "execution_count": 43,
     "metadata": {},
     "output_type": "execute_result"
    }
   ],
   "execution_count": 43
  },
  {
   "metadata": {
    "ExecuteTime": {
     "end_time": "2025-02-24T18:19:08.185458Z",
     "start_time": "2025-02-24T18:19:08.181718Z"
    }
   },
   "cell_type": "code",
   "source": [
    "best_average = student_averages[best_student]\n",
    "best_average"
   ],
   "id": "59a32f13e8e4a8a",
   "outputs": [
    {
     "data": {
      "text/plain": [
       "3.5"
      ]
     },
     "execution_count": 45,
     "metadata": {},
     "output_type": "execute_result"
    }
   ],
   "execution_count": 45
  }
 ],
 "metadata": {
  "kernelspec": {
   "display_name": "Python 3",
   "language": "python",
   "name": "python3"
  },
  "language_info": {
   "codemirror_mode": {
    "name": "ipython",
    "version": 2
   },
   "file_extension": ".py",
   "mimetype": "text/x-python",
   "name": "python",
   "nbconvert_exporter": "python",
   "pygments_lexer": "ipython2",
   "version": "2.7.6"
  }
 },
 "nbformat": 4,
 "nbformat_minor": 5
}
