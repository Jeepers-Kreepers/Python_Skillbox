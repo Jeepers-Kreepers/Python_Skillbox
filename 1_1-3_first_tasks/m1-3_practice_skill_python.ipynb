{
 "cells": [
  {
   "metadata": {},
   "cell_type": "markdown",
   "source": [
    "**Задача 2. Числа Фибоначчи**\n",
    "- Напишите функцию *get_fib_numbers(qty)*, которая возвращает список, содержащий числа Фибоначчи. Аргумент **qty** определяет количество вычисляемых чисел Фибоначчи."
   ],
   "id": "48561629c9ad80"
  },
  {
   "metadata": {
    "collapsed": true,
    "ExecuteTime": {
     "end_time": "2025-02-24T11:16:37.860960Z",
     "start_time": "2025-02-24T11:16:37.855498Z"
    }
   },
   "cell_type": "code",
   "source": [
    "def get_fib_numbers(qty):\n",
    "    if qty <= 0:\n",
    "        return []\n",
    "    elif qty == 1:\n",
    "        return [0]\n",
    "    fib_list = [0, 1]\n",
    "    for i in range(2, qty):\n",
    "        fib_list.append(fib_list[i-1] + fib_list[i-2])\n",
    "    return fib_list\n",
    "\n",
    "get_fib_numbers(2)"
   ],
   "id": "initial_id",
   "outputs": [
    {
     "data": {
      "text/plain": [
       "[0, 1]"
      ]
     },
     "execution_count": 19,
     "metadata": {},
     "output_type": "execute_result"
    }
   ],
   "execution_count": 19
  },
  {
   "metadata": {},
   "cell_type": "markdown",
   "source": "Задача 3. FizzBuzz",
   "id": "e82d5dcbd0951016"
  },
  {
   "metadata": {
    "ExecuteTime": {
     "end_time": "2025-02-24T11:16:37.912776Z",
     "start_time": "2025-02-24T11:16:37.908823Z"
    }
   },
   "cell_type": "code",
   "source": [
    "def fizz_buzz(max_number):\n",
    "    try:\n",
    "        max_number = int(max_number)\n",
    "    except ValueError:\n",
    "        print(\"Введено не число\")\n",
    "        return\n",
    "\n",
    "    if max_number <= 0:\n",
    "        print(\"Введено число меньше единицы\")\n",
    "        return\n",
    "\n",
    "    for i in range(1, max_number + 1):\n",
    "        if i % 3 == 0 and i % 5 == 0:\n",
    "            print(\"FizzBuzz\")\n",
    "        elif i % 3 == 0:\n",
    "            print(\"Fizz\")\n",
    "        elif i % 5 == 0:\n",
    "            print (\"Buzz\")\n",
    "        else:\n",
    "            print(i)"
   ],
   "id": "8647fbf7cb136310",
   "outputs": [],
   "execution_count": 20
  },
  {
   "metadata": {
    "ExecuteTime": {
     "end_time": "2025-02-24T11:16:37.972947Z",
     "start_time": "2025-02-24T11:16:37.968520Z"
    }
   },
   "cell_type": "code",
   "source": "fizz_buzz(10)",
   "id": "f1090fae2679437b",
   "outputs": [
    {
     "name": "stdout",
     "output_type": "stream",
     "text": [
      "1\n",
      "2\n",
      "Fizz\n",
      "4\n",
      "Buzz\n",
      "Fizz\n",
      "7\n",
      "8\n",
      "Fizz\n",
      "Buzz\n"
     ]
    }
   ],
   "execution_count": 21
  },
  {
   "metadata": {},
   "cell_type": "markdown",
   "source": "Задача 4. Решение треугольника",
   "id": "59307ebb17aeda58"
  },
  {
   "metadata": {
    "ExecuteTime": {
     "end_time": "2025-02-24T11:16:38.037738Z",
     "start_time": "2025-02-24T11:16:38.032428Z"
    }
   },
   "cell_type": "code",
   "source": [
    "import math\n",
    "\n",
    "def solve_triangle(side1, side2, side3):\n",
    "\n",
    "    # Проверка, образуют ли стороны треугольник (неравенство треугольника)\n",
    "    if not (side1 + side2 > side3 and side1 + side3 > side2 and side2 + side3 > side1):\n",
    "        print(\"Ошибка: Данные стороны не образуют треугольник.\")\n",
    "        return\n",
    "\n",
    "    # Вычисление углов с использованием теоремы косинусов\n",
    "    def angle():\n",
    "        angle_a_rad = math.acos((side2**2 + side3**2 - side1**2) / (2 * side2 * side3))\n",
    "        angle_b_rad = math.acos((side1**2 + side3**2 - side2**2) / (2 * side1 * side3))\n",
    "        angle_c_rad = math.acos((side1**2 + side2**2 - side3**2) / (2 * side1 * side2))\n",
    "        lst = [angle_a_rad, angle_b_rad, angle_c_rad]\n",
    "        return lst\n",
    "\n",
    "\n",
    "    # Преобразование углов из радианов в градусы\n",
    "    angle_a_deg = math.degrees(angle()[0])\n",
    "    angle_b_deg = math.degrees(angle()[1])\n",
    "    angle_c_deg = math.degrees(angle()[2])\n",
    "\n",
    "    # Вычисление периметра\n",
    "    perimeter = side1 + side2 + side3\n",
    "\n",
    "    # Вычисление площади с использованием формулы Герона\n",
    "    s = perimeter / 2  # Полупериметр\n",
    "    area = math.sqrt(s * (s - side1) * (s - side2) * (s - side3))\n",
    "\n",
    "    # Возврат результатов в виде словаря\n",
    "    return {\n",
    "        \"angle_a\": angle_a_deg,\n",
    "        \"angle_b\": angle_b_deg,\n",
    "        \"angle_c\": angle_c_deg,\n",
    "        \"perimeter\": perimeter,\n",
    "        \"area\": area\n",
    "    }"
   ],
   "id": "377ff00d35fd085",
   "outputs": [],
   "execution_count": 22
  },
  {
   "metadata": {
    "ExecuteTime": {
     "end_time": "2025-02-24T11:16:38.092458Z",
     "start_time": "2025-02-24T11:16:38.087998Z"
    }
   },
   "cell_type": "code",
   "source": [
    "# Пример использования:\n",
    "side1 = 3\n",
    "side2 = 4\n",
    "side3 = 5\n",
    "\n",
    "result = solve_triangle(side1, side2, side3)\n",
    "\n",
    "if result:\n",
    "    print(\"Угол A:\", result[\"angle_a\"], \"градусов\")\n",
    "    print(\"Угол B:\", result[\"angle_b\"], \"градусов\")\n",
    "    print(\"Угол C:\", result[\"angle_c\"], \"градусов\")\n",
    "    print(\"Периметр:\", result[\"perimeter\"])\n",
    "    print(\"Площадь:\", result[\"area\"])"
   ],
   "id": "94ef308276b2f027",
   "outputs": [
    {
     "name": "stdout",
     "output_type": "stream",
     "text": [
      "Угол A: 36.86989764584401 градусов\n",
      "Угол B: 53.13010235415599 градусов\n",
      "Угол C: 90.0 градусов\n",
      "Периметр: 12\n",
      "Площадь: 6.0\n"
     ]
    }
   ],
   "execution_count": 23
  },
  {
   "metadata": {
    "ExecuteTime": {
     "end_time": "2025-02-24T11:16:38.142647Z",
     "start_time": "2025-02-24T11:16:38.138773Z"
    }
   },
   "cell_type": "code",
   "source": [
    "# Пример с некорректными сторонами:\n",
    "side1 = 1\n",
    "side2 = 2\n",
    "side3 = 5\n",
    "\n",
    "result = solve_triangle(side1, side2, side3)\n",
    "\n",
    "if result is None:\n",
    "    print(\"Невозможно построить треугольник с такими сторонами.\")"
   ],
   "id": "350ae964776848e3",
   "outputs": [
    {
     "name": "stdout",
     "output_type": "stream",
     "text": [
      "Ошибка: Данные стороны не образуют треугольник.\n",
      "Невозможно построить треугольник с такими сторонами.\n"
     ]
    }
   ],
   "execution_count": 24
  }
 ],
 "metadata": {
  "kernelspec": {
   "display_name": "Python 3",
   "language": "python",
   "name": "python3"
  },
  "language_info": {
   "codemirror_mode": {
    "name": "ipython",
    "version": 2
   },
   "file_extension": ".py",
   "mimetype": "text/x-python",
   "name": "python",
   "nbconvert_exporter": "python",
   "pygments_lexer": "ipython2",
   "version": "2.7.6"
  }
 },
 "nbformat": 4,
 "nbformat_minor": 5
}
