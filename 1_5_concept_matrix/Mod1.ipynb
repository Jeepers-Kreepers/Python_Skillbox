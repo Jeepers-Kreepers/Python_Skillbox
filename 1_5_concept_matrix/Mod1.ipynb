{
 "cells": [
  {
   "cell_type": "code",
   "id": "initial_id",
   "metadata": {
    "collapsed": true,
    "ExecuteTime": {
     "end_time": "2025-02-06T17:59:37.278417Z",
     "start_time": "2025-02-06T17:59:37.275053Z"
    }
   },
   "source": [
    "import sympy as sp\n",
    "\n",
    "A = sp.Matrix([[3, 1], [-5, 2]])\n",
    "B = sp.Matrix([[-2, 1], [3, 4]])"
   ],
   "outputs": [],
   "execution_count": 55
  },
  {
   "metadata": {},
   "cell_type": "markdown",
   "source": "Найти 2*A - 3*B + I\n",
   "id": "718687eced9d0c31"
  },
  {
   "metadata": {
    "ExecuteTime": {
     "end_time": "2025-02-06T17:59:37.330878Z",
     "start_time": "2025-02-06T17:59:37.325219Z"
    }
   },
   "cell_type": "code",
   "source": "2*A - 3*B + sp.eye(2)  #  sp.eye(2) - единичная матрица 2x2",
   "id": "a30bfca9dfef7e2e",
   "outputs": [
    {
     "data": {
      "text/plain": [
       "Matrix([\n",
       "[ 13, -1],\n",
       "[-19, -7]])"
      ],
      "text/latex": "$\\displaystyle \\left[\\begin{matrix}13 & -1\\\\-19 & -7\\end{matrix}\\right]$"
     },
     "execution_count": 56,
     "metadata": {},
     "output_type": "execute_result"
    }
   ],
   "execution_count": 56
  },
  {
   "metadata": {},
   "cell_type": "markdown",
   "source": "Убеждаемся, что A*B != B*A",
   "id": "be31d6d7e112d7e5"
  },
  {
   "metadata": {
    "ExecuteTime": {
     "end_time": "2025-02-06T17:59:37.391153Z",
     "start_time": "2025-02-06T17:59:37.386333Z"
    }
   },
   "cell_type": "code",
   "source": "A * B",
   "id": "458ce11f2cf12c42",
   "outputs": [
    {
     "data": {
      "text/plain": [
       "Matrix([\n",
       "[-3, 7],\n",
       "[16, 3]])"
      ],
      "text/latex": "$\\displaystyle \\left[\\begin{matrix}-3 & 7\\\\16 & 3\\end{matrix}\\right]$"
     },
     "execution_count": 57,
     "metadata": {},
     "output_type": "execute_result"
    }
   ],
   "execution_count": 57
  },
  {
   "metadata": {
    "ExecuteTime": {
     "end_time": "2025-02-06T17:59:37.457683Z",
     "start_time": "2025-02-06T17:59:37.452580Z"
    }
   },
   "cell_type": "code",
   "source": "B * A",
   "id": "9550d2cfff65198e",
   "outputs": [
    {
     "data": {
      "text/plain": [
       "Matrix([\n",
       "[-11,  0],\n",
       "[-11, 11]])"
      ],
      "text/latex": "$\\displaystyle \\left[\\begin{matrix}-11 & 0\\\\-11 & 11\\end{matrix}\\right]$"
     },
     "execution_count": 58,
     "metadata": {},
     "output_type": "execute_result"
    }
   ],
   "execution_count": 58
  },
  {
   "metadata": {
    "ExecuteTime": {
     "end_time": "2025-02-06T17:59:37.518943Z",
     "start_time": "2025-02-06T17:59:37.516568Z"
    }
   },
   "cell_type": "code",
   "source": "",
   "id": "1110404db9c6a845",
   "outputs": [],
   "execution_count": null
  },
  {
   "metadata": {
    "ExecuteTime": {
     "end_time": "2025-02-06T18:19:34.414268Z",
     "start_time": "2025-02-06T18:19:34.410754Z"
    }
   },
   "cell_type": "code",
   "source": [
    "D = sp.Matrix([[1, 2, 0], [3, 45, 6]])\n",
    "# j = 78\n",
    "E = sp.Matrix([7, 8, 0])"
   ],
   "id": "79da6c09b326cbd0",
   "outputs": [],
   "execution_count": 71
  },
  {
   "metadata": {
    "ExecuteTime": {
     "end_time": "2025-02-06T18:19:08.939739Z",
     "start_time": "2025-02-06T18:19:08.933484Z"
    }
   },
   "cell_type": "code",
   "source": "D",
   "id": "acd82b86f342e21a",
   "outputs": [
    {
     "data": {
      "text/plain": [
       "Matrix([\n",
       "[1,  2, 0],\n",
       "[3, 45, 6]])"
      ],
      "text/latex": "$\\displaystyle \\left[\\begin{matrix}1 & 2 & 0\\\\3 & 45 & 6\\end{matrix}\\right]$"
     },
     "execution_count": 68,
     "metadata": {},
     "output_type": "execute_result"
    }
   ],
   "execution_count": 68
  },
  {
   "metadata": {
    "ExecuteTime": {
     "end_time": "2025-02-06T18:20:03.139025Z",
     "start_time": "2025-02-06T18:20:03.134043Z"
    }
   },
   "cell_type": "code",
   "source": "E",
   "id": "a37b87d05afeed4a",
   "outputs": [
    {
     "data": {
      "text/plain": [
       "Matrix([\n",
       "[7],\n",
       "[8],\n",
       "[0]])"
      ],
      "text/latex": "$\\displaystyle \\left[\\begin{matrix}7\\\\8\\\\0\\end{matrix}\\right]$"
     },
     "execution_count": 73,
     "metadata": {},
     "output_type": "execute_result"
    }
   ],
   "execution_count": 73
  },
  {
   "metadata": {
    "ExecuteTime": {
     "end_time": "2025-02-06T18:19:35.790302Z",
     "start_time": "2025-02-06T18:19:35.785330Z"
    }
   },
   "cell_type": "code",
   "source": "D * E",
   "id": "cea20f5c6247f29",
   "outputs": [
    {
     "data": {
      "text/plain": [
       "Matrix([\n",
       "[ 23],\n",
       "[381]])"
      ],
      "text/latex": "$\\displaystyle \\left[\\begin{matrix}23\\\\381\\end{matrix}\\right]$"
     },
     "execution_count": 72,
     "metadata": {},
     "output_type": "execute_result"
    }
   ],
   "execution_count": 72
  },
  {
   "metadata": {},
   "cell_type": "code",
   "outputs": [],
   "execution_count": null,
   "source": "",
   "id": "6c14b8b0eaef85d"
  }
 ],
 "metadata": {
  "kernelspec": {
   "display_name": "Python 3",
   "language": "python",
   "name": "python3"
  },
  "language_info": {
   "codemirror_mode": {
    "name": "ipython",
    "version": 2
   },
   "file_extension": ".py",
   "mimetype": "text/x-python",
   "name": "python",
   "nbconvert_exporter": "python",
   "pygments_lexer": "ipython2",
   "version": "2.7.6"
  }
 },
 "nbformat": 4,
 "nbformat_minor": 5
}
