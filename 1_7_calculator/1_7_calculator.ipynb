{
 "cells": [
  {
   "cell_type": "code",
   "id": "initial_id",
   "metadata": {
    "collapsed": true,
    "ExecuteTime": {
     "end_time": "2025-03-10T18:34:54.427518Z",
     "start_time": "2025-03-10T18:34:54.423088Z"
    }
   },
   "source": "import re",
   "outputs": [],
   "execution_count": 1
  },
  {
   "metadata": {
    "ExecuteTime": {
     "end_time": "2025-03-10T18:34:54.487099Z",
     "start_time": "2025-03-10T18:34:54.482881Z"
    }
   },
   "cell_type": "code",
   "source": [
    "def read_expressions_from_file(filename):\n",
    "    \"\"\"\n",
    "    Читает выражения из файла и возвращает независимо он наличия ошибок.\n",
    "    Args:       filename: Имя файла с выражениями.\n",
    "    Returns:    Список выражений.\n",
    "    \"\"\"\n",
    "    try:\n",
    "        with open(filename, 'r', encoding='utf-8') as f:\n",
    "            expressions = [line.strip() for line in f]\n",
    "        return expressions\n",
    "    except FileNotFoundError:\n",
    "        print(f\"Ошибка: Файл {filename} не найден.\")\n",
    "        return None"
   ],
   "id": "ffd92fed3afb10f1",
   "outputs": [],
   "execution_count": 2
  },
  {
   "metadata": {
    "ExecuteTime": {
     "end_time": "2025-03-10T18:35:12.762057Z",
     "start_time": "2025-03-10T18:34:54.656484Z"
    }
   },
   "cell_type": "code",
   "source": [
    "input_filename = input(\"Укажите имя файла с выражениями: \")\n",
    "expressions = read_expressions_from_file(input_filename)"
   ],
   "id": "ad374f147bc26394",
   "outputs": [],
   "execution_count": 3
  },
  {
   "metadata": {
    "ExecuteTime": {
     "end_time": "2025-03-10T18:35:12.781789Z",
     "start_time": "2025-03-10T18:35:12.775438Z"
    }
   },
   "cell_type": "code",
   "source": "expressions",
   "id": "cf10d2223991f6d1",
   "outputs": [
    {
     "data": {
      "text/plain": [
       "['2 + 3', '-5 * 4', 'a + 5']"
      ]
     },
     "execution_count": 4,
     "metadata": {},
     "output_type": "execute_result"
    }
   ],
   "execution_count": 4
  },
  {
   "metadata": {
    "ExecuteTime": {
     "end_time": "2025-03-10T18:35:12.839086Z",
     "start_time": "2025-03-10T18:35:12.835018Z"
    }
   },
   "cell_type": "code",
   "source": [
    "def calculate_expression(expression):\n",
    "    \"\"\"\n",
    "    Вычисляет математическое выражение.\n",
    "    Args:\n",
    "        expression: Строка, содержащая выражение.\n",
    "    Returns:\n",
    "        Результат вычисления (число) или None, если произошла ошибка.\n",
    "    \"\"\"\n",
    "    try:\n",
    "        # Заменяем символы операций на корректные для Python\n",
    "        expression = expression.replace('×', '*').replace('−', '-')\n",
    "        # Удаляем лишние пробелы\n",
    "        expression = re.sub(r'\\s+', '', expression)  # Удаляем все пробельные символы\n",
    "        # result:tuple = ast.literal_eval(expression)\n",
    "        result: tuple = eval(expression)\n",
    "        return result\n",
    "    except Exception as e:\n",
    "        return None, str(e)"
   ],
   "id": "50934094ac591ccf",
   "outputs": [],
   "execution_count": 5
  },
  {
   "metadata": {
    "ExecuteTime": {
     "end_time": "2025-03-10T18:35:12.888252Z",
     "start_time": "2025-03-10T18:35:12.884057Z"
    }
   },
   "cell_type": "code",
   "source": [
    "for i, expression in enumerate(expressions):\n",
    "    result = calculate_expression(expression)\n",
    "    print(result)"
   ],
   "id": "4f7945691976494f",
   "outputs": [
    {
     "name": "stdout",
     "output_type": "stream",
     "text": [
      "5\n",
      "-20\n",
      "(None, \"name 'a' is not defined\")\n"
     ]
    }
   ],
   "execution_count": 6
  },
  {
   "metadata": {
    "ExecuteTime": {
     "end_time": "2025-03-10T18:35:12.947957Z",
     "start_time": "2025-03-10T18:35:12.944316Z"
    }
   },
   "cell_type": "code",
   "source": [
    "def write_results_to_file(filename, results:list):\n",
    "    \"\"\"\n",
    "    Записывает результаты вычислений в файл.\n",
    "    Args:\n",
    "        filename: Имя файла для записи результатов.\n",
    "        results: Список кортежей (номер строки, результат).\n",
    "    \"\"\"\n",
    "    try:\n",
    "        with open(filename, 'w', encoding='utf-8') as f:\n",
    "            for line_number, result in results:\n",
    "                f.write(f\"{line_number} {result}\\n\")\n",
    "    except Exception as e:\n",
    "        print(f\"Ошибка при записи в файл {filename}: {e}\")"
   ],
   "id": "63a08eaccd93aac2",
   "outputs": [],
   "execution_count": 7
  },
  {
   "metadata": {
    "ExecuteTime": {
     "end_time": "2025-03-10T18:35:12.997855Z",
     "start_time": "2025-03-10T18:35:12.993321Z"
    }
   },
   "cell_type": "code",
   "source": [
    "def write_errors_to_file(filename, errors:list):\n",
    "    \"\"\"\n",
    "    Записывает информацию об ошибках в файл.\n",
    "    Args:\n",
    "        filename: Имя файла для записи ошибок.\n",
    "        errors: Список кортежей (номер строки, сообщение об ошибке).\n",
    "    \"\"\"\n",
    "    try:\n",
    "        with open(filename, 'w', encoding='utf-8') as f:\n",
    "            for line_number, error_message in errors:\n",
    "                f.write(f\"{line_number} {error_message}\\n\")\n",
    "    except Exception as e:\n",
    "        print(f\"Ошибка при записи в файл {filename}: {e}\")"
   ],
   "id": "10ecb1c18aa5900a",
   "outputs": [],
   "execution_count": 8
  },
  {
   "metadata": {
    "ExecuteTime": {
     "end_time": "2025-03-10T18:35:13.046929Z",
     "start_time": "2025-03-10T18:35:13.043033Z"
    }
   },
   "cell_type": "code",
   "source": [
    "if expressions is None:\n",
    "    print(\"Программа завершена. Файл пустой или не существует.\")\n",
    "\n",
    "results = []\n",
    "errors = []\n",
    "\n",
    "for i, expression in enumerate(expressions):\n",
    "    result = calculate_expression(expression)\n",
    "    if result is not None and not isinstance(result, tuple):\n",
    "        results.append((i + 1, result))\n",
    "    else:\n",
    "        errors.append((i + 1, result[1]))"
   ],
   "id": "fd10f2780ffc111d",
   "outputs": [],
   "execution_count": 9
  },
  {
   "metadata": {
    "ExecuteTime": {
     "end_time": "2025-03-10T18:35:13.097525Z",
     "start_time": "2025-03-10T18:35:13.094145Z"
    }
   },
   "cell_type": "code",
   "source": [
    "print(\"Результаты вычислений:\", results)\n",
    "print(\"Ошибки при вычислениях:\", errors)"
   ],
   "id": "704e7b5a67cb7250",
   "outputs": [
    {
     "name": "stdout",
     "output_type": "stream",
     "text": [
      "Результаты вычислений: [(1, 5), (2, -20)]\n",
      "Ошибки при вычислениях: [(3, \"name 'a' is not defined\")]\n"
     ]
    }
   ],
   "execution_count": 10
  },
  {
   "metadata": {
    "ExecuteTime": {
     "end_time": "2025-03-10T18:35:13.147682Z",
     "start_time": "2025-03-10T18:35:13.144190Z"
    }
   },
   "cell_type": "code",
   "source": [
    "write_results_to_file(\"results.txt\", results)\n",
    "write_errors_to_file(\"errors.txt\", errors)"
   ],
   "id": "afe8e394a746f1be",
   "outputs": [],
   "execution_count": 11
  },
  {
   "metadata": {
    "ExecuteTime": {
     "end_time": "2025-03-10T18:35:13.198307Z",
     "start_time": "2025-03-10T18:35:13.194672Z"
    }
   },
   "cell_type": "code",
   "source": [
    "print(\"Результаты вычислений записаны в файл results.txt\")\n",
    "if errors:\n",
    "    print(\"Ошибки при вычислениях записаны в файл errors.txt\")\n",
    "    print(f\"Всего ошибок: {len(errors)}\")"
   ],
   "id": "461271500832fc38",
   "outputs": [
    {
     "name": "stdout",
     "output_type": "stream",
     "text": [
      "Результаты вычислений записаны в файл results.txt\n",
      "Ошибки при вычислениях записаны в файл errors.txt\n",
      "Всего ошибок: 1\n"
     ]
    }
   ],
   "execution_count": 12
  }
 ],
 "metadata": {
  "kernelspec": {
   "display_name": "Python 3",
   "language": "python",
   "name": "python3"
  },
  "language_info": {
   "codemirror_mode": {
    "name": "ipython",
    "version": 2
   },
   "file_extension": ".py",
   "mimetype": "text/x-python",
   "name": "python",
   "nbconvert_exporter": "python",
   "pygments_lexer": "ipython2",
   "version": "2.7.6"
  }
 },
 "nbformat": 4,
 "nbformat_minor": 5
}
