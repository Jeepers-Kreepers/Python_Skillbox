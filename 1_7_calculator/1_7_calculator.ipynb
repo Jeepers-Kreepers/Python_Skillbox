{
 "cells": [
  {
   "cell_type": "code",
   "id": "initial_id",
   "metadata": {
    "collapsed": true,
    "ExecuteTime": {
     "end_time": "2025-02-27T16:33:36.011579Z",
     "start_time": "2025-02-27T16:33:36.008986Z"
    }
   },
   "source": "import re",
   "outputs": [],
   "execution_count": 24
  },
  {
   "metadata": {
    "ExecuteTime": {
     "end_time": "2025-02-27T16:33:36.045530Z",
     "start_time": "2025-02-27T16:33:36.042157Z"
    }
   },
   "cell_type": "code",
   "source": [
    "def read_expressions_from_file(filename):\n",
    "    \"\"\"\n",
    "    Читает выражения из файла и возвращает независимо он наличия ошибок.\n",
    "    Args:       filename: Имя файла с выражениями.\n",
    "    Returns:    Список выражений.\n",
    "    \"\"\"\n",
    "    try:\n",
    "        with open(filename, 'r', encoding='utf-8') as f:\n",
    "            expressions = [line.strip() for line in f]\n",
    "        return expressions\n",
    "    except FileNotFoundError:\n",
    "        print(f\"Ошибка: Файл {filename} не найден.\")\n",
    "        return None"
   ],
   "id": "ffd92fed3afb10f1",
   "outputs": [],
   "execution_count": 25
  },
  {
   "metadata": {
    "ExecuteTime": {
     "end_time": "2025-02-27T16:33:49.406982Z",
     "start_time": "2025-02-27T16:33:36.102540Z"
    }
   },
   "cell_type": "code",
   "source": [
    "input_filename = input(\"Укажите имя файла с выражениями: \")\n",
    "expressions = read_expressions_from_file(input_filename)"
   ],
   "id": "ad374f147bc26394",
   "outputs": [],
   "execution_count": 26
  },
  {
   "metadata": {
    "ExecuteTime": {
     "end_time": "2025-02-27T16:33:49.453210Z",
     "start_time": "2025-02-27T16:33:49.449042Z"
    }
   },
   "cell_type": "code",
   "source": "expressions",
   "id": "cf10d2223991f6d1",
   "outputs": [
    {
     "data": {
      "text/plain": [
       "['2 + 3', '-5 * 4', 'a + 5']"
      ]
     },
     "execution_count": 27,
     "metadata": {},
     "output_type": "execute_result"
    }
   ],
   "execution_count": 27
  },
  {
   "metadata": {
    "ExecuteTime": {
     "end_time": "2025-02-27T16:33:49.510204Z",
     "start_time": "2025-02-27T16:33:49.506256Z"
    }
   },
   "cell_type": "code",
   "source": [
    "def calculate_expression(expression):\n",
    "    \"\"\"\n",
    "    Вычисляет математическое выражение.\n",
    "    Args:\n",
    "        expression: Строка, содержащая выражение.\n",
    "    Returns:\n",
    "        Результат вычисления (число) или None, если произошла ошибка.\n",
    "    \"\"\"\n",
    "    try:\n",
    "        # Заменяем символы операций на корректные для Python\n",
    "        expression = expression.replace('×', '*').replace('−', '-')\n",
    "        # Удаляем лишние пробелы\n",
    "        expression = re.sub(r'\\s+', '', expression)  # Удаляем все пробельные символы\n",
    "        # result:tuple = ast.literal_eval(expression)\n",
    "        result: tuple = eval(expression)\n",
    "        return result\n",
    "    except Exception as e:\n",
    "        return None, str(e)"
   ],
   "id": "50934094ac591ccf",
   "outputs": [],
   "execution_count": 28
  },
  {
   "metadata": {
    "ExecuteTime": {
     "end_time": "2025-02-27T16:33:49.569002Z",
     "start_time": "2025-02-27T16:33:49.565847Z"
    }
   },
   "cell_type": "code",
   "source": [
    "for i, expression in enumerate(expressions):\n",
    "    result = calculate_expression(expression)\n",
    "    print(result)"
   ],
   "id": "4f7945691976494f",
   "outputs": [
    {
     "name": "stdout",
     "output_type": "stream",
     "text": [
      "5\n",
      "-20\n",
      "(None, \"name 'a' is not defined\")\n"
     ]
    }
   ],
   "execution_count": 29
  },
  {
   "metadata": {
    "ExecuteTime": {
     "end_time": "2025-02-27T16:33:49.630455Z",
     "start_time": "2025-02-27T16:33:49.626787Z"
    }
   },
   "cell_type": "code",
   "source": [
    "def write_results_to_file(filename, results:list):\n",
    "    \"\"\"\n",
    "    Записывает результаты вычислений в файл.\n",
    "    Args:\n",
    "        filename: Имя файла для записи результатов.\n",
    "        results: Список кортежей (номер строки, результат).\n",
    "    \"\"\"\n",
    "    try:\n",
    "        with open(filename, 'w', encoding='utf-8') as f:\n",
    "            for line_number, result in results:\n",
    "                f.write(f\"{line_number} {result}\\n\")\n",
    "    except Exception as e:\n",
    "        print(f\"Ошибка при записи в файл {filename}: {e}\")"
   ],
   "id": "63a08eaccd93aac2",
   "outputs": [],
   "execution_count": 30
  },
  {
   "metadata": {
    "ExecuteTime": {
     "end_time": "2025-02-27T16:43:06.986108Z",
     "start_time": "2025-02-27T16:43:06.982565Z"
    }
   },
   "cell_type": "code",
   "source": [
    "def write_errors_to_file(filename, errors:list):\n",
    "    \"\"\"\n",
    "    Записывает информацию об ошибках в файл.\n",
    "    Args:\n",
    "        filename: Имя файла для записи ошибок.\n",
    "        errors: Список кортежей (номер строки, сообщение об ошибке).\n",
    "    \"\"\"\n",
    "    try:\n",
    "        with open(filename, 'w', encoding='utf-8') as f:\n",
    "            for line_number, error_message in errors:\n",
    "                f.write(f\"{line_number} {error_message}\\n\")\n",
    "    except Exception as e:\n",
    "        print(f\"Ошибка при записи в файл {filename}: {e}\")"
   ],
   "id": "10ecb1c18aa5900a",
   "outputs": [],
   "execution_count": 38
  },
  {
   "metadata": {
    "ExecuteTime": {
     "end_time": "2025-02-27T16:43:09.692389Z",
     "start_time": "2025-02-27T16:43:09.688906Z"
    }
   },
   "cell_type": "code",
   "source": [
    "if expressions is None:\n",
    "    print(\"Программа завершена. Файл пустой или не существует.\")\n",
    "\n",
    "results = []\n",
    "errors = []\n",
    "\n",
    "for i, expression in enumerate(expressions):\n",
    "    result = calculate_expression(expression)\n",
    "    if result is not None and not isinstance(result, tuple):\n",
    "        results.append((i + 1, result))\n",
    "    else:\n",
    "        errors.append((i + 1, result[1]))"
   ],
   "id": "fd10f2780ffc111d",
   "outputs": [],
   "execution_count": 39
  },
  {
   "metadata": {
    "ExecuteTime": {
     "end_time": "2025-02-27T16:43:10.941091Z",
     "start_time": "2025-02-27T16:43:10.937779Z"
    }
   },
   "cell_type": "code",
   "source": [
    "print(\"Результаты вычислений:\", results)\n",
    "print(\"Ошибки при вычислениях:\", errors)"
   ],
   "id": "704e7b5a67cb7250",
   "outputs": [
    {
     "name": "stdout",
     "output_type": "stream",
     "text": [
      "Результаты вычислений: [(1, 5), (2, -20)]\n",
      "Ошибки при вычислениях: [(3, \"name 'a' is not defined\")]\n"
     ]
    }
   ],
   "execution_count": 40
  },
  {
   "metadata": {
    "ExecuteTime": {
     "end_time": "2025-02-27T16:43:13.078431Z",
     "start_time": "2025-02-27T16:43:13.075403Z"
    }
   },
   "cell_type": "code",
   "source": [
    "write_results_to_file(\"results.txt\", results)\n",
    "write_errors_to_file(\"errors.txt\", errors)"
   ],
   "id": "afe8e394a746f1be",
   "outputs": [],
   "execution_count": 41
  },
  {
   "metadata": {
    "ExecuteTime": {
     "end_time": "2025-02-27T16:43:42.823537Z",
     "start_time": "2025-02-27T16:43:42.820266Z"
    }
   },
   "cell_type": "code",
   "source": [
    "print(\"Результаты вычислений записаны в файл results.txt\")\n",
    "if errors:\n",
    "    print(\"Ошибки при вычислениях записаны в файл errors.txt\")\n",
    "    print(f\"Всего ошибок: {len(errors)}\")"
   ],
   "id": "461271500832fc38",
   "outputs": [
    {
     "name": "stdout",
     "output_type": "stream",
     "text": [
      "Результаты вычислений записаны в файл results.txt\n",
      "Ошибки при вычислениях записаны в файл errors.txt\n",
      "Всего ошибок: 1\n"
     ]
    }
   ],
   "execution_count": 42
  }
 ],
 "metadata": {
  "kernelspec": {
   "display_name": "Python 3",
   "language": "python",
   "name": "python3"
  },
  "language_info": {
   "codemirror_mode": {
    "name": "ipython",
    "version": 2
   },
   "file_extension": ".py",
   "mimetype": "text/x-python",
   "name": "python",
   "nbconvert_exporter": "python",
   "pygments_lexer": "ipython2",
   "version": "2.7.6"
  }
 },
 "nbformat": 4,
 "nbformat_minor": 5
}
