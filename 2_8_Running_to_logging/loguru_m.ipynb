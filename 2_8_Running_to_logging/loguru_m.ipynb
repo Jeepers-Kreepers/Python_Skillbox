{
 "cells": [
  {
   "cell_type": "code",
   "id": "initial_id",
   "metadata": {
    "collapsed": true
   },
   "source": [
    "from loguru import logger\n",
    "import sys"
   ],
   "outputs": [],
   "execution_count": null
  },
  {
   "metadata": {},
   "cell_type": "code",
   "source": [
    "logger.info('начинаем цикл')\n",
    "\n",
    "result = 0\n",
    "for i in range(5):\n",
    "    logger.debug(f'Очередная итерация = {i}')\n",
    "    result += i\n",
    "\n",
    "logger.info('заканчиваем цикл')"
   ],
   "id": "d6ed18a3605d49bb",
   "outputs": [],
   "execution_count": null
  },
  {
   "metadata": {},
   "cell_type": "code",
   "source": "logger.remove(0) # удаление дефолтного обработчика",
   "id": "a08c1c77685064a8",
   "outputs": [],
   "execution_count": null
  },
  {
   "metadata": {},
   "cell_type": "code",
   "source": "logger.add(sys.stderr, format='{time} {level} {message}', level='INFO') # добавление обработчика в консоль",
   "id": "f6b7d4d97e348839",
   "outputs": [],
   "execution_count": null
  },
  {
   "metadata": {},
   "cell_type": "code",
   "source": "logger.add('some.log', format='{time} {level} {message}', encoding='utf-8', level='DEBUG') # добавление обработчика в файл",
   "id": "3226cc24d6184c03",
   "outputs": [],
   "execution_count": null
  },
  {
   "metadata": {},
   "cell_type": "code",
   "source": [
    "logger.info('начинаем цикл')\n",
    "\n",
    "result = 0\n",
    "for i in range(5):\n",
    "    logger.debug(f'Очередная итерация = {i}')\n",
    "    result += i\n",
    "\n",
    "logger.info('заканчиваем цикл')"
   ],
   "id": "90f4d351e8aa536b",
   "outputs": [],
   "execution_count": null
  },
  {
   "metadata": {},
   "cell_type": "code",
   "source": "# %load some.log",
   "id": "f6873b820dedd18d",
   "outputs": [],
   "execution_count": null
  }
 ],
 "metadata": {
  "kernelspec": {
   "display_name": "Python 3",
   "language": "python",
   "name": "python3"
  },
  "language_info": {
   "codemirror_mode": {
    "name": "ipython",
    "version": 2
   },
   "file_extension": ".py",
   "mimetype": "text/x-python",
   "name": "python",
   "nbconvert_exporter": "python",
   "pygments_lexer": "ipython2",
   "version": "2.7.6"
  }
 },
 "nbformat": 4,
 "nbformat_minor": 5
}
