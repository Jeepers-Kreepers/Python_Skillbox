{
 "cells": [
  {
   "cell_type": "code",
   "execution_count": null,
   "id": "initial_id",
   "metadata": {
    "collapsed": true
   },
   "outputs": [],
   "source": [
    "import math\n",
    "\n",
    "def sieve_of_eratosthenes(limit):\n",
    "    \"\"\"\n",
    "    Находит простые числа до заданного предела (используя решето Эратосфена).\n",
    "    Args:\n",
    "        limit: Максимальное число для поиска простых чисел.\n",
    "    Returns:\n",
    "        Список простых чисел, не превышающих limit.\n",
    "    \"\"\"\n",
    "    if limit < 2:\n",
    "        return []\n",
    "\n",
    "    # Создаем список boolean значений, представляющих числа от 0 до limit\n",
    "    # Изначально помечаем все как простые (True), кроме 0 и 1\n",
    "    is_prime = [True] * (limit + 1)\n",
    "    is_prime[0] = is_prime[1] = False\n",
    "    # print(is_prime)\n",
    "\n",
    "    # Оптимизация: Перебираем делители только до корня из limit\n",
    "    for p in range(2, int(math.sqrt(limit)) + 1):\n",
    "        if is_prime[p]:\n",
    "            # Отмечаем кратные p как непростые (False), начиная с p*p\n",
    "            # Оптимизация:  Начинаем с p*p, потому что все меньшие кратные p\n",
    "            # уже были отмечены предыдущими простыми числами.\n",
    "            for i in range(p * p, limit + 1, p):\n",
    "                is_prime[i] = False\n",
    "\n",
    "    # Собираем простые числа в список\n",
    "    primes = [p for p in range(2, limit + 1) if is_prime[p]]\n",
    "    return primes\n",
    "\n",
    "\n",
    "def print_primes_by_ten(primes):\n",
    "    \"\"\"\n",
    "    Выводит простые числа, разбивая их на десятки.\n",
    "\n",
    "    Args:\n",
    "        primes: Список простых чисел.\n",
    "    \"\"\"\n",
    "    print(\"Простые числа:\")\n",
    "    for i in range(0, len(primes), 4):  # изменяем значение на 4, чтоб числа выводились по одному десятку\n",
    "        print(\", \".join(map(str, primes[i:i + 4])))  # изменяем значение на 4, чтоб числа выводились по одному десятку\n",
    "        # print(f\"\") #добавил пустую строку для более красивого вывода\n",
    "\n",
    "\n",
    "# Основная часть программы\n",
    "limit = int(input(\"Введите максимальное число: \"))\n",
    "limit = min(limit, 1000)  # Ограничиваем предел 1000\n",
    "primes = sieve_of_eratosthenes(limit)\n",
    "print_primes_by_ten(primes)"
   ]
  }
 ],
 "metadata": {
  "kernelspec": {
   "display_name": "Python 3",
   "language": "python",
   "name": "python3"
  },
  "language_info": {
   "codemirror_mode": {
    "name": "ipython",
    "version": 2
   },
   "file_extension": ".py",
   "mimetype": "text/x-python",
   "name": "python",
   "nbconvert_exporter": "python",
   "pygments_lexer": "ipython2",
   "version": "2.7.6"
  }
 },
 "nbformat": 4,
 "nbformat_minor": 5
}
