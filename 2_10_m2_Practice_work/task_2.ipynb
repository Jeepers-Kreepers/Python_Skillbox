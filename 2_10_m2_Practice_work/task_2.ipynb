{
 "cells": [
  {
   "metadata": {},
   "cell_type": "markdown",
   "source": "Напишите функцию-генератор, которая возвращает очередной элемент, содержащий числа Фибоначчи в количестве, переданном в функцию. Если число не передано, то мы возвращаем бесконечную последовательность. Ограничьте искусственно вывод 100 элементов.",
   "id": "69dd6ce684441aa2"
  },
  {
   "metadata": {
    "ExecuteTime": {
     "end_time": "2025-03-09T15:35:39.579612Z",
     "start_time": "2025-03-09T15:35:39.573415Z"
    }
   },
   "cell_type": "code",
   "source": [
    "def get_fib_numbers(qty = None):\n",
    "    \"\"\"\n",
    "    Генератор чисел Фибоначчи.\n",
    "    Args:\n",
    "        qty (int):  Количество чисел Фибоначчи, которые необходимо сгенерировать.\n",
    "    Yields:\n",
    "        int: Следующее число Фибоначчи.\n",
    "    \"\"\"\n",
    "\n",
    "    a, b = 0, 1\n",
    "    count = 0\n",
    "\n",
    "    if qty is None:\n",
    "        raise ValueError(\"Количество не должно быть None.\")\n",
    "\n",
    "    else:\n",
    "        if not isinstance(qty, int) or qty <= 0:\n",
    "            raise ValueError(\"Количество должно быть положительным целым числом.\")\n",
    "\n",
    "    while count < qty and count < 100:\n",
    "        yield a\n",
    "        a, b = b, a + b\n",
    "        count += 1\n",
    "\n",
    "    return\n",
    "\n",
    "\n",
    "fib_numbers = list(get_fib_numbers(10))\n",
    "fib_numbers\n"
   ],
   "id": "1ac265d84ecdb754",
   "outputs": [
    {
     "data": {
      "text/plain": [
       "[0, 1, 1, 2, 3, 5, 8, 13, 21, 34]"
      ]
     },
     "execution_count": 176,
     "metadata": {},
     "output_type": "execute_result"
    }
   ],
   "execution_count": 176
  },
  {
   "metadata": {
    "ExecuteTime": {
     "end_time": "2025-03-09T13:29:46.806639Z",
     "start_time": "2025-03-09T13:29:46.803032Z"
    }
   },
   "cell_type": "code",
   "source": "get_fib_numbers(10)",
   "id": "c014b03b53bafcc6",
   "outputs": [
    {
     "data": {
      "text/plain": [
       "<generator object get_fib_numbers at 0x7f94a65376a0>"
      ]
     },
     "execution_count": 173,
     "metadata": {},
     "output_type": "execute_result"
    }
   ],
   "execution_count": 173
  },
  {
   "metadata": {
    "ExecuteTime": {
     "end_time": "2025-03-09T13:29:46.856974Z",
     "start_time": "2025-03-09T13:29:46.853412Z"
    }
   },
   "cell_type": "code",
   "source": "assert len(fib_numbers) == 10",
   "id": "1fc26064d3247432",
   "outputs": [],
   "execution_count": 174
  },
  {
   "metadata": {
    "ExecuteTime": {
     "end_time": "2025-03-09T13:29:46.906040Z",
     "start_time": "2025-03-09T13:29:46.902220Z"
    }
   },
   "cell_type": "code",
   "source": "print(fib_numbers)",
   "id": "b4fb0b14b06f5083",
   "outputs": [
    {
     "name": "stdout",
     "output_type": "stream",
     "text": [
      "[0, 1, 1, 2, 3, 5, 8, 13, 21, 34]\n"
     ]
    }
   ],
   "execution_count": 175
  }
 ],
 "metadata": {
  "kernelspec": {
   "display_name": "Python 3",
   "language": "python",
   "name": "python3"
  },
  "language_info": {
   "codemirror_mode": {
    "name": "ipython",
    "version": 2
   },
   "file_extension": ".py",
   "mimetype": "text/x-python",
   "name": "python",
   "nbconvert_exporter": "python",
   "pygments_lexer": "ipython2",
   "version": "2.7.6"
  }
 },
 "nbformat": 4,
 "nbformat_minor": 5
}
