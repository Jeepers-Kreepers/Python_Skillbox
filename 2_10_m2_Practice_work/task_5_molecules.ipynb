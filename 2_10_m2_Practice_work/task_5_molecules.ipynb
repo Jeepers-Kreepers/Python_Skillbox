{
 "cells": [
  {
   "metadata": {},
   "cell_type": "markdown",
   "source": "Посчитать молярную массу молекул, используя методы функционального программирования. Вывести значения в порядке возрастания молярной массы.",
   "id": "7667bfddbdca41a4"
  },
  {
   "metadata": {},
   "cell_type": "markdown",
   "source": [
    "* H (водород) — 1.008\n",
    "* O (кислород) — 15.999;\n",
    "* S (сера) — 32.066;\n",
    "* Na (натрий) — 22.990;\n",
    "* Cl (хлор) — 35.453;\n",
    "* K (калий) — 39.098."
   ],
   "id": "8a049c6a52f3eda"
  },
  {
   "metadata": {
    "ExecuteTime": {
     "end_time": "2025-03-10T18:02:20.839723Z",
     "start_time": "2025-03-10T18:02:20.834227Z"
    }
   },
   "cell_type": "code",
   "source": [
    "molecules = ['H2-S-O4', 'H2-O', 'NA-CL', 'H-CL', 'K-CL']\n",
    "elements = {'H': 1.008, 'O': 15.999, 'S': 32.066, 'Na': 22.990, 'Cl': 35.453, 'K': 39.098}\n",
    "\n",
    "\n",
    "def calculate_molar_mass(molecule) -> float:\n",
    "    \"\"\"\n",
    "    Вычисляет молярную массу молекулы.\n",
    "    Args:\n",
    "      molecule: Строка, представляющая молекулу (например, \"H2-O\").\n",
    "    Returns:\n",
    "      Молярная масса молекулы.\n",
    "    \"\"\"\n",
    "    parts = molecule.split('-')\n",
    "    total_mass = 0.0\n",
    "    for part in parts:\n",
    "        element = ''.join(filter(str.isalpha, part)).capitalize()  #Извлекаем символ элемента\n",
    "        count_str = ''.join(filter(str.isdigit, part))  # Извлекать количество атомов\n",
    "        count = int(count_str) if count_str else 1  # По умолчанию количество атомов 1, если не указано иное.\n",
    "        total_mass += elements[element] * count\n",
    "    return total_mass\n",
    "\n",
    "\n",
    "# Вычисляем молярные массы для каждой молекулы, используя map\n",
    "molar_masses = list(map(lambda molecule: (molecule, calculate_molar_mass(molecule)), molecules))\n",
    "\n",
    "# Сортируем молекулы по молярной массе, используя sorted и lambda\n",
    "sorted_molecules = sorted(molar_masses, key=lambda item: item[1])\n",
    "\n",
    "# Выводим отсортированные молекулы и их молярные массы\n",
    "for molecule, molar_mass in sorted_molecules:\n",
    "    print(f\"{molecule}: {molar_mass:.3f} г/моль\")"
   ],
   "id": "cfdb84bf0dbdd085",
   "outputs": [
    {
     "name": "stdout",
     "output_type": "stream",
     "text": [
      "H2-O: 18.015 г/моль\n",
      "H-CL: 36.461 г/моль\n",
      "NA-CL: 58.443 г/моль\n",
      "K-CL: 74.551 г/моль\n",
      "H2-S-O4: 98.078 г/моль\n"
     ]
    }
   ],
   "execution_count": 27
  }
 ],
 "metadata": {
  "kernelspec": {
   "display_name": "Python 3",
   "language": "python",
   "name": "python3"
  },
  "language_info": {
   "codemirror_mode": {
    "name": "ipython",
    "version": 2
   },
   "file_extension": ".py",
   "mimetype": "text/x-python",
   "name": "python",
   "nbconvert_exporter": "python",
   "pygments_lexer": "ipython2",
   "version": "2.7.6"
  }
 },
 "nbformat": 4,
 "nbformat_minor": 5
}
