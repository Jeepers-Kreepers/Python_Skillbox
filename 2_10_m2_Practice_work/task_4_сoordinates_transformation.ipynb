{
 "cells": [
  {
   "metadata": {
    "ExecuteTime": {
     "end_time": "2025-03-10T11:01:43.594050Z",
     "start_time": "2025-03-10T11:01:40.346127Z"
    }
   },
   "cell_type": "code",
   "source": [
    "import math\n",
    "\n",
    "def decart_to_polar(coordinates: str) -> tuple[float, float]:\n",
    "  \"\"\"\n",
    "  Преобразует координаты точки из декартовой системы координат в полярную,\n",
    "  согласно заданным правилам.\n",
    "\n",
    "  Args:\n",
    "    coordinates: Строка с декартовыми координатами в формате \"x;y\".\n",
    "\n",
    "  Returns:\n",
    "    Кортеж (rho, w), где:\n",
    "      rho: Полярный радиус (p).\n",
    "      w: Полярный угол (w) в радианах.\n",
    "  Raises:\n",
    "    ValueError: Если формат входных данных не соответствует \"x;y\".\n",
    "    ZeroDivisionError: Если x и y одновременно равны 0 (в этом случае угол не определен).\n",
    "  \"\"\"\n",
    "  try:\n",
    "    x_str, y_str = coordinates.split(';')\n",
    "    x = float(x_str)\n",
    "    y = float(y_str)\n",
    "  except ValueError:\n",
    "    raise ValueError(\"Неверный формат входных данных. Ожидается строка в формате 'x;y'.\")\n",
    "\n",
    "  if x == 0 and y == 0:\n",
    "      raise ZeroDivisionError(\"Угол не определен, так как x и y одновременно равны 0.\")\n",
    "\n",
    "  rhi = (x**2 + y**2)**0.5  # Полярный радиус\n",
    "\n",
    "  if x > 0:\n",
    "    angle_radians = math.atan(y / x)\n",
    "  elif x < 0 and y >= 0:\n",
    "    angle_radians = math.pi + math.atan(y / x)\n",
    "  elif x < 0 and y <= 0:\n",
    "    angle_radians = -math.pi + math.atan(y / x)\n",
    "  elif x == 0 and y > 0:\n",
    "    angle_radians = math.pi / 2\n",
    "  elif x == 0 and y < 0:\n",
    "    angle_radians = -math.pi / 2\n",
    "  else:  # x == 0 and y == 0 (Уже должен быть пойман ZerodivisionError выше)\n",
    "      raise ZeroDivisionError(\"Угол не определен, так как x и y одновременно равны 0.\")\n",
    "\n",
    "\n",
    "  return rhi, angle_radians\n",
    "\n",
    "\n",
    "# Пример использования\n",
    "coordinates = input(\"Введите декартовы координаты в виде x;y: \")\n",
    "try:\n",
    "  rhi, angle_radians = decart_to_polar(coordinates)\n",
    "  print(f\"Полярный радиус: radius={rhi:.3f}\")\n",
    "  print(f\"Полярный угол в радианах: phi={angle_radians:.3f}\")\n",
    "  print(f\"Полярный угол в градусах: {math.degrees(angle_radians):.3f}\")\n",
    "\n",
    "except ValueError as e:\n",
    "  print(f\"Ошибка: {e}\")\n",
    "except ZeroDivisionError as e:\n",
    "    print(f\"Ошибка: {e}\")"
   ],
   "id": "13ac35b378d9b624",
   "outputs": [
    {
     "name": "stdout",
     "output_type": "stream",
     "text": [
      "Полярный радиус: radius=34.482\n",
      "Полярный угол в радианах: phi=-1.277\n",
      "Полярный угол в градусах: -73.142\n"
     ]
    }
   ],
   "execution_count": 8
  }
 ],
 "metadata": {
  "kernelspec": {
   "display_name": "Python 3",
   "language": "python",
   "name": "python3"
  },
  "language_info": {
   "codemirror_mode": {
    "name": "ipython",
    "version": 2
   },
   "file_extension": ".py",
   "mimetype": "text/x-python",
   "name": "python",
   "nbconvert_exporter": "python",
   "pygments_lexer": "ipython2",
   "version": "2.7.6"
  }
 },
 "nbformat": 4,
 "nbformat_minor": 5
}
