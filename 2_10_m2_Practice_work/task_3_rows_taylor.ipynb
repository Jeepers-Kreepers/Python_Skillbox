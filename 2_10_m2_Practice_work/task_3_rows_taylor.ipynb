{
 "cells": [
  {
   "metadata": {},
   "cell_type": "markdown",
   "source": "Напишите функции-генераторы, которые выводят элементы разложения sin, cos и exp в ряды Тейлора. После, используя функциональный подход, найдите сумму членов ряда и сравните её со значением вычисления функции из модуля math. Выведите разницу в экспоненциальном представлении.",
   "id": "69dd6ce684441aa2"
  },
  {
   "metadata": {
    "ExecuteTime": {
     "end_time": "2025-04-04T13:55:35.676629Z",
     "start_time": "2025-04-04T13:55:35.667027Z"
    }
   },
   "cell_type": "code",
   "source": [
    "import math\n",
    "\n",
    "\n",
    "def taylor_sin(x, n):\n",
    "    \"\"\"\n",
    "    Генератор для элементов разложения sin(x) в ряд Тейлора.\n",
    "\n",
    "    Args:\n",
    "        x: Значение угла в радианах.\n",
    "        n: Количество элементов ряда.\n",
    "    Yields:\n",
    "        Значения элементов ряда Тейлора для sin(x).\n",
    "    \"\"\"\n",
    "    term = x\n",
    "    yield term\n",
    "    for k in range(1, n):\n",
    "        term *= -x ** 2 / ((2 * k + 1) * (2 * k))\n",
    "        yield term\n",
    "\n",
    "\n",
    "def taylor_cos(x, n):\n",
    "    \"\"\"\n",
    "    Генератор для элементов разложения cos(x) в ряд Тейлора.\n",
    "\n",
    "    Args:\n",
    "        x: Значение угла в радианах.\n",
    "        n: Количество элементов ряда.\n",
    "    Yields:\n",
    "        Значения элементов ряда Тейлора для cos(x).\n",
    "    \"\"\"\n",
    "    term = 1\n",
    "    yield term\n",
    "    for k in range(1, n):\n",
    "        term *= -x**2 / (2*k * (2*k-1))\n",
    "        yield term\n",
    "\n",
    "\n",
    "def taylor_exp(x, n):\n",
    "    \"\"\"\n",
    "    Генератор для элементов разложения exp(x) в ряд Тейлора.\n",
    "\n",
    "    Args:\n",
    "        x: Значение угла в радианах.\n",
    "        n: Количество элементов ряда.\n",
    "    Yields:\n",
    "        Значения элементов ряда Тейлора для exp(x).\n",
    "    \"\"\"\n",
    "    term = 1\n",
    "    yield term\n",
    "    for k in range(1, n):\n",
    "        term *= x / k\n",
    "        yield term\n",
    "\n",
    "\n",
    "def sum_taylor_series(generator):\n",
    "    \"\"\"\n",
    "    Вычисляет сумму элементов ряда Тейлора, используя генератор.\n",
    "\n",
    "    Args:\n",
    "        generator: Генератор, выдающий элементы ряда Тейлора.\n",
    "    Returns:\n",
    "        Сумма элементов ряда.\n",
    "    \"\"\"\n",
    "    return sum(generator)\n",
    "\n",
    "\n",
    "\n",
    "# x = float(input(\"Введите значение угла в радианах: \"))\n",
    "# n = int(input(\"Введите количество элементов ряда: \"))\n",
    "x = 1\n",
    "n = 5\n",
    "\n",
    "# Sin\n",
    "sin_taylor = sum_taylor_series(taylor_sin(x, n))\n",
    "sin_math = math.sin(x)\n",
    "sin_diff = sin_taylor - sin_math\n",
    "print(f\"Sin(x): Тейлор = {sin_taylor}, math.sin(x) = {sin_math}, Разница = {sin_diff:.1e}\")\n",
    "\n",
    "# Cos\n",
    "cos_taylor = sum_taylor_series(taylor_cos(x, n))\n",
    "cos_math = math.cos(x)\n",
    "cos_diff = cos_taylor - cos_math\n",
    "print(f\"Cos(x): Тейлор = {cos_taylor}, math.cos(x) = {cos_math}, Разница = {cos_diff:.1e}\")\n",
    "\n",
    "# Exp\n",
    "exp_taylor = sum_taylor_series(taylor_exp(x, n))\n",
    "exp_math = math.exp(x)\n",
    "exp_diff = exp_taylor - exp_math\n",
    "print(f\"Exp(x): Тейлор = {exp_taylor}, math.exp(x) = {exp_math}, Разница = {exp_diff:.1e}\")"
   ],
   "id": "1ac265d84ecdb754",
   "outputs": [
    {
     "name": "stdout",
     "output_type": "stream",
     "text": [
      "Sin(x): Тейлор = 0.8414710097001764, math.sin(x) = 0.8414709848078965, Разница = 2.5e-08\n",
      "Cos(x): Тейлор = 0.5403025793650793, math.cos(x) = 0.5403023058681398, Разница = 2.7e-07\n",
      "Exp(x): Тейлор = 2.708333333333333, math.exp(x) = 2.718281828459045, Разница = -9.9e-03\n"
     ]
    }
   ],
   "execution_count": 1
  }
 ],
 "metadata": {
  "kernelspec": {
   "display_name": "Python 3",
   "language": "python",
   "name": "python3"
  },
  "language_info": {
   "codemirror_mode": {
    "name": "ipython",
    "version": 2
   },
   "file_extension": ".py",
   "mimetype": "text/x-python",
   "name": "python",
   "nbconvert_exporter": "python",
   "pygments_lexer": "ipython2",
   "version": "2.7.6"
  }
 },
 "nbformat": 4,
 "nbformat_minor": 5
}
