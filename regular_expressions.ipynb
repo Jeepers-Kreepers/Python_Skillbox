{
 "cells": [
  {
   "metadata": {},
   "cell_type": "markdown",
   "source": "Примеры использования регулярных выражений",
   "id": "6d5f59eb2ba3e865"
  },
  {
   "metadata": {
    "collapsed": true,
    "ExecuteTime": {
     "end_time": "2025-02-26T12:52:46.921363Z",
     "start_time": "2025-02-26T12:52:46.916291Z"
    }
   },
   "cell_type": "code",
   "outputs": [],
   "execution_count": 1,
   "source": "import re",
   "id": "initial_id"
  },
  {
   "metadata": {
    "ExecuteTime": {
     "end_time": "2025-02-26T12:52:46.975767Z",
     "start_time": "2025-02-26T12:52:46.971855Z"
    }
   },
   "cell_type": "code",
   "source": [
    "# 1. Поиск первого соответствия:\n",
    "text = \"Hello, world! My email is test@example.com\"\n",
    "match = re.search(r'\\w+@\\w+\\.\\w+', text)  # Шаблон для поиска email\n",
    "if match:\n",
    "    print(\"Email:\", match.group(0))  # Вывод: Email: test@example.com"
   ],
   "id": "31d4dc3705a10362",
   "outputs": [
    {
     "name": "stdout",
     "output_type": "stream",
     "text": [
      "Email: test@example.com\n"
     ]
    }
   ],
   "execution_count": 2
  },
  {
   "metadata": {
    "ExecuteTime": {
     "end_time": "2025-02-26T12:52:47.173671Z",
     "start_time": "2025-02-26T12:52:47.170321Z"
    }
   },
   "cell_type": "code",
   "source": [
    "# 2. Поиск всех соответствий:\n",
    "text = \"apple, banana, apple, orange\"\n",
    "matches = re.findall(r'apple', text)\n",
    "print(\"Matches:\", matches)  # Вывод: Matches: ['apple', 'apple']"
   ],
   "id": "ced498d446889207",
   "outputs": [
    {
     "name": "stdout",
     "output_type": "stream",
     "text": [
      "Matches: ['apple', 'apple']\n"
     ]
    }
   ],
   "execution_count": 3
  },
  {
   "metadata": {
    "ExecuteTime": {
     "end_time": "2025-02-26T12:52:47.224036Z",
     "start_time": "2025-02-26T12:52:47.220145Z"
    }
   },
   "cell_type": "code",
   "source": [
    "# 3. Замена подстроки:\n",
    "text = \"Hello, world!\"\n",
    "new_text = re.sub(r'world', 'Python', text)\n",
    "print(\"New text:\", new_text)  # Вывод: New text: Hello, Python!"
   ],
   "id": "e6b392f06f3ca719",
   "outputs": [
    {
     "name": "stdout",
     "output_type": "stream",
     "text": [
      "New text: Hello, Python!\n"
     ]
    }
   ],
   "execution_count": 4
  },
  {
   "metadata": {
    "ExecuteTime": {
     "end_time": "2025-02-26T12:52:47.283040Z",
     "start_time": "2025-02-26T12:52:47.279165Z"
    }
   },
   "cell_type": "code",
   "source": [
    "# 4. Разбиение строки:\n",
    "text = \"apple, banana,orange\"\n",
    "parts = re.split(r',', text)\n",
    "print(\"Parts:\", parts)  # Вывод: Parts: ['apple', ' banana', 'orange']"
   ],
   "id": "5496284e79dbb128",
   "outputs": [
    {
     "name": "stdout",
     "output_type": "stream",
     "text": [
      "Parts: ['apple', ' banana', 'orange']\n"
     ]
    }
   ],
   "execution_count": 5
  },
  {
   "metadata": {
    "ExecuteTime": {
     "end_time": "2025-02-26T12:52:47.332286Z",
     "start_time": "2025-02-26T12:52:47.328036Z"
    }
   },
   "cell_type": "code",
   "source": [
    "# 5.  Поиск с использованием символьных классов:\n",
    "text = \"abc123def\"\n",
    "match = re.search(r'\\d+', text)  # Найти последовательность цифр\n",
    "if match:\n",
    "    print(\"Digits:\", match.group(0))  # Вывод: Digits: 123"
   ],
   "id": "4dc5c450ac74250d",
   "outputs": [
    {
     "name": "stdout",
     "output_type": "stream",
     "text": [
      "Digits: 123\n"
     ]
    }
   ],
   "execution_count": 6
  },
  {
   "metadata": {
    "ExecuteTime": {
     "end_time": "2025-02-26T12:52:47.392335Z",
     "start_time": "2025-02-26T12:52:47.388059Z"
    }
   },
   "cell_type": "code",
   "source": [
    "# 6. Поиск с использованием групп:\n",
    "text = \"Date: 2023-10-27\"\n",
    "match = re.search(r'(\\d{4})-(\\d{2})-(\\d{2})', text)\n",
    "if match:\n",
    "    year = match.group(1)\n",
    "    month = match.group(2)\n",
    "    day = match.group(3)\n",
    "    print(\"Year:\", year)  # Вывод: Year: 2023\n",
    "    print(\"Month:\", month)  # Вывод: Month: 10\n",
    "    print(\"Day:\", day)  # Вывод: Day: 27"
   ],
   "id": "788ff0ce0c186c6e",
   "outputs": [
    {
     "name": "stdout",
     "output_type": "stream",
     "text": [
      "Year: 2023\n",
      "Month: 10\n",
      "Day: 27\n"
     ]
    }
   ],
   "execution_count": 7
  },
  {
   "metadata": {
    "ExecuteTime": {
     "end_time": "2025-02-26T12:52:47.452568Z",
     "start_time": "2025-02-26T12:52:47.448617Z"
    }
   },
   "cell_type": "code",
   "source": [
    "# 7. Поиск с помощью re.match()\n",
    "text = \"123abc\"\n",
    "match = re.match(r'\\d+', text) #Соответствует началу строки цифрам\n",
    "if match:\n",
    "    print(\"Match at beginning:\", match.group(0))  # Вывод: Match at beginning: 123"
   ],
   "id": "22165871f1dfe697",
   "outputs": [
    {
     "name": "stdout",
     "output_type": "stream",
     "text": [
      "Match at beginning: 123\n"
     ]
    }
   ],
   "execution_count": 8
  },
  {
   "metadata": {
    "ExecuteTime": {
     "end_time": "2025-02-26T12:52:47.502425Z",
     "start_time": "2025-02-26T12:52:47.498406Z"
    }
   },
   "cell_type": "code",
   "source": [
    "text2 = \"abc123\"\n",
    "match2 = re.match(r'\\d+', text2) # не соответсвует - нет цифр в начале строки\n",
    "if not match2:\n",
    "    print(\"No match at beginning\") # Вывод: No match at beginning\n"
   ],
   "id": "527daef93c79ad89",
   "outputs": [
    {
     "name": "stdout",
     "output_type": "stream",
     "text": [
      "No match at beginning\n"
     ]
    }
   ],
   "execution_count": 9
  },
  {
   "metadata": {
    "ExecuteTime": {
     "end_time": "2025-02-26T12:52:47.617760Z",
     "start_time": "2025-02-26T12:52:47.613715Z"
    }
   },
   "cell_type": "code",
   "source": [
    "# 8. Поиск с помощью re.fullmatch()\n",
    "text = \"123\"\n",
    "match = re.fullmatch(r'\\d+', text) #Соответствует, т.к. вся строка - цифры\n",
    "if match:\n",
    "    print(\"Full match:\", match.group(0)) # Вывод: Full match: 123"
   ],
   "id": "2202cc4a35d835ca",
   "outputs": [
    {
     "name": "stdout",
     "output_type": "stream",
     "text": [
      "Full match: 123\n"
     ]
    }
   ],
   "execution_count": 10
  },
  {
   "metadata": {
    "ExecuteTime": {
     "end_time": "2025-02-26T12:52:47.743858Z",
     "start_time": "2025-02-26T12:52:47.740076Z"
    }
   },
   "cell_type": "code",
   "source": [
    "text2 = \"123abc\"\n",
    "match2 = re.fullmatch(r'\\d+', text2) # не соответствует, т.к. не вся строка - цифры\n",
    "if not match2:\n",
    "    print(\"No full match\") # Вывод: No full match"
   ],
   "id": "1e860d51dc8b3338",
   "outputs": [
    {
     "name": "stdout",
     "output_type": "stream",
     "text": [
      "No full match\n"
     ]
    }
   ],
   "execution_count": 11
  }
 ],
 "metadata": {
  "kernelspec": {
   "display_name": "Python 3",
   "language": "python",
   "name": "python3"
  },
  "language_info": {
   "codemirror_mode": {
    "name": "ipython",
    "version": 2
   },
   "file_extension": ".py",
   "mimetype": "text/x-python",
   "name": "python",
   "nbconvert_exporter": "python",
   "pygments_lexer": "ipython2",
   "version": "2.7.6"
  }
 },
 "nbformat": 4,
 "nbformat_minor": 5
}
