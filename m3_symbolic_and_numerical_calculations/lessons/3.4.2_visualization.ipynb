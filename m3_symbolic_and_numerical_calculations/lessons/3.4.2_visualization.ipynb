{
 "cells": [
  {
   "cell_type": "code",
   "id": "initial_id",
   "metadata": {
    "collapsed": true,
    "ExecuteTime": {
     "end_time": "2025-04-30T17:50:31.291780Z",
     "start_time": "2025-04-30T17:50:31.288638Z"
    }
   },
   "source": [
    "from sympy import Integral, symbols, Function, sqrt\n",
    "from sympy import init_printing, pretty, latex, pprint"
   ],
   "outputs": [],
   "execution_count": 36
  },
  {
   "metadata": {
    "ExecuteTime": {
     "end_time": "2025-04-30T17:50:31.347941Z",
     "start_time": "2025-04-30T17:50:31.344740Z"
    }
   },
   "cell_type": "code",
   "source": "init_printing()",
   "id": "37ac8fd0b6df313c",
   "outputs": [],
   "execution_count": 37
  },
  {
   "metadata": {
    "ExecuteTime": {
     "end_time": "2025-04-30T17:50:31.397313Z",
     "start_time": "2025-04-30T17:50:31.394531Z"
    }
   },
   "cell_type": "code",
   "source": "x, y, z, t = symbols('x y z t')",
   "id": "4741a65989e3208",
   "outputs": [],
   "execution_count": 38
  },
  {
   "metadata": {
    "ExecuteTime": {
     "end_time": "2025-04-30T17:50:31.446986Z",
     "start_time": "2025-04-30T17:50:31.444265Z"
    }
   },
   "cell_type": "code",
   "source": "k, m, n = symbols('k m n', integer=True)",
   "id": "db390939095b9aed",
   "outputs": [],
   "execution_count": 39
  },
  {
   "metadata": {
    "ExecuteTime": {
     "end_time": "2025-04-30T17:50:31.509577Z",
     "start_time": "2025-04-30T17:50:31.506700Z"
    }
   },
   "cell_type": "code",
   "source": "f, g, h = symbols('f g h', cls=Function)",
   "id": "47f7f2df20ccc4da",
   "outputs": [],
   "execution_count": 40
  },
  {
   "metadata": {
    "ExecuteTime": {
     "end_time": "2025-04-30T17:50:31.617498Z",
     "start_time": "2025-04-30T17:50:31.566253Z"
    }
   },
   "cell_type": "code",
   "source": "Integral(sqrt(1 / x), x)",
   "id": "a787af89f3a2eb6a",
   "outputs": [
    {
     "data": {
      "text/plain": [
       "Integral(sqrt(1/x), x)"
      ],
      "text/latex": "$\\displaystyle \\int \\sqrt{\\frac{1}{x}}\\, dx$"
     },
     "execution_count": 41,
     "metadata": {},
     "output_type": "execute_result"
    }
   ],
   "execution_count": 41
  },
  {
   "metadata": {
    "ExecuteTime": {
     "end_time": "2025-04-30T17:50:31.630533Z",
     "start_time": "2025-04-30T17:50:31.626135Z"
    }
   },
   "cell_type": "code",
   "source": "str(Integral(sqrt(1 / x), x))",
   "id": "954268b313cf2e0f",
   "outputs": [
    {
     "data": {
      "text/plain": [
       "'Integral(sqrt(1/x), x)'"
      ]
     },
     "execution_count": 42,
     "metadata": {},
     "output_type": "execute_result"
    }
   ],
   "execution_count": 42
  },
  {
   "metadata": {
    "ExecuteTime": {
     "end_time": "2025-04-30T17:50:31.681822Z",
     "start_time": "2025-04-30T17:50:31.678361Z"
    }
   },
   "cell_type": "code",
   "source": "print(Integral(sqrt(1 / x), x))",
   "id": "1e1d4687a5cc1c0e",
   "outputs": [
    {
     "name": "stdout",
     "output_type": "stream",
     "text": [
      "Integral(sqrt(1/x), x)\n"
     ]
    }
   ],
   "execution_count": 43
  },
  {
   "metadata": {
    "ExecuteTime": {
     "end_time": "2025-04-30T17:50:31.752275Z",
     "start_time": "2025-04-30T17:50:31.749254Z"
    }
   },
   "cell_type": "code",
   "source": [
    "from sympy import cos\n",
    "\n",
    "expr = cos(x) + 1"
   ],
   "id": "a5e742ee02c24962",
   "outputs": [],
   "execution_count": 44
  },
  {
   "metadata": {
    "ExecuteTime": {
     "end_time": "2025-04-30T17:50:31.810416Z",
     "start_time": "2025-04-30T17:50:31.805691Z"
    }
   },
   "cell_type": "code",
   "source": "str(expr)",
   "id": "111046480037d54b",
   "outputs": [
    {
     "data": {
      "text/plain": [
       "'cos(x) + 1'"
      ]
     },
     "execution_count": 45,
     "metadata": {},
     "output_type": "execute_result"
    }
   ],
   "execution_count": 45
  },
  {
   "metadata": {
    "ExecuteTime": {
     "end_time": "2025-04-30T17:50:31.860630Z",
     "start_time": "2025-04-30T17:50:31.857103Z"
    }
   },
   "cell_type": "code",
   "source": "print(expr)",
   "id": "4ae9b40c54867c1",
   "outputs": [
    {
     "name": "stdout",
     "output_type": "stream",
     "text": [
      "cos(x) + 1\n"
     ]
    }
   ],
   "execution_count": 46
  },
  {
   "metadata": {
    "ExecuteTime": {
     "end_time": "2025-04-30T17:50:31.913454Z",
     "start_time": "2025-04-30T17:50:31.909490Z"
    }
   },
   "cell_type": "code",
   "source": "print(pretty(Integral(sqrt(1 / x), x)))",
   "id": "a130c0c48f5fbedf",
   "outputs": [
    {
     "name": "stdout",
     "output_type": "stream",
     "text": [
      "⌠           \n",
      "⎮     ___   \n",
      "⎮    ╱ 1    \n",
      "⎮   ╱  ─  dx\n",
      "⎮ ╲╱   x    \n",
      "⌡           \n"
     ]
    }
   ],
   "execution_count": 47
  },
  {
   "metadata": {
    "ExecuteTime": {
     "end_time": "2025-04-30T17:50:31.973747Z",
     "start_time": "2025-04-30T17:50:31.969694Z"
    }
   },
   "cell_type": "code",
   "source": "pprint(Integral(sqrt(1 / x), x), use_unicode=False)",
   "id": "8c5f4c574ba31af2",
   "outputs": [
    {
     "name": "stdout",
     "output_type": "stream",
     "text": [
      "  /          \n",
      " |           \n",
      " |     ___   \n",
      " |    / 1    \n",
      " |   /  -  dx\n",
      " | \\/   x    \n",
      " |           \n",
      "/            \n"
     ]
    }
   ],
   "execution_count": 48
  },
  {
   "metadata": {
    "ExecuteTime": {
     "end_time": "2025-04-30T17:50:32.104004Z",
     "start_time": "2025-04-30T17:50:32.099849Z"
    }
   },
   "cell_type": "code",
   "source": "print(pretty(expr))",
   "id": "6fcb5b7d4cdc0f98",
   "outputs": [
    {
     "name": "stdout",
     "output_type": "stream",
     "text": [
      "cos(x) + 1\n"
     ]
    }
   ],
   "execution_count": 49
  },
  {
   "metadata": {
    "ExecuteTime": {
     "end_time": "2025-04-30T17:50:32.228366Z",
     "start_time": "2025-04-30T17:50:32.224376Z"
    }
   },
   "cell_type": "code",
   "source": "print(latex(Integral(sqrt(1 / x), x)))",
   "id": "7ce41eb2cf99fca3",
   "outputs": [
    {
     "name": "stdout",
     "output_type": "stream",
     "text": [
      "\\int \\sqrt{\\frac{1}{x}}\\, dx\n"
     ]
    }
   ],
   "execution_count": 50
  },
  {
   "metadata": {
    "ExecuteTime": {
     "end_time": "2025-04-30T17:50:32.320316Z",
     "start_time": "2025-04-30T17:50:32.316698Z"
    }
   },
   "cell_type": "code",
   "source": "print(latex(expr))",
   "id": "966ab3ff103f12bd",
   "outputs": [
    {
     "name": "stdout",
     "output_type": "stream",
     "text": [
      "\\cos{\\left(x \\right)} + 1\n"
     ]
    }
   ],
   "execution_count": 51
  },
  {
   "metadata": {
    "ExecuteTime": {
     "end_time": "2025-04-30T17:50:32.394773Z",
     "start_time": "2025-04-30T17:50:32.392393Z"
    }
   },
   "cell_type": "code",
   "source": "",
   "id": "8f1269d0cef2fb7a",
   "outputs": [],
   "execution_count": null
  },
  {
   "metadata": {
    "ExecuteTime": {
     "end_time": "2025-04-30T17:50:32.447840Z",
     "start_time": "2025-04-30T17:50:32.444765Z"
    }
   },
   "cell_type": "code",
   "source": "",
   "id": "242e56034b23cd7d",
   "outputs": [],
   "execution_count": null
  },
  {
   "metadata": {
    "ExecuteTime": {
     "end_time": "2025-04-30T17:50:32.496907Z",
     "start_time": "2025-04-30T17:50:32.494713Z"
    }
   },
   "cell_type": "code",
   "source": "",
   "id": "6caa7fcf56b5827e",
   "outputs": [],
   "execution_count": null
  },
  {
   "metadata": {
    "ExecuteTime": {
     "end_time": "2025-04-30T17:50:32.546977Z",
     "start_time": "2025-04-30T17:50:32.544570Z"
    }
   },
   "cell_type": "code",
   "source": "",
   "id": "1ed8083e4ae76496",
   "outputs": [],
   "execution_count": null
  },
  {
   "metadata": {
    "ExecuteTime": {
     "end_time": "2025-04-30T17:50:32.596516Z",
     "start_time": "2025-04-30T17:50:32.594402Z"
    }
   },
   "cell_type": "code",
   "source": "",
   "id": "46469ec333e5a581",
   "outputs": [],
   "execution_count": null
  },
  {
   "metadata": {
    "ExecuteTime": {
     "end_time": "2025-04-30T17:50:32.647249Z",
     "start_time": "2025-04-30T17:50:32.644544Z"
    }
   },
   "cell_type": "code",
   "source": "",
   "id": "8ac4ef2c79f4d9b5",
   "outputs": [],
   "execution_count": null
  },
  {
   "metadata": {
    "ExecuteTime": {
     "end_time": "2025-04-30T17:50:32.697424Z",
     "start_time": "2025-04-30T17:50:32.694638Z"
    }
   },
   "cell_type": "code",
   "source": "",
   "id": "bb3210b0ab4f17f3",
   "outputs": [],
   "execution_count": null
  },
  {
   "metadata": {
    "ExecuteTime": {
     "end_time": "2025-04-30T17:50:32.747227Z",
     "start_time": "2025-04-30T17:50:32.744752Z"
    }
   },
   "cell_type": "code",
   "source": "",
   "id": "1c3a468e016cc51f",
   "outputs": [],
   "execution_count": null
  },
  {
   "metadata": {
    "ExecuteTime": {
     "end_time": "2025-04-30T17:50:32.797065Z",
     "start_time": "2025-04-30T17:50:32.794715Z"
    }
   },
   "cell_type": "code",
   "source": "",
   "id": "4c53cce1a06c6e4",
   "outputs": [],
   "execution_count": null
  },
  {
   "metadata": {
    "ExecuteTime": {
     "end_time": "2025-04-30T17:50:32.847081Z",
     "start_time": "2025-04-30T17:50:32.844571Z"
    }
   },
   "cell_type": "code",
   "source": "",
   "id": "22d15c84683ec440",
   "outputs": [],
   "execution_count": null
  },
  {
   "metadata": {
    "ExecuteTime": {
     "end_time": "2025-04-30T17:50:32.908251Z",
     "start_time": "2025-04-30T17:50:32.905329Z"
    }
   },
   "cell_type": "code",
   "source": "",
   "id": "2729316610d78ba0",
   "outputs": [],
   "execution_count": null
  },
  {
   "metadata": {
    "ExecuteTime": {
     "end_time": "2025-04-30T17:50:32.956587Z",
     "start_time": "2025-04-30T17:50:32.954220Z"
    }
   },
   "cell_type": "code",
   "source": "",
   "id": "d834dde4031be726",
   "outputs": [],
   "execution_count": null
  },
  {
   "metadata": {
    "ExecuteTime": {
     "end_time": "2025-04-30T17:50:33.017167Z",
     "start_time": "2025-04-30T17:50:33.014767Z"
    }
   },
   "cell_type": "code",
   "source": "",
   "id": "4c878f80fcebe7e2",
   "outputs": [],
   "execution_count": null
  },
  {
   "metadata": {
    "ExecuteTime": {
     "end_time": "2025-04-30T17:50:33.077287Z",
     "start_time": "2025-04-30T17:50:33.074774Z"
    }
   },
   "cell_type": "code",
   "source": "",
   "id": "e2cce5165e6516c3",
   "outputs": [],
   "execution_count": null
  },
  {
   "metadata": {
    "ExecuteTime": {
     "end_time": "2025-04-30T17:50:33.137184Z",
     "start_time": "2025-04-30T17:50:33.134680Z"
    }
   },
   "cell_type": "code",
   "source": "",
   "id": "bf9bc58c7f329252",
   "outputs": [],
   "execution_count": null
  },
  {
   "metadata": {
    "ExecuteTime": {
     "end_time": "2025-04-30T17:50:33.197223Z",
     "start_time": "2025-04-30T17:50:33.194621Z"
    }
   },
   "cell_type": "code",
   "source": "",
   "id": "d44f1b43755de316",
   "outputs": [],
   "execution_count": null
  }
 ],
 "metadata": {
  "kernelspec": {
   "display_name": "Python 3",
   "language": "python",
   "name": "python3"
  },
  "language_info": {
   "codemirror_mode": {
    "name": "ipython",
    "version": 2
   },
   "file_extension": ".py",
   "mimetype": "text/x-python",
   "name": "python",
   "nbconvert_exporter": "python",
   "pygments_lexer": "ipython2",
   "version": "2.7.6"
  }
 },
 "nbformat": 4,
 "nbformat_minor": 5
}
