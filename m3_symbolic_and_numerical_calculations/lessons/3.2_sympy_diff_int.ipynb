{
 "cells": [
  {
   "cell_type": "code",
   "id": "initial_id",
   "metadata": {
    "collapsed": true,
    "ExecuteTime": {
     "end_time": "2025-04-28T11:05:01.325822Z",
     "start_time": "2025-04-28T11:05:00.631422Z"
    }
   },
   "source": [
    "from sympy import symbols, cos, sin, expand_trig, sympify, lambdify\n",
    "import numpy as np"
   ],
   "outputs": [],
   "execution_count": 2
  },
  {
   "metadata": {
    "ExecuteTime": {
     "end_time": "2025-04-28T11:05:01.341237Z",
     "start_time": "2025-04-28T11:05:01.332731Z"
    }
   },
   "cell_type": "code",
   "source": [
    "from sympy.abc import x, y, z\n",
    "from sympy import Symbol"
   ],
   "id": "e77b83f7acb3fcae",
   "outputs": [],
   "execution_count": 3
  },
  {
   "metadata": {
    "ExecuteTime": {
     "end_time": "2025-04-28T11:05:01.391529Z",
     "start_time": "2025-04-28T11:05:01.387741Z"
    }
   },
   "cell_type": "code",
   "source": "s = Symbol('side')",
   "id": "28a8dcef822d2ae5",
   "outputs": [],
   "execution_count": 4
  },
  {
   "metadata": {
    "ExecuteTime": {
     "end_time": "2025-04-28T11:05:01.448524Z",
     "start_time": "2025-04-28T11:05:01.440751Z"
    }
   },
   "cell_type": "code",
   "source": "s ** 2",
   "id": "9c25db9b0e88b414",
   "outputs": [
    {
     "data": {
      "text/plain": [
       "side**2"
      ],
      "text/latex": "$\\displaystyle side^{2}$"
     },
     "execution_count": 5,
     "metadata": {},
     "output_type": "execute_result"
    }
   ],
   "execution_count": 5
  },
  {
   "metadata": {
    "ExecuteTime": {
     "end_time": "2025-04-28T11:05:01.507196Z",
     "start_time": "2025-04-28T11:05:01.503884Z"
    }
   },
   "cell_type": "code",
   "source": "x, y, z = symbols('x y z')",
   "id": "c012ab3e801c2466",
   "outputs": [],
   "execution_count": 6
  },
  {
   "metadata": {
    "ExecuteTime": {
     "end_time": "2025-04-28T11:05:01.561565Z",
     "start_time": "2025-04-28T11:05:01.557420Z"
    }
   },
   "cell_type": "code",
   "source": "x, y, z = symbols('x,y,z')",
   "id": "dc548af29a7cc05e",
   "outputs": [],
   "execution_count": 7
  },
  {
   "metadata": {},
   "cell_type": "markdown",
   "source": "замена",
   "id": "285ca07f477ea574"
  },
  {
   "metadata": {
    "ExecuteTime": {
     "end_time": "2025-04-28T11:05:01.610277Z",
     "start_time": "2025-04-28T11:05:01.607137Z"
    }
   },
   "cell_type": "code",
   "source": "x, y, z = symbols('x y z')",
   "id": "a5560923d0f8be3e",
   "outputs": [],
   "execution_count": 8
  },
  {
   "metadata": {
    "ExecuteTime": {
     "end_time": "2025-04-28T11:05:01.692575Z",
     "start_time": "2025-04-28T11:05:01.657003Z"
    }
   },
   "cell_type": "code",
   "source": "expr = cos(x) + 1",
   "id": "efce0ac128621732",
   "outputs": [],
   "execution_count": 9
  },
  {
   "metadata": {
    "ExecuteTime": {
     "end_time": "2025-04-28T11:05:01.714264Z",
     "start_time": "2025-04-28T11:05:01.708522Z"
    }
   },
   "cell_type": "code",
   "source": "expr",
   "id": "33150e98e7cfb3",
   "outputs": [
    {
     "data": {
      "text/plain": [
       "cos(x) + 1"
      ],
      "text/latex": "$\\displaystyle \\cos{\\left(x \\right)} + 1$"
     },
     "execution_count": 10,
     "metadata": {},
     "output_type": "execute_result"
    }
   ],
   "execution_count": 10
  },
  {
   "metadata": {
    "ExecuteTime": {
     "end_time": "2025-04-28T11:05:01.780357Z",
     "start_time": "2025-04-28T11:05:01.774219Z"
    }
   },
   "cell_type": "code",
   "source": "print(expr.subs(x, y))",
   "id": "adcf53c18ac38fa5",
   "outputs": [
    {
     "name": "stdout",
     "output_type": "stream",
     "text": [
      "cos(y) + 1\n"
     ]
    }
   ],
   "execution_count": 11
  },
  {
   "metadata": {
    "ExecuteTime": {
     "end_time": "2025-04-28T11:05:01.840608Z",
     "start_time": "2025-04-28T11:05:01.834023Z"
    }
   },
   "cell_type": "code",
   "source": "expr",
   "id": "fd787a557e00750b",
   "outputs": [
    {
     "data": {
      "text/plain": [
       "cos(x) + 1"
      ],
      "text/latex": "$\\displaystyle \\cos{\\left(x \\right)} + 1$"
     },
     "execution_count": 12,
     "metadata": {},
     "output_type": "execute_result"
    }
   ],
   "execution_count": 12
  },
  {
   "metadata": {
    "ExecuteTime": {
     "end_time": "2025-04-28T11:05:01.916451Z",
     "start_time": "2025-04-28T11:05:01.910968Z"
    }
   },
   "cell_type": "code",
   "source": "expr.subs(y, 0)",
   "id": "15bec85de431a018",
   "outputs": [
    {
     "data": {
      "text/plain": [
       "cos(x) + 1"
      ],
      "text/latex": "$\\displaystyle \\cos{\\left(x \\right)} + 1$"
     },
     "execution_count": 13,
     "metadata": {},
     "output_type": "execute_result"
    }
   ],
   "execution_count": 13
  },
  {
   "metadata": {
    "ExecuteTime": {
     "end_time": "2025-04-28T11:05:02.003800Z",
     "start_time": "2025-04-28T11:05:01.998259Z"
    }
   },
   "cell_type": "code",
   "source": [
    "expr = x ** y\n",
    "expr"
   ],
   "id": "f787628ae14fefa0",
   "outputs": [
    {
     "data": {
      "text/plain": [
       "x**y"
      ],
      "text/latex": "$\\displaystyle x^{y}$"
     },
     "execution_count": 14,
     "metadata": {},
     "output_type": "execute_result"
    }
   ],
   "execution_count": 14
  },
  {
   "metadata": {},
   "cell_type": "markdown",
   "source": "Упрощение выражения",
   "id": "dfc7cd785f33c93f"
  },
  {
   "metadata": {
    "ExecuteTime": {
     "end_time": "2025-04-28T11:05:02.076659Z",
     "start_time": "2025-04-28T11:05:02.063556Z"
    }
   },
   "cell_type": "code",
   "source": [
    "expr = sin(2 * x) + cos(2 * x)\n",
    "expand_trig(expr)"
   ],
   "id": "37bae80c56704577",
   "outputs": [
    {
     "data": {
      "text/plain": [
       "2*sin(x)*cos(x) + 2*cos(x)**2 - 1"
      ],
      "text/latex": "$\\displaystyle 2 \\sin{\\left(x \\right)} \\cos{\\left(x \\right)} + 2 \\cos^{2}{\\left(x \\right)} - 1$"
     },
     "execution_count": 15,
     "metadata": {},
     "output_type": "execute_result"
    }
   ],
   "execution_count": 15
  },
  {
   "metadata": {
    "ExecuteTime": {
     "end_time": "2025-04-28T11:05:02.151154Z",
     "start_time": "2025-04-28T11:05:02.141574Z"
    }
   },
   "cell_type": "code",
   "source": [
    "expr = x ** 3 + 4 * x * y - z\n",
    "expr.subs([(y, 4), (z, 0)])"
   ],
   "id": "914e8dd5a8f719a2",
   "outputs": [
    {
     "data": {
      "text/plain": [
       "x**3 + 16*x"
      ],
      "text/latex": "$\\displaystyle x^{3} + 16 x$"
     },
     "execution_count": 16,
     "metadata": {},
     "output_type": "execute_result"
    }
   ],
   "execution_count": 16
  },
  {
   "metadata": {
    "ExecuteTime": {
     "end_time": "2025-04-28T11:05:02.212765Z",
     "start_time": "2025-04-28T11:05:02.201264Z"
    }
   },
   "cell_type": "code",
   "source": [
    "expr = x ** 4 - 4 * x ** 3 + 4 * x ** 2 - 2 * x + 3\n",
    "replacement = [(x ** 2, y ** 2) for i in range(5) if i % 2 == 0]\n",
    "expr.subs(replacement)"
   ],
   "id": "8b67ef9779076fbb",
   "outputs": [
    {
     "data": {
      "text/plain": [
       "-4*x**3 - 2*x + y**4 + 4*y**2 + 3"
      ],
      "text/latex": "$\\displaystyle - 4 x^{3} - 2 x + y^{4} + 4 y^{2} + 3$"
     },
     "execution_count": 17,
     "metadata": {},
     "output_type": "execute_result"
    }
   ],
   "execution_count": 17
  },
  {
   "metadata": {
    "ExecuteTime": {
     "end_time": "2025-04-28T11:05:02.271644Z",
     "start_time": "2025-04-28T11:05:02.262291Z"
    }
   },
   "cell_type": "code",
   "source": [
    "str_expr = 'x**2 + 3*x - 1/2'\n",
    "expr = sympify(str_expr)  # Преобразование строк в объекты Sympy\n",
    "expr"
   ],
   "id": "54f661705d9af022",
   "outputs": [
    {
     "data": {
      "text/plain": [
       "x**2 + 3*x - 1/2"
      ],
      "text/latex": "$\\displaystyle x^{2} + 3 x - \\frac{1}{2}$"
     },
     "execution_count": 18,
     "metadata": {},
     "output_type": "execute_result"
    }
   ],
   "execution_count": 18
  },
  {
   "metadata": {
    "ExecuteTime": {
     "end_time": "2025-04-28T11:05:02.328501Z",
     "start_time": "2025-04-28T11:05:02.322110Z"
    }
   },
   "cell_type": "code",
   "source": [
    "expr.subs(x, 2)\n",
    "expr"
   ],
   "id": "cd63ca8a8fe758d9",
   "outputs": [
    {
     "data": {
      "text/plain": [
       "x**2 + 3*x - 1/2"
      ],
      "text/latex": "$\\displaystyle x^{2} + 3 x - \\frac{1}{2}$"
     },
     "execution_count": 19,
     "metadata": {},
     "output_type": "execute_result"
    }
   ],
   "execution_count": 19
  },
  {
   "metadata": {
    "ExecuteTime": {
     "end_time": "2025-04-28T11:05:02.398780Z",
     "start_time": "2025-04-28T11:05:02.391130Z"
    }
   },
   "cell_type": "code",
   "source": [
    "a = np.arange(10)\n",
    "a"
   ],
   "id": "222bc2fafd3fcb16",
   "outputs": [
    {
     "data": {
      "text/plain": [
       "array([0, 1, 2, 3, 4, 5, 6, 7, 8, 9])"
      ]
     },
     "execution_count": 20,
     "metadata": {},
     "output_type": "execute_result"
    }
   ],
   "execution_count": 20
  },
  {
   "metadata": {
    "ExecuteTime": {
     "end_time": "2025-04-28T11:05:02.752261Z",
     "start_time": "2025-04-28T11:05:02.458184Z"
    }
   },
   "cell_type": "code",
   "source": [
    "expr = sin(x)\n",
    "f = lambdify(x, expr, \"numpy\")"
   ],
   "id": "6fcdfbc6c7311bbd",
   "outputs": [],
   "execution_count": 21
  },
  {
   "metadata": {
    "ExecuteTime": {
     "end_time": "2025-04-28T11:05:02.767865Z",
     "start_time": "2025-04-28T11:05:02.761278Z"
    }
   },
   "cell_type": "code",
   "source": "f(a)",
   "id": "988f2bee0e9884aa",
   "outputs": [
    {
     "data": {
      "text/plain": [
       "array([ 0.        ,  0.84147098,  0.90929743,  0.14112001, -0.7568025 ,\n",
       "       -0.95892427, -0.2794155 ,  0.6569866 ,  0.98935825,  0.41211849])"
      ]
     },
     "execution_count": 22,
     "metadata": {},
     "output_type": "execute_result"
    }
   ],
   "execution_count": 22
  },
  {
   "metadata": {
    "ExecuteTime": {
     "end_time": "2025-04-28T11:05:02.820663Z",
     "start_time": "2025-04-28T11:05:02.815321Z"
    }
   },
   "cell_type": "code",
   "source": "f(0.1)",
   "id": "f01636b46992d94c",
   "outputs": [
    {
     "data": {
      "text/plain": [
       "np.float64(0.09983341664682815)"
      ]
     },
     "execution_count": 23,
     "metadata": {},
     "output_type": "execute_result"
    }
   ],
   "execution_count": 23
  },
  {
   "metadata": {},
   "cell_type": "markdown",
   "source": "Cимвольное дифференцирование",
   "id": "a198977fe2d80909"
  },
  {
   "metadata": {
    "ExecuteTime": {
     "end_time": "2025-04-28T11:05:02.883086Z",
     "start_time": "2025-04-28T11:05:02.879656Z"
    }
   },
   "cell_type": "code",
   "source": [
    "from sympy import Integral, diff, Derivative, integrate\n",
    "from sympy import exp, oo, exp, O"
   ],
   "id": "fce0fd2464fe385d",
   "outputs": [],
   "execution_count": 24
  },
  {
   "metadata": {
    "ExecuteTime": {
     "end_time": "2025-04-28T11:05:02.939541Z",
     "start_time": "2025-04-28T11:05:02.936649Z"
    }
   },
   "cell_type": "code",
   "source": "x, y, z = symbols('x y z')",
   "id": "fc19e0150cba0813",
   "outputs": [],
   "execution_count": 25
  },
  {
   "metadata": {
    "ExecuteTime": {
     "end_time": "2025-04-28T11:05:02.998376Z",
     "start_time": "2025-04-28T11:05:02.990234Z"
    }
   },
   "cell_type": "code",
   "source": "cos(x).diff(x)",
   "id": "c238d28f736a4a30",
   "outputs": [
    {
     "data": {
      "text/plain": [
       "-sin(x)"
      ],
      "text/latex": "$\\displaystyle - \\sin{\\left(x \\right)}$"
     },
     "execution_count": 26,
     "metadata": {},
     "output_type": "execute_result"
    }
   ],
   "execution_count": 26
  },
  {
   "metadata": {
    "ExecuteTime": {
     "end_time": "2025-04-28T11:05:03.057345Z",
     "start_time": "2025-04-28T11:05:03.051367Z"
    }
   },
   "cell_type": "code",
   "source": "diff(cos(x), x)",
   "id": "5f4881a0b5dfbeb6",
   "outputs": [
    {
     "data": {
      "text/plain": [
       "-sin(x)"
      ],
      "text/latex": "$\\displaystyle - \\sin{\\left(x \\right)}$"
     },
     "execution_count": 27,
     "metadata": {},
     "output_type": "execute_result"
    }
   ],
   "execution_count": 27
  },
  {
   "metadata": {
    "ExecuteTime": {
     "end_time": "2025-04-28T11:05:03.121787Z",
     "start_time": "2025-04-28T11:05:03.112726Z"
    }
   },
   "cell_type": "code",
   "source": "diff(cos(x), x, 2)",
   "id": "e4fab725f54257c",
   "outputs": [
    {
     "data": {
      "text/plain": [
       "-cos(x)"
      ],
      "text/latex": "$\\displaystyle - \\cos{\\left(x \\right)}$"
     },
     "execution_count": 28,
     "metadata": {},
     "output_type": "execute_result"
    }
   ],
   "execution_count": 28
  },
  {
   "metadata": {
    "ExecuteTime": {
     "end_time": "2025-04-28T11:05:03.181652Z",
     "start_time": "2025-04-28T11:05:03.173349Z"
    }
   },
   "cell_type": "code",
   "source": "diff(exp(x ** 2), x)",
   "id": "e10e9fb929e822eb",
   "outputs": [
    {
     "data": {
      "text/plain": [
       "2*x*exp(x**2)"
      ],
      "text/latex": "$\\displaystyle 2 x e^{x^{2}}$"
     },
     "execution_count": 29,
     "metadata": {},
     "output_type": "execute_result"
    }
   ],
   "execution_count": 29
  },
  {
   "metadata": {
    "ExecuteTime": {
     "end_time": "2025-04-28T11:05:03.238364Z",
     "start_time": "2025-04-28T11:05:03.232376Z"
    }
   },
   "cell_type": "code",
   "source": [
    "deriv = Derivative(expr, x, y, y, z, 4)\n",
    "deriv"
   ],
   "id": "66f70c3609a68af8",
   "outputs": [
    {
     "data": {
      "text/plain": [
       "Derivative(sin(x), x, (y, 2), (z, 4))"
      ],
      "text/latex": "$\\displaystyle \\frac{d^{7}}{d z^{4}d y^{2}d x} \\sin{\\left(x \\right)}$"
     },
     "execution_count": 30,
     "metadata": {},
     "output_type": "execute_result"
    }
   ],
   "execution_count": 30
  },
  {
   "metadata": {
    "ExecuteTime": {
     "end_time": "2025-04-28T11:05:03.296110Z",
     "start_time": "2025-04-28T11:05:03.290885Z"
    }
   },
   "cell_type": "code",
   "source": "deriv.doit()",
   "id": "745493592e216997",
   "outputs": [
    {
     "data": {
      "text/plain": [
       "0"
      ],
      "text/latex": "$\\displaystyle 0$"
     },
     "execution_count": 31,
     "metadata": {},
     "output_type": "execute_result"
    }
   ],
   "execution_count": 31
  },
  {
   "metadata": {
    "ExecuteTime": {
     "end_time": "2025-04-28T11:05:03.411048Z",
     "start_time": "2025-04-28T11:05:03.401213Z"
    }
   },
   "cell_type": "code",
   "source": [
    "m, n, a, b = symbols('m n a b')\n",
    "expr = (a * x + b) ** m\n",
    "expr.diff((x, n))"
   ],
   "id": "f3d9f1b301021b89",
   "outputs": [
    {
     "data": {
      "text/plain": [
       "Derivative((a*x + b)**m, (x, n))"
      ],
      "text/latex": "$\\displaystyle \\frac{\\partial^{n}}{\\partial x^{n}} \\left(a x + b\\right)^{m}$"
     },
     "execution_count": 32,
     "metadata": {},
     "output_type": "execute_result"
    }
   ],
   "execution_count": 32
  },
  {
   "metadata": {
    "ExecuteTime": {
     "end_time": "2025-04-28T11:05:03.468221Z",
     "start_time": "2025-04-28T11:05:03.461836Z"
    }
   },
   "cell_type": "code",
   "source": "expr.diff((x, n)).subs(n, 2)",
   "id": "cefdfeb931c9258a",
   "outputs": [
    {
     "data": {
      "text/plain": [
       "Derivative((a*x + b)**m, (x, 2))"
      ],
      "text/latex": "$\\displaystyle \\frac{\\partial^{2}}{\\partial x^{2}} \\left(a x + b\\right)^{m}$"
     },
     "execution_count": 33,
     "metadata": {},
     "output_type": "execute_result"
    }
   ],
   "execution_count": 33
  },
  {
   "metadata": {
    "ExecuteTime": {
     "end_time": "2025-04-28T11:05:03.531856Z",
     "start_time": "2025-04-28T11:05:03.529298Z"
    }
   },
   "cell_type": "code",
   "source": "",
   "id": "d213dc68b21cfb5f",
   "outputs": [],
   "execution_count": null
  },
  {
   "metadata": {},
   "cell_type": "markdown",
   "source": "Символьное интегрирование",
   "id": "a8f69c32a656bb63"
  },
  {
   "metadata": {
    "ExecuteTime": {
     "end_time": "2025-04-28T11:05:03.610137Z",
     "start_time": "2025-04-28T11:05:03.604182Z"
    }
   },
   "cell_type": "code",
   "source": [
    "expr = Integral(exp(-x), (x, 0, oo))\n",
    "expr"
   ],
   "id": "3fabcc172566a4a4",
   "outputs": [
    {
     "data": {
      "text/plain": [
       "Integral(exp(-x), (x, 0, oo))"
      ],
      "text/latex": "$\\displaystyle \\int\\limits_{0}^{\\infty} e^{- x}\\, dx$"
     },
     "execution_count": 34,
     "metadata": {},
     "output_type": "execute_result"
    }
   ],
   "execution_count": 34
  },
  {
   "metadata": {
    "ExecuteTime": {
     "end_time": "2025-04-28T11:05:03.796703Z",
     "start_time": "2025-04-28T11:05:03.673211Z"
    }
   },
   "cell_type": "code",
   "source": "expr.doit()",
   "id": "8f6211dd8b82b391",
   "outputs": [
    {
     "data": {
      "text/plain": [
       "1"
      ],
      "text/latex": "$\\displaystyle 1$"
     },
     "execution_count": 35,
     "metadata": {},
     "output_type": "execute_result"
    }
   ],
   "execution_count": 35
  },
  {
   "metadata": {
    "ExecuteTime": {
     "end_time": "2025-04-28T11:05:03.814230Z",
     "start_time": "2025-04-28T11:05:03.805750Z"
    }
   },
   "cell_type": "code",
   "source": "integrate(exp(-x), (x, 0, oo))  # вычисляет значение сразу",
   "id": "b246319706cc7d7d",
   "outputs": [
    {
     "data": {
      "text/plain": [
       "1"
      ],
      "text/latex": "$\\displaystyle 1$"
     },
     "execution_count": 36,
     "metadata": {},
     "output_type": "execute_result"
    }
   ],
   "execution_count": 36
  },
  {
   "metadata": {
    "ExecuteTime": {
     "end_time": "2025-04-28T11:05:03.871336Z",
     "start_time": "2025-04-28T11:05:03.861620Z"
    }
   },
   "cell_type": "code",
   "source": [
    "expr = Integral(exp(-x ** 2 - y ** 2), (x, -oo, oo), (y, -oo, oo))  # двойной интеграл\n",
    "expr"
   ],
   "id": "6a655a281fd20446",
   "outputs": [
    {
     "data": {
      "text/plain": [
       "Integral(exp(-x**2 - y**2), (x, -oo, oo), (y, -oo, oo))"
      ],
      "text/latex": "$\\displaystyle \\int\\limits_{-\\infty}^{\\infty}\\int\\limits_{-\\infty}^{\\infty} e^{- x^{2} - y^{2}}\\, dx\\, dy$"
     },
     "execution_count": 37,
     "metadata": {},
     "output_type": "execute_result"
    }
   ],
   "execution_count": 37
  },
  {
   "metadata": {
    "ExecuteTime": {
     "end_time": "2025-04-28T11:05:03.969659Z",
     "start_time": "2025-04-28T11:05:03.919484Z"
    }
   },
   "cell_type": "code",
   "source": "expr.doit()",
   "id": "3132b66a9a5b6c65",
   "outputs": [
    {
     "data": {
      "text/plain": [
       "pi"
      ],
      "text/latex": "$\\displaystyle \\pi$"
     },
     "execution_count": 38,
     "metadata": {},
     "output_type": "execute_result"
    }
   ],
   "execution_count": 38
  },
  {
   "metadata": {},
   "cell_type": "markdown",
   "source": "решение дифференциальных уравнений",
   "id": "593568503d4a7682"
  },
  {
   "metadata": {
    "ExecuteTime": {
     "end_time": "2025-04-28T11:05:04.023795Z",
     "start_time": "2025-04-28T11:05:04.019708Z"
    }
   },
   "cell_type": "code",
   "source": [
    "from sympy import Function, dsolve, Eq, Derivative, sin, cos, symbols\n",
    "from sympy.abc import x\n",
    "\n",
    "f = Function('f')"
   ],
   "id": "733282c9cf2e5c7b",
   "outputs": [],
   "execution_count": 39
  },
  {
   "metadata": {
    "ExecuteTime": {
     "end_time": "2025-04-28T11:05:04.084110Z",
     "start_time": "2025-04-28T11:05:04.077107Z"
    }
   },
   "cell_type": "code",
   "source": "Derivative(f(x), x, x) + 9 * f(x)",
   "id": "bd653ac823f8f543",
   "outputs": [
    {
     "data": {
      "text/plain": [
       "9*f(x) + Derivative(f(x), (x, 2))"
      ],
      "text/latex": "$\\displaystyle 9 f{\\left(x \\right)} + \\frac{d^{2}}{d x^{2}} f{\\left(x \\right)}$"
     },
     "execution_count": 40,
     "metadata": {},
     "output_type": "execute_result"
    }
   ],
   "execution_count": 40
  },
  {
   "metadata": {
    "ExecuteTime": {
     "end_time": "2025-04-28T16:34:18.019252Z",
     "start_time": "2025-04-28T16:34:17.968513Z"
    }
   },
   "cell_type": "code",
   "source": "dsolve(Derivative(f(x), x, x) + 9 * f(x), f(x))",
   "id": "58d0c6f044e9aada",
   "outputs": [
    {
     "data": {
      "text/plain": [
       "Eq(f(x), C1*sin(3*x) + C2*cos(3*x))"
      ],
      "text/latex": "$\\displaystyle f{\\left(x \\right)} = C_{1} \\sin{\\left(3 x \\right)} + C_{2} \\cos{\\left(3 x \\right)}$"
     },
     "execution_count": 42,
     "metadata": {},
     "output_type": "execute_result"
    }
   ],
   "execution_count": 42
  },
  {
   "metadata": {
    "ExecuteTime": {
     "end_time": "2025-04-28T11:05:04.221717Z",
     "start_time": "2025-04-28T11:05:04.218986Z"
    }
   },
   "cell_type": "code",
   "source": "",
   "id": "61afd793b9f84c06",
   "outputs": [],
   "execution_count": null
  },
  {
   "metadata": {
    "ExecuteTime": {
     "end_time": "2025-04-28T11:05:04.278608Z",
     "start_time": "2025-04-28T11:05:04.276173Z"
    }
   },
   "cell_type": "code",
   "source": "",
   "id": "9e152c93c761e151",
   "outputs": [],
   "execution_count": null
  },
  {
   "metadata": {
    "ExecuteTime": {
     "end_time": "2025-04-28T11:05:04.334272Z",
     "start_time": "2025-04-28T11:05:04.331198Z"
    }
   },
   "cell_type": "code",
   "source": "",
   "id": "7006cb9beceb4ae2",
   "outputs": [],
   "execution_count": null
  },
  {
   "metadata": {
    "ExecuteTime": {
     "end_time": "2025-04-28T11:05:04.399403Z",
     "start_time": "2025-04-28T11:05:04.396736Z"
    }
   },
   "cell_type": "code",
   "source": "",
   "id": "a96302855bd215bb",
   "outputs": [],
   "execution_count": null
  },
  {
   "metadata": {
    "ExecuteTime": {
     "end_time": "2025-04-28T11:05:04.449826Z",
     "start_time": "2025-04-28T11:05:04.447187Z"
    }
   },
   "cell_type": "code",
   "source": "",
   "id": "d868031ebac793eb",
   "outputs": [],
   "execution_count": null
  },
  {
   "metadata": {
    "ExecuteTime": {
     "end_time": "2025-04-28T11:05:04.498771Z",
     "start_time": "2025-04-28T11:05:04.496359Z"
    }
   },
   "cell_type": "code",
   "source": "",
   "id": "e1cc7f52e7e7563c",
   "outputs": [],
   "execution_count": null
  },
  {
   "metadata": {
    "ExecuteTime": {
     "end_time": "2025-04-28T11:05:04.558555Z",
     "start_time": "2025-04-28T11:05:04.556012Z"
    }
   },
   "cell_type": "code",
   "source": "",
   "id": "f7d06d10db24e867",
   "outputs": [],
   "execution_count": null
  },
  {
   "metadata": {
    "ExecuteTime": {
     "end_time": "2025-04-28T11:05:04.610784Z",
     "start_time": "2025-04-28T11:05:04.607127Z"
    }
   },
   "cell_type": "code",
   "source": "",
   "id": "ea94352f88e80d99",
   "outputs": [],
   "execution_count": null
  },
  {
   "metadata": {
    "ExecuteTime": {
     "end_time": "2025-04-28T11:05:04.672262Z",
     "start_time": "2025-04-28T11:05:04.669734Z"
    }
   },
   "cell_type": "code",
   "source": "",
   "id": "eab3c51c4625188f",
   "outputs": [],
   "execution_count": null
  },
  {
   "metadata": {
    "ExecuteTime": {
     "end_time": "2025-04-28T11:05:04.729071Z",
     "start_time": "2025-04-28T11:05:04.726730Z"
    }
   },
   "cell_type": "code",
   "source": "",
   "id": "1f8ea82148e652eb",
   "outputs": [],
   "execution_count": null
  }
 ],
 "metadata": {
  "kernelspec": {
   "display_name": "Python 3",
   "language": "python",
   "name": "python3"
  },
  "language_info": {
   "codemirror_mode": {
    "name": "ipython",
    "version": 2
   },
   "file_extension": ".py",
   "mimetype": "text/x-python",
   "name": "python",
   "nbconvert_exporter": "python",
   "pygments_lexer": "ipython2",
   "version": "2.7.6"
  }
 },
 "nbformat": 4,
 "nbformat_minor": 5
}
