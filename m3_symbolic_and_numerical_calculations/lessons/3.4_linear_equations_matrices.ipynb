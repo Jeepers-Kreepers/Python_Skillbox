{
 "cells": [
  {
   "cell_type": "code",
   "id": "initial_id",
   "metadata": {
    "collapsed": true,
    "ExecuteTime": {
     "end_time": "2025-06-02T10:53:36.749397Z",
     "start_time": "2025-06-02T10:53:36.065209Z"
    }
   },
   "source": [
    "from sympy import solve, Eq, Function, symbols\n",
    "\n",
    "x, y, z = symbols('x, y, z')\n",
    "f = Function('f')"
   ],
   "outputs": [],
   "execution_count": 1
  },
  {
   "metadata": {
    "ExecuteTime": {
     "end_time": "2025-06-02T10:53:36.837984Z",
     "start_time": "2025-06-02T10:53:36.781791Z"
    }
   },
   "cell_type": "code",
   "source": "solve(2 * x - 6, x)",
   "id": "db9a1cac9f4f2e46",
   "outputs": [
    {
     "data": {
      "text/plain": [
       "[3]"
      ]
     },
     "execution_count": 2,
     "metadata": {},
     "output_type": "execute_result"
    }
   ],
   "execution_count": 2
  },
  {
   "metadata": {
    "ExecuteTime": {
     "end_time": "2025-06-02T10:53:37.714206Z",
     "start_time": "2025-06-02T10:53:37.706204Z"
    }
   },
   "cell_type": "code",
   "source": [
    "eq = Eq(2 * x, 6)\n",
    "eq"
   ],
   "id": "4cc18522cd6706f2",
   "outputs": [
    {
     "data": {
      "text/plain": [
       "Eq(2*x, 6)"
      ],
      "text/latex": "$\\displaystyle 2 x = 6$"
     },
     "execution_count": 3,
     "metadata": {},
     "output_type": "execute_result"
    }
   ],
   "execution_count": 3
  },
  {
   "metadata": {
    "ExecuteTime": {
     "end_time": "2025-06-02T10:53:37.742592Z",
     "start_time": "2025-06-02T10:53:37.732397Z"
    }
   },
   "cell_type": "code",
   "source": "solve([2 * x - 12, y - 2 * x], (x, y))",
   "id": "29d427f794ec3dec",
   "outputs": [
    {
     "data": {
      "text/plain": [
       "{x: 6, y: 12}"
      ]
     },
     "execution_count": 4,
     "metadata": {},
     "output_type": "execute_result"
    }
   ],
   "execution_count": 4
  },
  {
   "metadata": {
    "ExecuteTime": {
     "end_time": "2025-06-02T10:53:38.054434Z",
     "start_time": "2025-06-02T10:53:38.044498Z"
    }
   },
   "cell_type": "code",
   "source": [
    "\n",
    "solve((x + 5 * y - 2, -3 * x + 6 * y - 15), x, y)"
   ],
   "id": "f5d45a692161b67e",
   "outputs": [
    {
     "data": {
      "text/plain": [
       "{x: -3, y: 1}"
      ]
     },
     "execution_count": 5,
     "metadata": {},
     "output_type": "execute_result"
    }
   ],
   "execution_count": 5
  },
  {
   "metadata": {
    "ExecuteTime": {
     "end_time": "2025-06-02T10:53:38.323379Z",
     "start_time": "2025-06-02T10:53:38.319386Z"
    }
   },
   "cell_type": "code",
   "source": "#Представление списка eqs со списком уравнений",
   "id": "8290e7854a401fbe",
   "outputs": [],
   "execution_count": 6
  },
  {
   "metadata": {
    "ExecuteTime": {
     "end_time": "2025-06-02T10:53:38.365736Z",
     "start_time": "2025-06-02T10:53:38.349956Z"
    }
   },
   "cell_type": "code",
   "source": [
    "eqs = [Eq(x + 5 * y, 2), Eq(6 * y - 3 * x, 15)]\n",
    "eqs"
   ],
   "id": "3f26168e17edfb6e",
   "outputs": [
    {
     "data": {
      "text/plain": [
       "[Eq(x + 5*y, 2), Eq(-3*x + 6*y, 15)]"
      ]
     },
     "execution_count": 7,
     "metadata": {},
     "output_type": "execute_result"
    }
   ],
   "execution_count": 7
  },
  {
   "metadata": {
    "ExecuteTime": {
     "end_time": "2025-06-02T10:53:38.445736Z",
     "start_time": "2025-06-02T10:53:38.438329Z"
    }
   },
   "cell_type": "code",
   "source": "eqs[0]",
   "id": "cf785d45ad656fec",
   "outputs": [
    {
     "data": {
      "text/plain": [
       "Eq(x + 5*y, 2)"
      ],
      "text/latex": "$\\displaystyle x + 5 y = 2$"
     },
     "execution_count": 8,
     "metadata": {},
     "output_type": "execute_result"
    }
   ],
   "execution_count": 8
  },
  {
   "metadata": {
    "ExecuteTime": {
     "end_time": "2025-06-02T10:53:38.691795Z",
     "start_time": "2025-06-02T10:53:38.685258Z"
    }
   },
   "cell_type": "code",
   "source": "eqs[1]",
   "id": "edec08f2078b7f79",
   "outputs": [
    {
     "data": {
      "text/plain": [
       "Eq(-3*x + 6*y, 15)"
      ],
      "text/latex": "$\\displaystyle - 3 x + 6 y = 15$"
     },
     "execution_count": 9,
     "metadata": {},
     "output_type": "execute_result"
    }
   ],
   "execution_count": 9
  },
  {
   "metadata": {
    "ExecuteTime": {
     "end_time": "2025-06-02T10:53:38.897881Z",
     "start_time": "2025-06-02T10:53:38.890417Z"
    }
   },
   "cell_type": "code",
   "source": "solve(eqs, x, y)",
   "id": "59843b8b74f925",
   "outputs": [
    {
     "data": {
      "text/plain": [
       "{x: -3, y: 1}"
      ]
     },
     "execution_count": 10,
     "metadata": {},
     "output_type": "execute_result"
    }
   ],
   "execution_count": 10
  },
  {
   "metadata": {
    "ExecuteTime": {
     "end_time": "2025-06-02T10:53:38.985100Z",
     "start_time": "2025-06-02T10:53:38.975641Z"
    }
   },
   "cell_type": "code",
   "source": [
    "# когда указан дополнительный символ z\n",
    "solve((eqs[0], eqs[1]), x, y, z)"
   ],
   "id": "646d2fc421149c1b",
   "outputs": [
    {
     "data": {
      "text/plain": [
       "{x: -3, y: 1}"
      ]
     },
     "execution_count": 11,
     "metadata": {},
     "output_type": "execute_result"
    }
   ],
   "execution_count": 11
  },
  {
   "metadata": {
    "ExecuteTime": {
     "end_time": "2025-06-02T10:53:39.085282Z",
     "start_time": "2025-06-02T10:53:39.075877Z"
    }
   },
   "cell_type": "code",
   "source": "solve((eqs[0], eqs[1], z - 5 * x + y), x, y, z)",
   "id": "e82af7e528d7ba97",
   "outputs": [
    {
     "data": {
      "text/plain": [
       "{x: -3, y: 1, z: -16}"
      ]
     },
     "execution_count": 12,
     "metadata": {},
     "output_type": "execute_result"
    }
   ],
   "execution_count": 12
  },
  {
   "metadata": {
    "ExecuteTime": {
     "end_time": "2025-06-02T10:53:39.226859Z",
     "start_time": "2025-06-02T10:53:39.216745Z"
    }
   },
   "cell_type": "code",
   "source": [
    "# когда недостаточно уравнений\n",
    "solve((eqs[0], -3 * x + 6 * y - z), z, x, y)"
   ],
   "id": "4a6e8957863e00cc",
   "outputs": [
    {
     "data": {
      "text/plain": [
       "{x: 2 - 5*y, z: 21*y - 6}"
      ]
     },
     "execution_count": 13,
     "metadata": {},
     "output_type": "execute_result"
    }
   ],
   "execution_count": 13
  },
  {
   "metadata": {
    "ExecuteTime": {
     "end_time": "2025-06-02T10:53:39.430601Z",
     "start_time": "2025-06-02T10:53:39.420872Z"
    }
   },
   "cell_type": "code",
   "source": [
    "# когда нет решений\n",
    "solve([x + 3, x - 3])"
   ],
   "id": "a123f45be54fef4",
   "outputs": [
    {
     "data": {
      "text/plain": [
       "[]"
      ]
     },
     "execution_count": 14,
     "metadata": {},
     "output_type": "execute_result"
    }
   ],
   "execution_count": 14
  },
  {
   "metadata": {},
   "cell_type": "markdown",
   "source": "## Преобразование матриц ##",
   "id": "af8d072e554b0a8"
  },
  {
   "metadata": {
    "ExecuteTime": {
     "end_time": "2025-06-02T10:53:39.525534Z",
     "start_time": "2025-06-02T10:53:39.520602Z"
    }
   },
   "cell_type": "code",
   "source": "from sympy import Matrix",
   "id": "ffbc5fed6b70a940",
   "outputs": [],
   "execution_count": 15
  },
  {
   "metadata": {
    "ExecuteTime": {
     "end_time": "2025-06-02T10:53:39.582141Z",
     "start_time": "2025-06-02T10:53:39.575276Z"
    }
   },
   "cell_type": "code",
   "source": "Matrix([[1, 1], [3, 4], [0, 2]])",
   "id": "8124a026959ae206",
   "outputs": [
    {
     "data": {
      "text/plain": [
       "Matrix([\n",
       "[1, 1],\n",
       "[3, 4],\n",
       "[0, 2]])"
      ],
      "text/latex": "$\\displaystyle \\left[\\begin{matrix}1 & 1\\\\3 & 4\\\\0 & 2\\end{matrix}\\right]$"
     },
     "execution_count": 16,
     "metadata": {},
     "output_type": "execute_result"
    }
   ],
   "execution_count": 16
  },
  {
   "metadata": {
    "ExecuteTime": {
     "end_time": "2025-06-02T10:53:39.663264Z",
     "start_time": "2025-06-02T10:53:39.656437Z"
    }
   },
   "cell_type": "code",
   "source": "Matrix([1, 2, 3])",
   "id": "181f5f5879dc100d",
   "outputs": [
    {
     "data": {
      "text/plain": [
       "Matrix([\n",
       "[1],\n",
       "[2],\n",
       "[3]])"
      ],
      "text/latex": "$\\displaystyle \\left[\\begin{matrix}1\\\\2\\\\3\\end{matrix}\\right]$"
     },
     "execution_count": 17,
     "metadata": {},
     "output_type": "execute_result"
    }
   ],
   "execution_count": 17
  },
  {
   "metadata": {
    "ExecuteTime": {
     "end_time": "2025-06-02T10:53:39.777230Z",
     "start_time": "2025-06-02T10:53:39.769370Z"
    }
   },
   "cell_type": "code",
   "source": [
    "M = Matrix([[1, 2, 3], [3, 2, 1]])\n",
    "M"
   ],
   "id": "8fc2e350531b3632",
   "outputs": [
    {
     "data": {
      "text/plain": [
       "Matrix([\n",
       "[1, 2, 3],\n",
       "[3, 2, 1]])"
      ],
      "text/latex": "$\\displaystyle \\left[\\begin{matrix}1 & 2 & 3\\\\3 & 2 & 1\\end{matrix}\\right]$"
     },
     "execution_count": 18,
     "metadata": {},
     "output_type": "execute_result"
    }
   ],
   "execution_count": 18
  },
  {
   "metadata": {
    "ExecuteTime": {
     "end_time": "2025-06-02T10:53:39.860103Z",
     "start_time": "2025-06-02T10:53:39.853167Z"
    }
   },
   "cell_type": "code",
   "source": [
    "N = Matrix([0, 1, 2])\n",
    "N"
   ],
   "id": "6c928e7a59bdb25f",
   "outputs": [
    {
     "data": {
      "text/plain": [
       "Matrix([\n",
       "[0],\n",
       "[1],\n",
       "[2]])"
      ],
      "text/latex": "$\\displaystyle \\left[\\begin{matrix}0\\\\1\\\\2\\end{matrix}\\right]$"
     },
     "execution_count": 19,
     "metadata": {},
     "output_type": "execute_result"
    }
   ],
   "execution_count": 19
  },
  {
   "metadata": {
    "ExecuteTime": {
     "end_time": "2025-06-02T10:53:39.960062Z",
     "start_time": "2025-06-02T10:53:39.954644Z"
    }
   },
   "cell_type": "code",
   "source": "M * N",
   "id": "81976917990dac7f",
   "outputs": [
    {
     "data": {
      "text/plain": [
       "Matrix([\n",
       "[8],\n",
       "[4]])"
      ],
      "text/latex": "$\\displaystyle \\left[\\begin{matrix}8\\\\4\\end{matrix}\\right]$"
     },
     "execution_count": 20,
     "metadata": {},
     "output_type": "execute_result"
    }
   ],
   "execution_count": 20
  },
  {
   "metadata": {
    "ExecuteTime": {
     "end_time": "2025-06-02T10:53:40.045379Z",
     "start_time": "2025-06-02T10:53:40.040104Z"
    }
   },
   "cell_type": "code",
   "source": "M.row(0)",
   "id": "782f469bf2bc7e20",
   "outputs": [
    {
     "data": {
      "text/plain": [
       "Matrix([[1, 2, 3]])"
      ],
      "text/latex": "$\\displaystyle \\left[\\begin{matrix}1 & 2 & 3\\end{matrix}\\right]$"
     },
     "execution_count": 21,
     "metadata": {},
     "output_type": "execute_result"
    }
   ],
   "execution_count": 21
  },
  {
   "metadata": {
    "ExecuteTime": {
     "end_time": "2025-06-02T10:53:40.145322Z",
     "start_time": "2025-06-02T10:53:40.139772Z"
    }
   },
   "cell_type": "code",
   "source": "M.col(-1)",
   "id": "18f5d65f896aeb1a",
   "outputs": [
    {
     "data": {
      "text/plain": [
       "Matrix([\n",
       "[3],\n",
       "[1]])"
      ],
      "text/latex": "$\\displaystyle \\left[\\begin{matrix}3\\\\1\\end{matrix}\\right]$"
     },
     "execution_count": 22,
     "metadata": {},
     "output_type": "execute_result"
    }
   ],
   "execution_count": 22
  },
  {
   "metadata": {
    "ExecuteTime": {
     "end_time": "2025-06-02T10:53:40.219422Z",
     "start_time": "2025-06-02T10:53:40.213271Z"
    }
   },
   "cell_type": "code",
   "source": [
    "M.col_del(0)\n",
    "M"
   ],
   "id": "231fc23231825c4c",
   "outputs": [
    {
     "data": {
      "text/plain": [
       "Matrix([\n",
       "[2, 3],\n",
       "[2, 1]])"
      ],
      "text/latex": "$\\displaystyle \\left[\\begin{matrix}2 & 3\\\\2 & 1\\end{matrix}\\right]$"
     },
     "execution_count": 23,
     "metadata": {},
     "output_type": "execute_result"
    }
   ],
   "execution_count": 23
  },
  {
   "metadata": {
    "ExecuteTime": {
     "end_time": "2025-06-02T10:53:40.375980Z",
     "start_time": "2025-06-02T10:53:40.369586Z"
    }
   },
   "cell_type": "code",
   "source": [
    "M.row_del(1)\n",
    "M"
   ],
   "id": "99863d2f1f4f254c",
   "outputs": [
    {
     "data": {
      "text/plain": [
       "Matrix([[2, 3]])"
      ],
      "text/latex": "$\\displaystyle \\left[\\begin{matrix}2 & 3\\end{matrix}\\right]$"
     },
     "execution_count": 24,
     "metadata": {},
     "output_type": "execute_result"
    }
   ],
   "execution_count": 24
  },
  {
   "metadata": {
    "ExecuteTime": {
     "end_time": "2025-06-02T10:53:40.719349Z",
     "start_time": "2025-06-02T10:53:40.710667Z"
    }
   },
   "cell_type": "code",
   "source": [
    "M = M.row_insert(1, Matrix([[0, 4]]))\n",
    "M"
   ],
   "id": "29ed7f19bcd10e65",
   "outputs": [
    {
     "data": {
      "text/plain": [
       "Matrix([\n",
       "[2, 3],\n",
       "[0, 4]])"
      ],
      "text/latex": "$\\displaystyle \\left[\\begin{matrix}2 & 3\\\\0 & 4\\end{matrix}\\right]$"
     },
     "execution_count": 25,
     "metadata": {},
     "output_type": "execute_result"
    }
   ],
   "execution_count": 25
  },
  {
   "metadata": {
    "ExecuteTime": {
     "end_time": "2025-06-02T10:53:40.827913Z",
     "start_time": "2025-06-02T10:53:40.821883Z"
    }
   },
   "cell_type": "code",
   "source": [
    "M = M.col_insert(0, Matrix([1, -2]))\n",
    "M"
   ],
   "id": "e3b0c16a0703523c",
   "outputs": [
    {
     "data": {
      "text/plain": [
       "Matrix([\n",
       "[ 1, 2, 3],\n",
       "[-2, 0, 4]])"
      ],
      "text/latex": "$\\displaystyle \\left[\\begin{matrix}1 & 2 & 3\\\\-2 & 0 & 4\\end{matrix}\\right]$"
     },
     "execution_count": 26,
     "metadata": {},
     "output_type": "execute_result"
    }
   ],
   "execution_count": 26
  },
  {
   "metadata": {
    "ExecuteTime": {
     "end_time": "2025-06-02T10:53:40.905141Z",
     "start_time": "2025-06-02T10:53:40.898604Z"
    }
   },
   "cell_type": "code",
   "source": [
    "M = Matrix([[1, 3], [-2, 3]])\n",
    "N = Matrix([[0, 3], [0, 7]])\n",
    "M + N"
   ],
   "id": "c69c542c3f84ec69",
   "outputs": [
    {
     "data": {
      "text/plain": [
       "Matrix([\n",
       "[ 1,  6],\n",
       "[-2, 10]])"
      ],
      "text/latex": "$\\displaystyle \\left[\\begin{matrix}1 & 6\\\\-2 & 10\\end{matrix}\\right]$"
     },
     "execution_count": 27,
     "metadata": {},
     "output_type": "execute_result"
    }
   ],
   "execution_count": 27
  },
  {
   "metadata": {
    "ExecuteTime": {
     "end_time": "2025-06-02T10:53:40.974682Z",
     "start_time": "2025-06-02T10:53:40.968702Z"
    }
   },
   "cell_type": "code",
   "source": "M * N",
   "id": "7dc61ea8f0034f6d",
   "outputs": [
    {
     "data": {
      "text/plain": [
       "Matrix([\n",
       "[0, 24],\n",
       "[0, 15]])"
      ],
      "text/latex": "$\\displaystyle \\left[\\begin{matrix}0 & 24\\\\0 & 15\\end{matrix}\\right]$"
     },
     "execution_count": 28,
     "metadata": {},
     "output_type": "execute_result"
    }
   ],
   "execution_count": 28
  },
  {
   "metadata": {
    "ExecuteTime": {
     "end_time": "2025-06-02T10:53:41.050020Z",
     "start_time": "2025-06-02T10:53:41.044270Z"
    }
   },
   "cell_type": "code",
   "source": "3 * M",
   "id": "d04fd0a342f21a8f",
   "outputs": [
    {
     "data": {
      "text/plain": [
       "Matrix([\n",
       "[ 3, 9],\n",
       "[-6, 9]])"
      ],
      "text/latex": "$\\displaystyle \\left[\\begin{matrix}3 & 9\\\\-6 & 9\\end{matrix}\\right]$"
     },
     "execution_count": 29,
     "metadata": {},
     "output_type": "execute_result"
    }
   ],
   "execution_count": 29
  },
  {
   "metadata": {
    "ExecuteTime": {
     "end_time": "2025-06-02T10:53:41.115848Z",
     "start_time": "2025-06-02T10:53:41.109060Z"
    }
   },
   "cell_type": "code",
   "source": "M ** 2",
   "id": "3f1feddc3989aae4",
   "outputs": [
    {
     "data": {
      "text/plain": [
       "Matrix([\n",
       "[-5, 12],\n",
       "[-8,  3]])"
      ],
      "text/latex": "$\\displaystyle \\left[\\begin{matrix}-5 & 12\\\\-8 & 3\\end{matrix}\\right]$"
     },
     "execution_count": 30,
     "metadata": {},
     "output_type": "execute_result"
    }
   ],
   "execution_count": 30
  },
  {
   "metadata": {
    "ExecuteTime": {
     "end_time": "2025-06-02T10:53:41.178189Z",
     "start_time": "2025-06-02T10:53:41.171940Z"
    }
   },
   "cell_type": "code",
   "source": "(M ** -1)",
   "id": "c62a1341a07d796c",
   "outputs": [
    {
     "data": {
      "text/plain": [
       "Matrix([\n",
       "[1/3, -1/3],\n",
       "[2/9,  1/9]])"
      ],
      "text/latex": "$\\displaystyle \\left[\\begin{matrix}\\frac{1}{3} & - \\frac{1}{3}\\\\\\frac{2}{9} & \\frac{1}{9}\\end{matrix}\\right]$"
     },
     "execution_count": 31,
     "metadata": {},
     "output_type": "execute_result"
    }
   ],
   "execution_count": 31
  },
  {
   "metadata": {
    "ExecuteTime": {
     "end_time": "2025-06-02T10:53:41.271705Z",
     "start_time": "2025-06-02T10:53:41.265570Z"
    }
   },
   "cell_type": "code",
   "source": "(M ** -1) * M",
   "id": "d10df140bd5a219f",
   "outputs": [
    {
     "data": {
      "text/plain": [
       "Matrix([\n",
       "[1, 0],\n",
       "[0, 1]])"
      ],
      "text/latex": "$\\displaystyle \\left[\\begin{matrix}1 & 0\\\\0 & 1\\end{matrix}\\right]$"
     },
     "execution_count": 32,
     "metadata": {},
     "output_type": "execute_result"
    }
   ],
   "execution_count": 32
  },
  {
   "metadata": {},
   "cell_type": "markdown",
   "source": "### Как задать матрицу ###",
   "id": "6810630bb9e1e44d"
  },
  {
   "metadata": {
    "ExecuteTime": {
     "end_time": "2025-06-02T10:53:41.380714Z",
     "start_time": "2025-06-02T10:53:41.374367Z"
    }
   },
   "cell_type": "code",
   "source": [
    "from sympy import eye\n",
    "\n",
    "eye(3)"
   ],
   "id": "6ab5af5cebae2386",
   "outputs": [
    {
     "data": {
      "text/plain": [
       "Matrix([\n",
       "[1, 0, 0],\n",
       "[0, 1, 0],\n",
       "[0, 0, 1]])"
      ],
      "text/latex": "$\\displaystyle \\left[\\begin{matrix}1 & 0 & 0\\\\0 & 1 & 0\\\\0 & 0 & 1\\end{matrix}\\right]$"
     },
     "execution_count": 33,
     "metadata": {},
     "output_type": "execute_result"
    }
   ],
   "execution_count": 33
  },
  {
   "metadata": {
    "ExecuteTime": {
     "end_time": "2025-06-02T10:53:41.444983Z",
     "start_time": "2025-06-02T10:53:41.440116Z"
    }
   },
   "cell_type": "code",
   "source": [
    "from sympy import zeros\n",
    "\n",
    "zeros(2, 3)"
   ],
   "id": "a1bf1d31ae2c74b9",
   "outputs": [
    {
     "data": {
      "text/plain": [
       "Matrix([\n",
       "[0, 0, 0],\n",
       "[0, 0, 0]])"
      ],
      "text/latex": "$\\displaystyle \\left[\\begin{matrix}0 & 0 & 0\\\\0 & 0 & 0\\end{matrix}\\right]$"
     },
     "execution_count": 34,
     "metadata": {},
     "output_type": "execute_result"
    }
   ],
   "execution_count": 34
  },
  {
   "metadata": {
    "ExecuteTime": {
     "end_time": "2025-06-02T10:53:41.523418Z",
     "start_time": "2025-06-02T10:53:41.517752Z"
    }
   },
   "cell_type": "code",
   "source": [
    "from sympy import ones\n",
    "\n",
    "ones(2, 3)"
   ],
   "id": "65c1761d145315f1",
   "outputs": [
    {
     "data": {
      "text/plain": [
       "Matrix([\n",
       "[1, 1, 1],\n",
       "[1, 1, 1]])"
      ],
      "text/latex": "$\\displaystyle \\left[\\begin{matrix}1 & 1 & 1\\\\1 & 1 & 1\\end{matrix}\\right]$"
     },
     "execution_count": 35,
     "metadata": {},
     "output_type": "execute_result"
    }
   ],
   "execution_count": 35
  },
  {
   "metadata": {
    "ExecuteTime": {
     "end_time": "2025-06-02T10:53:41.576607Z",
     "start_time": "2025-06-02T10:53:41.570796Z"
    }
   },
   "cell_type": "code",
   "source": [
    "from sympy import diag\n",
    "\n",
    "diag(1, 2, 3, 4)"
   ],
   "id": "773a9d8dffea02d8",
   "outputs": [
    {
     "data": {
      "text/plain": [
       "Matrix([\n",
       "[1, 0, 0, 0],\n",
       "[0, 2, 0, 0],\n",
       "[0, 0, 3, 0],\n",
       "[0, 0, 0, 4]])"
      ],
      "text/latex": "$\\displaystyle \\left[\\begin{matrix}1 & 0 & 0 & 0\\\\0 & 2 & 0 & 0\\\\0 & 0 & 3 & 0\\\\0 & 0 & 0 & 4\\end{matrix}\\right]$"
     },
     "execution_count": 36,
     "metadata": {},
     "output_type": "execute_result"
    }
   ],
   "execution_count": 36
  },
  {
   "metadata": {
    "ExecuteTime": {
     "end_time": "2025-06-02T10:53:41.635229Z",
     "start_time": "2025-06-02T10:53:41.628544Z"
    }
   },
   "cell_type": "code",
   "source": "diag(1, ones(2), Matrix([5, 7, 5]))",
   "id": "723e200308a37a99",
   "outputs": [
    {
     "data": {
      "text/plain": [
       "Matrix([\n",
       "[1, 0, 0, 0],\n",
       "[0, 1, 1, 0],\n",
       "[0, 1, 1, 0],\n",
       "[0, 0, 0, 5],\n",
       "[0, 0, 0, 7],\n",
       "[0, 0, 0, 5]])"
      ],
      "text/latex": "$\\displaystyle \\left[\\begin{matrix}1 & 0 & 0 & 0\\\\0 & 1 & 1 & 0\\\\0 & 1 & 1 & 0\\\\0 & 0 & 0 & 5\\\\0 & 0 & 0 & 7\\\\0 & 0 & 0 & 5\\end{matrix}\\right]$"
     },
     "execution_count": 37,
     "metadata": {},
     "output_type": "execute_result"
    }
   ],
   "execution_count": 37
  },
  {
   "metadata": {
    "ExecuteTime": {
     "end_time": "2025-06-02T10:53:41.722273Z",
     "start_time": "2025-06-02T10:53:41.714978Z"
    }
   },
   "cell_type": "code",
   "source": [
    "M = Matrix([[1, 0, 1], [2, -1, 3], [4, 3, 2]])\n",
    "M"
   ],
   "id": "e58be855fca6a409",
   "outputs": [
    {
     "data": {
      "text/plain": [
       "Matrix([\n",
       "[1,  0, 1],\n",
       "[2, -1, 3],\n",
       "[4,  3, 2]])"
      ],
      "text/latex": "$\\displaystyle \\left[\\begin{matrix}1 & 0 & 1\\\\2 & -1 & 3\\\\4 & 3 & 2\\end{matrix}\\right]$"
     },
     "execution_count": 38,
     "metadata": {},
     "output_type": "execute_result"
    }
   ],
   "execution_count": 38
  },
  {
   "metadata": {
    "ExecuteTime": {
     "end_time": "2025-06-02T10:53:41.817924Z",
     "start_time": "2025-06-02T10:53:41.813350Z"
    }
   },
   "cell_type": "code",
   "source": "M.det()",
   "id": "491ff627572be719",
   "outputs": [
    {
     "data": {
      "text/plain": [
       "-1"
      ],
      "text/latex": "$\\displaystyle -1$"
     },
     "execution_count": 39,
     "metadata": {},
     "output_type": "execute_result"
    }
   ],
   "execution_count": 39
  },
  {
   "metadata": {
    "ExecuteTime": {
     "end_time": "2025-06-02T10:53:41.881637Z",
     "start_time": "2025-06-02T10:53:41.875559Z"
    }
   },
   "cell_type": "code",
   "source": [
    "M = Matrix([[1, 0, 1, 3], [2, 3, 4, 7], [-1, -3, -3, -4]])\n",
    "M"
   ],
   "id": "182a744fc49daea",
   "outputs": [
    {
     "data": {
      "text/plain": [
       "Matrix([\n",
       "[ 1,  0,  1,  3],\n",
       "[ 2,  3,  4,  7],\n",
       "[-1, -3, -3, -4]])"
      ],
      "text/latex": "$\\displaystyle \\left[\\begin{matrix}1 & 0 & 1 & 3\\\\2 & 3 & 4 & 7\\\\-1 & -3 & -3 & -4\\end{matrix}\\right]$"
     },
     "execution_count": 40,
     "metadata": {},
     "output_type": "execute_result"
    }
   ],
   "execution_count": 40
  },
  {
   "metadata": {
    "ExecuteTime": {
     "end_time": "2025-06-02T10:53:41.933913Z",
     "start_time": "2025-06-02T10:53:41.928734Z"
    }
   },
   "cell_type": "code",
   "source": "M.rref()[0]",
   "id": "d67c978030a15b11",
   "outputs": [
    {
     "data": {
      "text/plain": [
       "Matrix([\n",
       "[1, 0,   1,   3],\n",
       "[0, 1, 2/3, 1/3],\n",
       "[0, 0,   0,   0]])"
      ],
      "text/latex": "$\\displaystyle \\left[\\begin{matrix}1 & 0 & 1 & 3\\\\0 & 1 & \\frac{2}{3} & \\frac{1}{3}\\\\0 & 0 & 0 & 0\\end{matrix}\\right]$"
     },
     "execution_count": 41,
     "metadata": {},
     "output_type": "execute_result"
    }
   ],
   "execution_count": 41
  },
  {
   "metadata": {
    "ExecuteTime": {
     "end_time": "2025-06-02T10:53:41.985589Z",
     "start_time": "2025-06-02T10:53:41.980169Z"
    }
   },
   "cell_type": "code",
   "source": "M.rref()[1]",
   "id": "17f5014dde4f9c9e",
   "outputs": [
    {
     "data": {
      "text/plain": [
       "(0, 1)"
      ]
     },
     "execution_count": 42,
     "metadata": {},
     "output_type": "execute_result"
    }
   ],
   "execution_count": 42
  },
  {
   "metadata": {},
   "cell_type": "markdown",
   "source": "$M = PDP^{-1}$",
   "id": "1edc3fcf8e72f5af"
  },
  {
   "metadata": {
    "ExecuteTime": {
     "end_time": "2025-06-02T10:53:42.037103Z",
     "start_time": "2025-06-02T10:53:42.031450Z"
    }
   },
   "cell_type": "code",
   "source": [
    "M = Matrix([[3, -2, 4, -2], [5, 3, -3, -2], [5, -2, 2, -2], [5, -2, -3, 3]])\n",
    "M"
   ],
   "id": "35ca9bcfb302ccc7",
   "outputs": [
    {
     "data": {
      "text/plain": [
       "Matrix([\n",
       "[3, -2,  4, -2],\n",
       "[5,  3, -3, -2],\n",
       "[5, -2,  2, -2],\n",
       "[5, -2, -3,  3]])"
      ],
      "text/latex": "$\\displaystyle \\left[\\begin{matrix}3 & -2 & 4 & -2\\\\5 & 3 & -3 & -2\\\\5 & -2 & 2 & -2\\\\5 & -2 & -3 & 3\\end{matrix}\\right]$"
     },
     "execution_count": 43,
     "metadata": {},
     "output_type": "execute_result"
    }
   ],
   "execution_count": 43
  },
  {
   "metadata": {
    "ExecuteTime": {
     "end_time": "2025-06-02T10:53:42.102017Z",
     "start_time": "2025-06-02T10:53:42.093745Z"
    }
   },
   "cell_type": "code",
   "source": [
    "P, D = M.diagonalize()\n",
    "P"
   ],
   "id": "e6da5b5377013e3d",
   "outputs": [
    {
     "data": {
      "text/plain": [
       "Matrix([\n",
       "[0, 1, 1,  0],\n",
       "[1, 1, 1, -1],\n",
       "[1, 1, 1,  0],\n",
       "[1, 1, 0,  1]])"
      ],
      "text/latex": "$\\displaystyle \\left[\\begin{matrix}0 & 1 & 1 & 0\\\\1 & 1 & 1 & -1\\\\1 & 1 & 1 & 0\\\\1 & 1 & 0 & 1\\end{matrix}\\right]$"
     },
     "execution_count": 44,
     "metadata": {},
     "output_type": "execute_result"
    }
   ],
   "execution_count": 44
  },
  {
   "metadata": {
    "ExecuteTime": {
     "end_time": "2025-06-02T10:53:42.156927Z",
     "start_time": "2025-06-02T10:53:42.151962Z"
    }
   },
   "cell_type": "code",
   "source": "D",
   "id": "e7abee152f0a3f29",
   "outputs": [
    {
     "data": {
      "text/plain": [
       "Matrix([\n",
       "[-2, 0, 0, 0],\n",
       "[ 0, 3, 0, 0],\n",
       "[ 0, 0, 5, 0],\n",
       "[ 0, 0, 0, 5]])"
      ],
      "text/latex": "$\\displaystyle \\left[\\begin{matrix}-2 & 0 & 0 & 0\\\\0 & 3 & 0 & 0\\\\0 & 0 & 5 & 0\\\\0 & 0 & 0 & 5\\end{matrix}\\right]$"
     },
     "execution_count": 45,
     "metadata": {},
     "output_type": "execute_result"
    }
   ],
   "execution_count": 45
  },
  {
   "metadata": {
    "ExecuteTime": {
     "end_time": "2025-06-02T10:53:42.217188Z",
     "start_time": "2025-06-02T10:53:42.211146Z"
    }
   },
   "cell_type": "code",
   "source": "P * D * P ** -1 == M",
   "id": "c197f39d505992b0",
   "outputs": [
    {
     "data": {
      "text/plain": [
       "True"
      ]
     },
     "execution_count": 46,
     "metadata": {},
     "output_type": "execute_result"
    }
   ],
   "execution_count": 46
  },
  {
   "metadata": {},
   "cell_type": "markdown",
   "source": "### Решение нелинейных уравнений ###",
   "id": "aca4935d28ed8614"
  },
  {
   "metadata": {
    "ExecuteTime": {
     "end_time": "2025-06-02T10:53:42.312381Z",
     "start_time": "2025-06-02T10:53:42.299340Z"
    }
   },
   "cell_type": "code",
   "source": "solve(x ** 2 + 2 * x + 1, x, dict=True)  # dict=True - список словарей",
   "id": "267652c7cbb7a28e",
   "outputs": [
    {
     "data": {
      "text/plain": [
       "[{x: -1}]"
      ]
     },
     "execution_count": 47,
     "metadata": {},
     "output_type": "execute_result"
    }
   ],
   "execution_count": 47
  },
  {
   "metadata": {
    "ExecuteTime": {
     "end_time": "2025-06-02T10:53:42.370971Z",
     "start_time": "2025-06-02T10:53:42.363490Z"
    }
   },
   "cell_type": "code",
   "source": "solve(x ** 2 + 2 * x + 1, x, set=True)",
   "id": "be82b2328f142514",
   "outputs": [
    {
     "data": {
      "text/plain": [
       "([x], {(-1,)})"
      ]
     },
     "execution_count": 48,
     "metadata": {},
     "output_type": "execute_result"
    }
   ],
   "execution_count": 48
  },
  {
   "metadata": {
    "ExecuteTime": {
     "end_time": "2025-06-02T10:53:42.417409Z",
     "start_time": "2025-06-02T10:53:42.410905Z"
    }
   },
   "cell_type": "code",
   "source": "solve(x ** 2 - 1, x)",
   "id": "2d00b4daa8537dab",
   "outputs": [
    {
     "data": {
      "text/plain": [
       "[-1, 1]"
      ]
     },
     "execution_count": 49,
     "metadata": {},
     "output_type": "execute_result"
    }
   ],
   "execution_count": 49
  },
  {
   "metadata": {
    "ExecuteTime": {
     "end_time": "2025-06-02T10:53:42.466077Z",
     "start_time": "2025-06-02T10:53:42.458969Z"
    }
   },
   "cell_type": "code",
   "source": [
    "eq = Eq(x ** 3 - 21 * x, 0)\n",
    "eq"
   ],
   "id": "b439ee6f91f43e8b",
   "outputs": [
    {
     "data": {
      "text/plain": [
       "Eq(x**3 - 21*x, 0)"
      ],
      "text/latex": "$\\displaystyle x^{3} - 21 x = 0$"
     },
     "execution_count": 50,
     "metadata": {},
     "output_type": "execute_result"
    }
   ],
   "execution_count": 50
  },
  {
   "metadata": {
    "ExecuteTime": {
     "end_time": "2025-06-02T10:53:42.529511Z",
     "start_time": "2025-06-02T10:53:42.520743Z"
    }
   },
   "cell_type": "code",
   "source": "solve(eq, x)",
   "id": "700adef6a6254019",
   "outputs": [
    {
     "data": {
      "text/plain": [
       "[0, -sqrt(21), sqrt(21)]"
      ]
     },
     "execution_count": 51,
     "metadata": {},
     "output_type": "execute_result"
    }
   ],
   "execution_count": 51
  },
  {
   "metadata": {
    "ExecuteTime": {
     "end_time": "2025-06-02T10:53:42.700867Z",
     "start_time": "2025-06-02T10:53:42.580524Z"
    }
   },
   "cell_type": "code",
   "source": "solve([x - 2, x ** 2 + f(x)], {f(x), x})",
   "id": "eef22429ad4d5508",
   "outputs": [
    {
     "data": {
      "text/plain": [
       "[{x: 2, f(x): -4}]"
      ]
     },
     "execution_count": 52,
     "metadata": {},
     "output_type": "execute_result"
    }
   ],
   "execution_count": 52
  },
  {
   "metadata": {
    "ExecuteTime": {
     "end_time": "2025-06-02T10:53:42.732788Z",
     "start_time": "2025-06-02T10:53:42.724543Z"
    }
   },
   "cell_type": "code",
   "source": "solve([x - 2, x ** 2 + y])",
   "id": "3eb456b33e61a3e1",
   "outputs": [
    {
     "data": {
      "text/plain": [
       "[{x: 2, y: -4}]"
      ]
     },
     "execution_count": 53,
     "metadata": {},
     "output_type": "execute_result"
    }
   ],
   "execution_count": 53
  },
  {
   "metadata": {
    "ExecuteTime": {
     "end_time": "2025-06-02T10:53:42.766220Z",
     "start_time": "2025-06-02T10:53:42.763888Z"
    }
   },
   "cell_type": "code",
   "source": "",
   "id": "b46074df6c8f9b34",
   "outputs": [],
   "execution_count": null
  },
  {
   "metadata": {
    "ExecuteTime": {
     "end_time": "2025-06-02T10:53:42.811554Z",
     "start_time": "2025-06-02T10:53:42.809761Z"
    }
   },
   "cell_type": "code",
   "source": "",
   "id": "765f0f5d3f0cc710",
   "outputs": [],
   "execution_count": null
  },
  {
   "metadata": {
    "ExecuteTime": {
     "end_time": "2025-06-02T10:53:42.834197Z",
     "start_time": "2025-06-02T10:53:42.832349Z"
    }
   },
   "cell_type": "code",
   "source": "",
   "id": "a260a7b9e4289946",
   "outputs": [],
   "execution_count": null
  },
  {
   "metadata": {
    "ExecuteTime": {
     "end_time": "2025-06-02T10:53:42.852747Z",
     "start_time": "2025-06-02T10:53:42.849661Z"
    }
   },
   "cell_type": "code",
   "source": "",
   "id": "d890142fe2cb81c8",
   "outputs": [],
   "execution_count": null
  },
  {
   "metadata": {
    "ExecuteTime": {
     "end_time": "2025-06-02T10:53:42.886771Z",
     "start_time": "2025-06-02T10:53:42.884434Z"
    }
   },
   "cell_type": "code",
   "source": "",
   "id": "c77f95615400b75b",
   "outputs": [],
   "execution_count": null
  },
  {
   "metadata": {
    "ExecuteTime": {
     "end_time": "2025-06-02T10:53:42.923455Z",
     "start_time": "2025-06-02T10:53:42.920969Z"
    }
   },
   "cell_type": "code",
   "source": "",
   "id": "264666fe34fb0d9e",
   "outputs": [],
   "execution_count": null
  },
  {
   "metadata": {
    "ExecuteTime": {
     "end_time": "2025-06-02T10:53:42.960736Z",
     "start_time": "2025-06-02T10:53:42.958062Z"
    }
   },
   "cell_type": "code",
   "source": "",
   "id": "d9b6a0868255473f",
   "outputs": [],
   "execution_count": null
  },
  {
   "metadata": {
    "ExecuteTime": {
     "end_time": "2025-06-02T10:53:42.987868Z",
     "start_time": "2025-06-02T10:53:42.984364Z"
    }
   },
   "cell_type": "code",
   "source": "",
   "id": "6a2150ad330e7a11",
   "outputs": [],
   "execution_count": null
  },
  {
   "metadata": {
    "ExecuteTime": {
     "end_time": "2025-06-02T10:53:43.021022Z",
     "start_time": "2025-06-02T10:53:43.018509Z"
    }
   },
   "cell_type": "code",
   "source": "",
   "id": "1c7de846ed978fe",
   "outputs": [],
   "execution_count": null
  },
  {
   "metadata": {
    "ExecuteTime": {
     "end_time": "2025-06-02T10:53:43.065611Z",
     "start_time": "2025-06-02T10:53:43.062437Z"
    }
   },
   "cell_type": "code",
   "source": "",
   "id": "6772f7f0239747a3",
   "outputs": [],
   "execution_count": null
  },
  {
   "metadata": {
    "ExecuteTime": {
     "end_time": "2025-06-02T10:53:43.096830Z",
     "start_time": "2025-06-02T10:53:43.094367Z"
    }
   },
   "cell_type": "code",
   "source": "",
   "id": "2e4c9f0fb9fb5786",
   "outputs": [],
   "execution_count": null
  },
  {
   "metadata": {
    "ExecuteTime": {
     "end_time": "2025-06-02T10:53:43.131717Z",
     "start_time": "2025-06-02T10:53:43.128956Z"
    }
   },
   "cell_type": "code",
   "source": "",
   "id": "d3d2487696b105f1",
   "outputs": [],
   "execution_count": null
  },
  {
   "metadata": {
    "ExecuteTime": {
     "end_time": "2025-06-02T10:53:43.163051Z",
     "start_time": "2025-06-02T10:53:43.160031Z"
    }
   },
   "cell_type": "code",
   "source": "",
   "id": "65575f3a2af8059a",
   "outputs": [],
   "execution_count": null
  },
  {
   "metadata": {
    "ExecuteTime": {
     "end_time": "2025-06-02T10:53:43.223180Z",
     "start_time": "2025-06-02T10:53:43.219887Z"
    }
   },
   "cell_type": "code",
   "source": "",
   "id": "35f6fe5e85269072",
   "outputs": [],
   "execution_count": null
  },
  {
   "metadata": {
    "ExecuteTime": {
     "end_time": "2025-06-02T10:53:43.256439Z",
     "start_time": "2025-06-02T10:53:43.253326Z"
    }
   },
   "cell_type": "code",
   "source": "",
   "id": "af3e9c732bd62211",
   "outputs": [],
   "execution_count": null
  },
  {
   "metadata": {
    "ExecuteTime": {
     "end_time": "2025-06-02T10:53:43.289683Z",
     "start_time": "2025-06-02T10:53:43.287361Z"
    }
   },
   "cell_type": "code",
   "source": "",
   "id": "4d6921dc120e4c3e",
   "outputs": [],
   "execution_count": null
  },
  {
   "metadata": {
    "ExecuteTime": {
     "end_time": "2025-06-02T10:53:43.344528Z",
     "start_time": "2025-06-02T10:53:43.340550Z"
    }
   },
   "cell_type": "code",
   "source": "",
   "id": "98bc41d1abdae4bd",
   "outputs": [],
   "execution_count": null
  }
 ],
 "metadata": {
  "kernelspec": {
   "display_name": "Python 3",
   "language": "python",
   "name": "python3"
  },
  "language_info": {
   "codemirror_mode": {
    "name": "ipython",
    "version": 2
   },
   "file_extension": ".py",
   "mimetype": "text/x-python",
   "name": "python",
   "nbconvert_exporter": "python",
   "pygments_lexer": "ipython2",
   "version": "2.7.6"
  }
 },
 "nbformat": 4,
 "nbformat_minor": 5
}
