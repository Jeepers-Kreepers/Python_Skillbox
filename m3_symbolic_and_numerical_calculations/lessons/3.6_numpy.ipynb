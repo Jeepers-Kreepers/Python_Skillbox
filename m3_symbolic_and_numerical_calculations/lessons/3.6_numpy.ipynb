{
 "cells": [
  {
   "cell_type": "code",
   "id": "initial_id",
   "metadata": {
    "collapsed": true,
    "ExecuteTime": {
     "end_time": "2025-05-05T17:48:26.064614Z",
     "start_time": "2025-05-05T17:48:26.061183Z"
    }
   },
   "source": [
    "import numpy as np\n",
    "from matplotlib import pyplot as plt\n",
    "# Позволя выводить графики внутри jupyter ноутбука\n",
    "%matplotlib inline"
   ],
   "outputs": [],
   "execution_count": 184
  },
  {
   "metadata": {
    "ExecuteTime": {
     "end_time": "2025-05-05T17:48:26.117676Z",
     "start_time": "2025-05-05T17:48:26.113521Z"
    }
   },
   "cell_type": "code",
   "source": [
    "a = np.array([1, 2, 3, 4])\n",
    "a"
   ],
   "id": "28b4bc9b6b071f62",
   "outputs": [
    {
     "data": {
      "text/plain": [
       "array([1, 2, 3, 4])"
      ]
     },
     "execution_count": 185,
     "metadata": {},
     "output_type": "execute_result"
    }
   ],
   "execution_count": 185
  },
  {
   "metadata": {
    "ExecuteTime": {
     "end_time": "2025-05-05T17:48:26.166925Z",
     "start_time": "2025-05-05T17:48:26.163727Z"
    }
   },
   "cell_type": "code",
   "source": "print(a)",
   "id": "db12375ca74a76f0",
   "outputs": [
    {
     "name": "stdout",
     "output_type": "stream",
     "text": [
      "[1 2 3 4]\n"
     ]
    }
   ],
   "execution_count": 186
  },
  {
   "metadata": {
    "ExecuteTime": {
     "end_time": "2025-05-05T17:48:26.218654Z",
     "start_time": "2025-05-05T17:48:26.215262Z"
    }
   },
   "cell_type": "code",
   "source": [
    "# np.array - метод\n",
    "# np.ndarray - класс\n",
    "print(np.ndarray([2, 2]))"
   ],
   "id": "6ee6fbbdf5e0192b",
   "outputs": [
    {
     "name": "stdout",
     "output_type": "stream",
     "text": [
      "[[0. 0.]\n",
      " [0. 0.]]\n"
     ]
    }
   ],
   "execution_count": 187
  },
  {
   "metadata": {
    "ExecuteTime": {
     "end_time": "2025-05-05T17:48:26.278822Z",
     "start_time": "2025-05-05T17:48:26.274173Z"
    }
   },
   "cell_type": "code",
   "source": [
    "b = np.array([(1, 2, 3), (4, 5, 6)])\n",
    "b.dtype"
   ],
   "id": "e732247ac96597cc",
   "outputs": [
    {
     "data": {
      "text/plain": [
       "dtype('int64')"
      ]
     },
     "execution_count": 188,
     "metadata": {},
     "output_type": "execute_result"
    }
   ],
   "execution_count": 188
  },
  {
   "metadata": {
    "ExecuteTime": {
     "end_time": "2025-05-05T17:48:26.350734Z",
     "start_time": "2025-05-05T17:48:26.346459Z"
    }
   },
   "cell_type": "code",
   "source": [
    "b = np.array([(1.5, 2, 3), (4, 5, 6)])\n",
    "b.dtype"
   ],
   "id": "a06133ecec221f4",
   "outputs": [
    {
     "data": {
      "text/plain": [
       "dtype('float64')"
      ]
     },
     "execution_count": 189,
     "metadata": {},
     "output_type": "execute_result"
    }
   ],
   "execution_count": 189
  },
  {
   "metadata": {
    "ExecuteTime": {
     "end_time": "2025-05-05T17:48:26.414825Z",
     "start_time": "2025-05-05T17:48:26.406931Z"
    }
   },
   "cell_type": "code",
   "source": [
    "b = np.array([(1.5, 2, 3), (4, 5, 6)])\n",
    "b"
   ],
   "id": "c5d621b873dcad94",
   "outputs": [
    {
     "data": {
      "text/plain": [
       "array([[1.5, 2. , 3. ],\n",
       "       [4. , 5. , 6. ]])"
      ]
     },
     "execution_count": 190,
     "metadata": {},
     "output_type": "execute_result"
    }
   ],
   "execution_count": 190
  },
  {
   "metadata": {
    "ExecuteTime": {
     "end_time": "2025-05-05T17:48:26.501769Z",
     "start_time": "2025-05-05T17:48:26.497563Z"
    }
   },
   "cell_type": "code",
   "source": [
    "# Указание типа элементов массива\n",
    "c = np.array([[1, 2], [3, 4]], dtype=complex)\n",
    "c"
   ],
   "id": "dcddb5b4c3b0bc0c",
   "outputs": [
    {
     "data": {
      "text/plain": [
       "array([[1.+0.j, 2.+0.j],\n",
       "       [3.+0.j, 4.+0.j]])"
      ]
     },
     "execution_count": 191,
     "metadata": {},
     "output_type": "execute_result"
    }
   ],
   "execution_count": 191
  },
  {
   "metadata": {
    "ExecuteTime": {
     "end_time": "2025-05-05T17:48:26.587388Z",
     "start_time": "2025-05-05T17:48:26.583257Z"
    }
   },
   "cell_type": "code",
   "source": "np.zeros((3, 4))",
   "id": "f56558e14550d24e",
   "outputs": [
    {
     "data": {
      "text/plain": [
       "array([[0., 0., 0., 0.],\n",
       "       [0., 0., 0., 0.],\n",
       "       [0., 0., 0., 0.]])"
      ]
     },
     "execution_count": 192,
     "metadata": {},
     "output_type": "execute_result"
    }
   ],
   "execution_count": 192
  },
  {
   "metadata": {
    "ExecuteTime": {
     "end_time": "2025-05-05T17:48:26.801664Z",
     "start_time": "2025-05-05T17:48:26.797240Z"
    }
   },
   "cell_type": "code",
   "source": "np.ones((2, 3, 4), dtype=np.int16)",
   "id": "3439b47db57c50d8",
   "outputs": [
    {
     "data": {
      "text/plain": [
       "array([[[1, 1, 1, 1],\n",
       "        [1, 1, 1, 1],\n",
       "        [1, 1, 1, 1]],\n",
       "\n",
       "       [[1, 1, 1, 1],\n",
       "        [1, 1, 1, 1],\n",
       "        [1, 1, 1, 1]]], dtype=int16)"
      ]
     },
     "execution_count": 193,
     "metadata": {},
     "output_type": "execute_result"
    }
   ],
   "execution_count": 193
  },
  {
   "metadata": {
    "ExecuteTime": {
     "end_time": "2025-05-05T17:48:26.954590Z",
     "start_time": "2025-05-05T17:48:26.950346Z"
    }
   },
   "cell_type": "code",
   "source": "np.arange(10, 30, 5)",
   "id": "28890b93b8758197",
   "outputs": [
    {
     "data": {
      "text/plain": [
       "array([10, 15, 20, 25])"
      ]
     },
     "execution_count": 194,
     "metadata": {},
     "output_type": "execute_result"
    }
   ],
   "execution_count": 194
  },
  {
   "metadata": {
    "ExecuteTime": {
     "end_time": "2025-05-05T17:48:27.115798Z",
     "start_time": "2025-05-05T17:48:27.110938Z"
    }
   },
   "cell_type": "code",
   "source": "np.arange(0, 2, 0.3)",
   "id": "d513903b32ebafac",
   "outputs": [
    {
     "data": {
      "text/plain": [
       "array([0. , 0.3, 0.6, 0.9, 1.2, 1.5, 1.8])"
      ]
     },
     "execution_count": 195,
     "metadata": {},
     "output_type": "execute_result"
    }
   ],
   "execution_count": 195
  },
  {
   "metadata": {
    "ExecuteTime": {
     "end_time": "2025-05-05T17:48:27.230663Z",
     "start_time": "2025-05-05T17:48:27.226255Z"
    }
   },
   "cell_type": "code",
   "source": "np.linspace(0, 2, 9)  # 9 чисел от 0 до 2",
   "id": "619f34f7e1728473",
   "outputs": [
    {
     "data": {
      "text/plain": [
       "array([0.  , 0.25, 0.5 , 0.75, 1.  , 1.25, 1.5 , 1.75, 2.  ])"
      ]
     },
     "execution_count": 196,
     "metadata": {},
     "output_type": "execute_result"
    }
   ],
   "execution_count": 196
  },
  {
   "metadata": {
    "ExecuteTime": {
     "end_time": "2025-05-05T17:48:27.288617Z",
     "start_time": "2025-05-05T17:48:27.285573Z"
    }
   },
   "cell_type": "code",
   "source": "x = np.linspace(0, 2 * np.pi, 100)",
   "id": "84287a97f5df7aec",
   "outputs": [],
   "execution_count": 197
  },
  {
   "metadata": {
    "ExecuteTime": {
     "end_time": "2025-05-05T17:48:27.343078Z",
     "start_time": "2025-05-05T17:48:27.340082Z"
    }
   },
   "cell_type": "code",
   "source": "sin_x = np.sin(x)",
   "id": "9beefbd76dc1acc4",
   "outputs": [],
   "execution_count": 198
  },
  {
   "metadata": {
    "ExecuteTime": {
     "end_time": "2025-05-05T17:48:27.492360Z",
     "start_time": "2025-05-05T17:48:27.402146Z"
    }
   },
   "cell_type": "code",
   "source": "_ = plt.plot(x, sin_x)",
   "id": "9b8288d06636692c",
   "outputs": [
    {
     "data": {
      "text/plain": [
       "<Figure size 640x480 with 1 Axes>"
      ],
      "image/png": "[encoded data removed]"
     },
     "metadata": {},
     "output_type": "display_data"
    }
   ],
   "execution_count": 199
  },
  {
   "metadata": {
    "ExecuteTime": {
     "end_time": "2025-05-05T17:48:27.524657Z",
     "start_time": "2025-05-05T17:48:27.519401Z"
    }
   },
   "cell_type": "code",
   "source": [
    "a = np.arange(6)\n",
    "a"
   ],
   "id": "e7cb89e17db3774c",
   "outputs": [
    {
     "data": {
      "text/plain": [
       "array([0, 1, 2, 3, 4, 5])"
      ]
     },
     "execution_count": 200,
     "metadata": {},
     "output_type": "execute_result"
    }
   ],
   "execution_count": 200
  },
  {
   "metadata": {
    "ExecuteTime": {
     "end_time": "2025-05-05T17:48:27.593264Z",
     "start_time": "2025-05-05T17:48:27.589109Z"
    }
   },
   "cell_type": "code",
   "source": [
    "b = np.arange(12).reshape(4, 3)\n",
    "b"
   ],
   "id": "25ae612ef08e0a4c",
   "outputs": [
    {
     "data": {
      "text/plain": [
       "array([[ 0,  1,  2],\n",
       "       [ 3,  4,  5],\n",
       "       [ 6,  7,  8],\n",
       "       [ 9, 10, 11]])"
      ]
     },
     "execution_count": 201,
     "metadata": {},
     "output_type": "execute_result"
    }
   ],
   "execution_count": 201
  },
  {
   "metadata": {
    "ExecuteTime": {
     "end_time": "2025-05-05T17:48:27.696864Z",
     "start_time": "2025-05-05T17:48:27.692448Z"
    }
   },
   "cell_type": "code",
   "source": [
    "a = np.array([20, 30, 40, 50])\n",
    "b = np.arange(4)\n",
    "b"
   ],
   "id": "7236d33d69c68dbb",
   "outputs": [
    {
     "data": {
      "text/plain": [
       "array([0, 1, 2, 3])"
      ]
     },
     "execution_count": 202,
     "metadata": {},
     "output_type": "execute_result"
    }
   ],
   "execution_count": 202
  },
  {
   "metadata": {
    "ExecuteTime": {
     "end_time": "2025-05-05T17:48:27.749185Z",
     "start_time": "2025-05-05T17:48:27.745039Z"
    }
   },
   "cell_type": "code",
   "source": [
    "c = a + b\n",
    "c"
   ],
   "id": "bf73659e9f229812",
   "outputs": [
    {
     "data": {
      "text/plain": [
       "array([20, 31, 42, 53])"
      ]
     },
     "execution_count": 203,
     "metadata": {},
     "output_type": "execute_result"
    }
   ],
   "execution_count": 203
  },
  {
   "metadata": {
    "ExecuteTime": {
     "end_time": "2025-05-05T17:48:27.858312Z",
     "start_time": "2025-05-05T17:48:27.854141Z"
    }
   },
   "cell_type": "code",
   "source": [
    "A = np.array([[1, 1], [0, 1]])\n",
    "B = np.array([[2, 0], [3, 4]])\n",
    "A * B  # поэлементное умножение"
   ],
   "id": "bce472c495f947c",
   "outputs": [
    {
     "data": {
      "text/plain": [
       "array([[2, 0],\n",
       "       [0, 4]])"
      ]
     },
     "execution_count": 204,
     "metadata": {},
     "output_type": "execute_result"
    }
   ],
   "execution_count": 204
  },
  {
   "metadata": {
    "ExecuteTime": {
     "end_time": "2025-05-05T17:48:27.990490Z",
     "start_time": "2025-05-05T17:48:27.986728Z"
    }
   },
   "cell_type": "code",
   "source": "A @ B  # матричное умножение",
   "id": "383eef0672c2d366",
   "outputs": [
    {
     "data": {
      "text/plain": [
       "array([[5, 4],\n",
       "       [3, 4]])"
      ]
     },
     "execution_count": 205,
     "metadata": {},
     "output_type": "execute_result"
    }
   ],
   "execution_count": 205
  },
  {
   "metadata": {
    "ExecuteTime": {
     "end_time": "2025-05-05T17:48:28.063287Z",
     "start_time": "2025-05-05T17:48:28.059625Z"
    }
   },
   "cell_type": "code",
   "source": "A.dot(B)  # матричное умножение",
   "id": "4a00e7f601b3a74c",
   "outputs": [
    {
     "data": {
      "text/plain": [
       "array([[5, 4],\n",
       "       [3, 4]])"
      ]
     },
     "execution_count": 206,
     "metadata": {},
     "output_type": "execute_result"
    }
   ],
   "execution_count": 206
  },
  {
   "metadata": {},
   "cell_type": "markdown",
   "source": "#### Генератор для случайных чисел ####",
   "id": "e0ec2c734605425b"
  },
  {
   "metadata": {
    "ExecuteTime": {
     "end_time": "2025-05-05T17:48:28.152392Z",
     "start_time": "2025-05-05T17:48:28.148441Z"
    }
   },
   "cell_type": "code",
   "source": [
    "rg = np.random.default_rng(1)  # seed = 1 Это число, которое, используется для генерации случайных чисел\n",
    "rg"
   ],
   "id": "574e835c9c6095e9",
   "outputs": [
    {
     "data": {
      "text/plain": [
       "Generator(PCG64) at 0x7F5B4E743840"
      ]
     },
     "execution_count": 207,
     "metadata": {},
     "output_type": "execute_result"
    }
   ],
   "execution_count": 207
  },
  {
   "metadata": {},
   "cell_type": "markdown",
   "source": "##### Оси (axis)",
   "id": "84385fb6714b9ecc"
  },
  {
   "metadata": {
    "ExecuteTime": {
     "end_time": "2025-05-05T17:48:28.298781Z",
     "start_time": "2025-05-05T17:48:28.294448Z"
    }
   },
   "cell_type": "code",
   "source": [
    "a = rg.random((2, 3))\n",
    "a"
   ],
   "id": "fae9fd1dc6ccfbe0",
   "outputs": [
    {
     "data": {
      "text/plain": [
       "array([[0.51182162, 0.9504637 , 0.14415961],\n",
       "       [0.94864945, 0.31183145, 0.42332645]])"
      ]
     },
     "execution_count": 208,
     "metadata": {},
     "output_type": "execute_result"
    }
   ],
   "execution_count": 208
  },
  {
   "metadata": {
    "ExecuteTime": {
     "end_time": "2025-05-05T17:48:28.480313Z",
     "start_time": "2025-05-05T17:48:28.476262Z"
    }
   },
   "cell_type": "code",
   "source": "a.sum(), a.min(), a.max()",
   "id": "347afbdad442494a",
   "outputs": [
    {
     "data": {
      "text/plain": [
       "(np.float64(3.290252281866131),\n",
       " np.float64(0.14415961271963373),\n",
       " np.float64(0.9504636963259353))"
      ]
     },
     "execution_count": 209,
     "metadata": {},
     "output_type": "execute_result"
    }
   ],
   "execution_count": 209
  },
  {
   "metadata": {
    "ExecuteTime": {
     "end_time": "2025-05-05T17:48:28.589820Z",
     "start_time": "2025-05-05T17:48:28.584546Z"
    }
   },
   "cell_type": "code",
   "source": [
    "b = np.arange(12).reshape(3, 4)\n",
    "b\n"
   ],
   "id": "299109822c9b076b",
   "outputs": [
    {
     "data": {
      "text/plain": [
       "array([[ 0,  1,  2,  3],\n",
       "       [ 4,  5,  6,  7],\n",
       "       [ 8,  9, 10, 11]])"
      ]
     },
     "execution_count": 210,
     "metadata": {},
     "output_type": "execute_result"
    }
   ],
   "execution_count": 210
  },
  {
   "metadata": {
    "ExecuteTime": {
     "end_time": "2025-05-05T17:48:28.728290Z",
     "start_time": "2025-05-05T17:48:28.723084Z"
    }
   },
   "cell_type": "code",
   "source": "b.sum(axis=0), b.min(axis=1), b.cumsum(axis=1)",
   "id": "d66e1b1a28c30c25",
   "outputs": [
    {
     "data": {
      "text/plain": [
       "(array([12, 15, 18, 21]),\n",
       " array([0, 4, 8]),\n",
       " array([[ 0,  1,  3,  6],\n",
       "        [ 4,  9, 15, 22],\n",
       "        [ 8, 17, 27, 38]]))"
      ]
     },
     "execution_count": 211,
     "metadata": {},
     "output_type": "execute_result"
    }
   ],
   "execution_count": 211
  },
  {
   "metadata": {},
   "cell_type": "markdown",
   "source": "### Универсальные функции ###",
   "id": "2cf06ba59ac7d0ef"
  },
  {
   "metadata": {
    "ExecuteTime": {
     "end_time": "2025-05-05T17:48:28.961436Z",
     "start_time": "2025-05-05T17:48:28.957601Z"
    }
   },
   "cell_type": "code",
   "source": [
    "a = np.arange(3)\n",
    "a"
   ],
   "id": "86ca1c7842b74f49",
   "outputs": [
    {
     "data": {
      "text/plain": [
       "array([0, 1, 2])"
      ]
     },
     "execution_count": 212,
     "metadata": {},
     "output_type": "execute_result"
    }
   ],
   "execution_count": 212
  },
  {
   "metadata": {
    "ExecuteTime": {
     "end_time": "2025-05-05T17:48:29.047731Z",
     "start_time": "2025-05-05T17:48:29.043593Z"
    }
   },
   "cell_type": "code",
   "source": "np.exp(a)",
   "id": "bd04f849ec25ec98",
   "outputs": [
    {
     "data": {
      "text/plain": [
       "array([1.        , 2.71828183, 7.3890561 ])"
      ]
     },
     "execution_count": 213,
     "metadata": {},
     "output_type": "execute_result"
    }
   ],
   "execution_count": 213
  },
  {
   "metadata": {
    "ExecuteTime": {
     "end_time": "2025-05-05T17:48:29.142416Z",
     "start_time": "2025-05-05T17:48:29.137750Z"
    }
   },
   "cell_type": "code",
   "source": "np.sqrt(a)",
   "id": "6dcd2da8264e7524",
   "outputs": [
    {
     "data": {
      "text/plain": [
       "array([0.        , 1.        , 1.41421356])"
      ]
     },
     "execution_count": 214,
     "metadata": {},
     "output_type": "execute_result"
    }
   ],
   "execution_count": 214
  },
  {
   "metadata": {
    "ExecuteTime": {
     "end_time": "2025-05-05T17:48:29.208309Z",
     "start_time": "2025-05-05T17:48:29.204085Z"
    }
   },
   "cell_type": "code",
   "source": [
    "b = np.array([2., -1., 4.])\n",
    "b"
   ],
   "id": "46eb4fa759514e90",
   "outputs": [
    {
     "data": {
      "text/plain": [
       "array([ 2., -1.,  4.])"
      ]
     },
     "execution_count": 215,
     "metadata": {},
     "output_type": "execute_result"
    }
   ],
   "execution_count": 215
  },
  {
   "metadata": {
    "ExecuteTime": {
     "end_time": "2025-05-05T17:48:29.280359Z",
     "start_time": "2025-05-05T17:48:29.276271Z"
    }
   },
   "cell_type": "code",
   "source": "np.add(a, b)",
   "id": "e8197a0175c7895e",
   "outputs": [
    {
     "data": {
      "text/plain": [
       "array([2., 0., 6.])"
      ]
     },
     "execution_count": 216,
     "metadata": {},
     "output_type": "execute_result"
    }
   ],
   "execution_count": 216
  },
  {
   "metadata": {},
   "cell_type": "markdown",
   "source": "#### индексирование ####",
   "id": "6ef9b4e04baaf8fc"
  },
  {
   "metadata": {
    "ExecuteTime": {
     "end_time": "2025-05-05T17:48:29.340978Z",
     "start_time": "2025-05-05T17:48:29.336385Z"
    }
   },
   "cell_type": "code",
   "source": [
    "a = np.arange(10) ** 3\n",
    "a"
   ],
   "id": "350054adbc32474a",
   "outputs": [
    {
     "data": {
      "text/plain": [
       "array([  0,   1,   8,  27,  64, 125, 216, 343, 512, 729])"
      ]
     },
     "execution_count": 217,
     "metadata": {},
     "output_type": "execute_result"
    }
   ],
   "execution_count": 217
  },
  {
   "metadata": {
    "ExecuteTime": {
     "end_time": "2025-05-05T17:48:29.417177Z",
     "start_time": "2025-05-05T17:48:29.413472Z"
    }
   },
   "cell_type": "code",
   "source": "a[2]",
   "id": "598318c3f085ba0d",
   "outputs": [
    {
     "data": {
      "text/plain": [
       "np.int64(8)"
      ]
     },
     "execution_count": 218,
     "metadata": {},
     "output_type": "execute_result"
    }
   ],
   "execution_count": 218
  },
  {
   "metadata": {
    "ExecuteTime": {
     "end_time": "2025-05-05T17:48:29.485105Z",
     "start_time": "2025-05-05T17:48:29.480968Z"
    }
   },
   "cell_type": "code",
   "source": "a[2:5]",
   "id": "716bc24c3950aef3",
   "outputs": [
    {
     "data": {
      "text/plain": [
       "array([ 8, 27, 64])"
      ]
     },
     "execution_count": 219,
     "metadata": {},
     "output_type": "execute_result"
    }
   ],
   "execution_count": 219
  },
  {
   "metadata": {
    "ExecuteTime": {
     "end_time": "2025-05-05T17:48:29.549665Z",
     "start_time": "2025-05-05T17:48:29.545319Z"
    }
   },
   "cell_type": "code",
   "source": [
    "a[:6:2] = 1000  # Присваивание значения элементам среза\n",
    "a"
   ],
   "id": "f77a33c83100e8a1",
   "outputs": [
    {
     "data": {
      "text/plain": [
       "array([1000,    1, 1000,   27, 1000,  125,  216,  343,  512,  729])"
      ]
     },
     "execution_count": 220,
     "metadata": {},
     "output_type": "execute_result"
    }
   ],
   "execution_count": 220
  },
  {
   "metadata": {},
   "cell_type": "markdown",
   "source": "#### Многомерная индексация ####\n",
   "id": "ecea38f4fd81423e"
  },
  {
   "metadata": {
    "ExecuteTime": {
     "end_time": "2025-05-05T17:48:29.605638Z",
     "start_time": "2025-05-05T17:48:29.602774Z"
    }
   },
   "cell_type": "code",
   "source": "f = lambda x, y: 10 * x + y  # x- номер строки, y- номер столбца",
   "id": "f5144b46dde4be23",
   "outputs": [],
   "execution_count": 221
  },
  {
   "metadata": {
    "ExecuteTime": {
     "end_time": "2025-05-05T17:48:29.659963Z",
     "start_time": "2025-05-05T17:48:29.655160Z"
    }
   },
   "cell_type": "code",
   "source": [
    "b = np.fromfunction(f, (5, 4), dtype=int)\n",
    "b"
   ],
   "id": "4ed75251609d78b4",
   "outputs": [
    {
     "data": {
      "text/plain": [
       "array([[ 0,  1,  2,  3],\n",
       "       [10, 11, 12, 13],\n",
       "       [20, 21, 22, 23],\n",
       "       [30, 31, 32, 33],\n",
       "       [40, 41, 42, 43]])"
      ]
     },
     "execution_count": 222,
     "metadata": {},
     "output_type": "execute_result"
    }
   ],
   "execution_count": 222
  },
  {
   "metadata": {
    "ExecuteTime": {
     "end_time": "2025-05-05T17:48:29.748304Z",
     "start_time": "2025-05-05T17:48:29.744505Z"
    }
   },
   "cell_type": "code",
   "source": "b[2, 3]",
   "id": "8a94bd0a9f758484",
   "outputs": [
    {
     "data": {
      "text/plain": [
       "np.int64(23)"
      ]
     },
     "execution_count": 223,
     "metadata": {},
     "output_type": "execute_result"
    }
   ],
   "execution_count": 223
  },
  {
   "metadata": {
    "ExecuteTime": {
     "end_time": "2025-05-05T17:48:29.809009Z",
     "start_time": "2025-05-05T17:48:29.804410Z"
    }
   },
   "cell_type": "code",
   "source": "b[0:4, 2]",
   "id": "7a4a4941d8b3bb8a",
   "outputs": [
    {
     "data": {
      "text/plain": [
       "array([ 2, 12, 22, 32])"
      ]
     },
     "execution_count": 224,
     "metadata": {},
     "output_type": "execute_result"
    }
   ],
   "execution_count": 224
  },
  {
   "metadata": {
    "ExecuteTime": {
     "end_time": "2025-05-05T17:48:29.880658Z",
     "start_time": "2025-05-05T17:48:29.876755Z"
    }
   },
   "cell_type": "code",
   "source": "b[:, 1]",
   "id": "61a8e77bc5617a02",
   "outputs": [
    {
     "data": {
      "text/plain": [
       "array([ 1, 11, 21, 31, 41])"
      ]
     },
     "execution_count": 225,
     "metadata": {},
     "output_type": "execute_result"
    }
   ],
   "execution_count": 225
  },
  {
   "metadata": {
    "ExecuteTime": {
     "end_time": "2025-05-05T17:48:29.993583Z",
     "start_time": "2025-05-05T17:48:29.989305Z"
    }
   },
   "cell_type": "code",
   "source": "b.shape  # размерность массива b",
   "id": "b76792079287d089",
   "outputs": [
    {
     "data": {
      "text/plain": [
       "(5, 4)"
      ]
     },
     "execution_count": 226,
     "metadata": {},
     "output_type": "execute_result"
    }
   ],
   "execution_count": 226
  },
  {
   "metadata": {
    "ExecuteTime": {
     "end_time": "2025-05-05T17:48:30.072925Z",
     "start_time": "2025-05-05T17:48:30.068Z"
    }
   },
   "cell_type": "code",
   "source": "b[:, 1].shape",
   "id": "926f9f114a37338b",
   "outputs": [
    {
     "data": {
      "text/plain": [
       "(5,)"
      ]
     },
     "execution_count": 227,
     "metadata": {},
     "output_type": "execute_result"
    }
   ],
   "execution_count": 227
  },
  {
   "metadata": {
    "ExecuteTime": {
     "end_time": "2025-05-05T17:48:30.128622Z",
     "start_time": "2025-05-05T17:48:30.124306Z"
    }
   },
   "cell_type": "code",
   "source": [
    "a = np.arange(2 * 2 * 3, dtype=int).reshape((2, 2, 3))\n",
    "a"
   ],
   "id": "3105003228d2af4f",
   "outputs": [
    {
     "data": {
      "text/plain": [
       "array([[[ 0,  1,  2],\n",
       "        [ 3,  4,  5]],\n",
       "\n",
       "       [[ 6,  7,  8],\n",
       "        [ 9, 10, 11]]])"
      ]
     },
     "execution_count": 228,
     "metadata": {},
     "output_type": "execute_result"
    }
   ],
   "execution_count": 228
  },
  {
   "metadata": {
    "ExecuteTime": {
     "end_time": "2025-05-05T17:48:30.188026Z",
     "start_time": "2025-05-05T17:48:30.183890Z"
    }
   },
   "cell_type": "code",
   "source": "a.shape",
   "id": "de403b31709200f",
   "outputs": [
    {
     "data": {
      "text/plain": [
       "(2, 2, 3)"
      ]
     },
     "execution_count": 229,
     "metadata": {},
     "output_type": "execute_result"
    }
   ],
   "execution_count": 229
  },
  {
   "metadata": {
    "ExecuteTime": {
     "end_time": "2025-05-05T17:48:30.245991Z",
     "start_time": "2025-05-05T17:48:30.241185Z"
    }
   },
   "cell_type": "code",
   "source": "a[1, ...]",
   "id": "9754d58d268ef858",
   "outputs": [
    {
     "data": {
      "text/plain": [
       "array([[ 6,  7,  8],\n",
       "       [ 9, 10, 11]])"
      ]
     },
     "execution_count": 230,
     "metadata": {},
     "output_type": "execute_result"
    }
   ],
   "execution_count": 230
  },
  {
   "metadata": {
    "ExecuteTime": {
     "end_time": "2025-05-05T17:48:30.327727Z",
     "start_time": "2025-05-05T17:48:30.323724Z"
    }
   },
   "cell_type": "code",
   "source": "a[..., 0]",
   "id": "889177e1221513bb",
   "outputs": [
    {
     "data": {
      "text/plain": [
       "array([[0, 3],\n",
       "       [6, 9]])"
      ]
     },
     "execution_count": 231,
     "metadata": {},
     "output_type": "execute_result"
    }
   ],
   "execution_count": 231
  },
  {
   "metadata": {
    "ExecuteTime": {
     "end_time": "2025-05-05T17:48:30.468201Z",
     "start_time": "2025-05-05T17:48:30.464719Z"
    }
   },
   "cell_type": "code",
   "source": [
    "for element in a.flat:\n",
    "    print(element)"
   ],
   "id": "846887acaef15082",
   "outputs": [
    {
     "name": "stdout",
     "output_type": "stream",
     "text": [
      "0\n",
      "1\n",
      "2\n",
      "3\n",
      "4\n",
      "5\n",
      "6\n",
      "7\n",
      "8\n",
      "9\n",
      "10\n",
      "11\n"
     ]
    }
   ],
   "execution_count": 232
  },
  {
   "metadata": {
    "ExecuteTime": {
     "end_time": "2025-05-05T17:48:30.515413Z",
     "start_time": "2025-05-05T17:48:30.512926Z"
    }
   },
   "cell_type": "code",
   "source": "",
   "id": "cb85985a805ceba",
   "outputs": [],
   "execution_count": null
  },
  {
   "metadata": {},
   "cell_type": "markdown",
   "source": "#### Shaping ####",
   "id": "d520573328a1d225"
  },
  {
   "metadata": {
    "ExecuteTime": {
     "end_time": "2025-05-05T17:48:30.658545Z",
     "start_time": "2025-05-05T17:48:30.655861Z"
    }
   },
   "cell_type": "code",
   "source": "shape = (3, 4)",
   "id": "5d31f775f0168051",
   "outputs": [],
   "execution_count": 233
  },
  {
   "metadata": {
    "ExecuteTime": {
     "end_time": "2025-05-05T17:48:30.728225Z",
     "start_time": "2025-05-05T17:48:30.723942Z"
    }
   },
   "cell_type": "code",
   "source": [
    "a = np.floor(10 * rg.random(shape))  # floor - округление вниз\n",
    "a"
   ],
   "id": "5bb0700a911be89a",
   "outputs": [
    {
     "data": {
      "text/plain": [
       "array([[8., 4., 5., 0.],\n",
       "       [7., 5., 3., 7.],\n",
       "       [3., 4., 1., 4.]])"
      ]
     },
     "execution_count": 234,
     "metadata": {},
     "output_type": "execute_result"
    }
   ],
   "execution_count": 234
  },
  {
   "metadata": {
    "ExecuteTime": {
     "end_time": "2025-05-05T17:48:30.816062Z",
     "start_time": "2025-05-05T17:48:30.812074Z"
    }
   },
   "cell_type": "code",
   "source": "a.shape",
   "id": "98df4bc8549974b4",
   "outputs": [
    {
     "data": {
      "text/plain": [
       "(3, 4)"
      ]
     },
     "execution_count": 235,
     "metadata": {},
     "output_type": "execute_result"
    }
   ],
   "execution_count": 235
  },
  {
   "metadata": {
    "ExecuteTime": {
     "end_time": "2025-05-05T17:48:30.868569Z",
     "start_time": "2025-05-05T17:48:30.864028Z"
    }
   },
   "cell_type": "code",
   "source": "a.ravel()  # ravel - превращение в одномерный массив",
   "id": "64d993d757db516",
   "outputs": [
    {
     "data": {
      "text/plain": [
       "array([8., 4., 5., 0., 7., 5., 3., 7., 3., 4., 1., 4.])"
      ]
     },
     "execution_count": 236,
     "metadata": {},
     "output_type": "execute_result"
    }
   ],
   "execution_count": 236
  },
  {
   "metadata": {
    "ExecuteTime": {
     "end_time": "2025-05-05T17:48:30.961561Z",
     "start_time": "2025-05-05T17:48:30.957534Z"
    }
   },
   "cell_type": "code",
   "source": "a.flatten()  # flatten -",
   "id": "2f502d041bd0dc92",
   "outputs": [
    {
     "data": {
      "text/plain": [
       "array([8., 4., 5., 0., 7., 5., 3., 7., 3., 4., 1., 4.])"
      ]
     },
     "execution_count": 237,
     "metadata": {},
     "output_type": "execute_result"
    }
   ],
   "execution_count": 237
  },
  {
   "metadata": {
    "ExecuteTime": {
     "end_time": "2025-05-05T17:48:31.072328Z",
     "start_time": "2025-05-05T17:48:31.068183Z"
    }
   },
   "cell_type": "code",
   "source": "a.reshape(6, 2)",
   "id": "794f7ca6cf02e400",
   "outputs": [
    {
     "data": {
      "text/plain": [
       "array([[8., 4.],\n",
       "       [5., 0.],\n",
       "       [7., 5.],\n",
       "       [3., 7.],\n",
       "       [3., 4.],\n",
       "       [1., 4.]])"
      ]
     },
     "execution_count": 238,
     "metadata": {},
     "output_type": "execute_result"
    }
   ],
   "execution_count": 238
  },
  {
   "metadata": {
    "ExecuteTime": {
     "end_time": "2025-05-05T17:48:31.180932Z",
     "start_time": "2025-05-05T17:48:31.177088Z"
    }
   },
   "cell_type": "code",
   "source": "a.T  # транспонирование",
   "id": "dad73a37e8e14cfd",
   "outputs": [
    {
     "data": {
      "text/plain": [
       "array([[8., 7., 3.],\n",
       "       [4., 5., 4.],\n",
       "       [5., 3., 1.],\n",
       "       [0., 7., 4.]])"
      ]
     },
     "execution_count": 239,
     "metadata": {},
     "output_type": "execute_result"
    }
   ],
   "execution_count": 239
  },
  {
   "metadata": {
    "ExecuteTime": {
     "end_time": "2025-05-05T17:48:31.261193Z",
     "start_time": "2025-05-05T17:48:31.257992Z"
    }
   },
   "cell_type": "code",
   "source": "print(a.resize((2, 6)))",
   "id": "6f1b3ad4823d7049",
   "outputs": [
    {
     "name": "stdout",
     "output_type": "stream",
     "text": [
      "None\n"
     ]
    }
   ],
   "execution_count": 240
  },
  {
   "metadata": {
    "ExecuteTime": {
     "end_time": "2025-05-05T17:48:31.403702Z",
     "start_time": "2025-05-05T17:48:31.399461Z"
    }
   },
   "cell_type": "code",
   "source": "a",
   "id": "3bb0cde7cae8f4b1",
   "outputs": [
    {
     "data": {
      "text/plain": [
       "array([[8., 4., 5., 0., 7., 5.],\n",
       "       [3., 7., 3., 4., 1., 4.]])"
      ]
     },
     "execution_count": 241,
     "metadata": {},
     "output_type": "execute_result"
    }
   ],
   "execution_count": 241
  },
  {
   "metadata": {
    "ExecuteTime": {
     "end_time": "2025-05-05T17:48:31.537940Z",
     "start_time": "2025-05-05T17:48:31.533797Z"
    }
   },
   "cell_type": "code",
   "source": "a.reshape(3, -1)",
   "id": "180bd4859db8f239",
   "outputs": [
    {
     "data": {
      "text/plain": [
       "array([[8., 4., 5., 0.],\n",
       "       [7., 5., 3., 7.],\n",
       "       [3., 4., 1., 4.]])"
      ]
     },
     "execution_count": 242,
     "metadata": {},
     "output_type": "execute_result"
    }
   ],
   "execution_count": 242
  },
  {
   "metadata": {
    "ExecuteTime": {
     "end_time": "2025-05-05T17:48:31.733479Z",
     "start_time": "2025-05-05T17:48:31.729841Z"
    }
   },
   "cell_type": "code",
   "source": "a",
   "id": "3207a36c5be677bf",
   "outputs": [
    {
     "data": {
      "text/plain": [
       "array([[8., 4., 5., 0., 7., 5.],\n",
       "       [3., 7., 3., 4., 1., 4.]])"
      ]
     },
     "execution_count": 243,
     "metadata": {},
     "output_type": "execute_result"
    }
   ],
   "execution_count": 243
  },
  {
   "metadata": {},
   "cell_type": "markdown",
   "source": "#### Copies & Views ####",
   "id": "e80fccc2d33e99d4"
  },
  {
   "metadata": {
    "ExecuteTime": {
     "end_time": "2025-05-05T17:48:31.850913Z",
     "start_time": "2025-05-05T17:48:31.847336Z"
    }
   },
   "cell_type": "code",
   "source": [
    "a = np.arange(12)\n",
    "a"
   ],
   "id": "3460f793f14b605a",
   "outputs": [
    {
     "data": {
      "text/plain": [
       "array([ 0,  1,  2,  3,  4,  5,  6,  7,  8,  9, 10, 11])"
      ]
     },
     "execution_count": 244,
     "metadata": {},
     "output_type": "execute_result"
    }
   ],
   "execution_count": 244
  },
  {
   "metadata": {
    "ExecuteTime": {
     "end_time": "2025-05-05T17:48:31.971938Z",
     "start_time": "2025-05-05T17:48:31.969353Z"
    }
   },
   "cell_type": "code",
   "source": "a_view = a.view()",
   "id": "5eda5b3fd27cfb60",
   "outputs": [],
   "execution_count": 245
  },
  {
   "metadata": {
    "ExecuteTime": {
     "end_time": "2025-05-05T17:48:32.086170Z",
     "start_time": "2025-05-05T17:48:32.082067Z"
    }
   },
   "cell_type": "code",
   "source": "a_view is a",
   "id": "8b4604d6202e3b08",
   "outputs": [
    {
     "data": {
      "text/plain": [
       "False"
      ]
     },
     "execution_count": 246,
     "metadata": {},
     "output_type": "execute_result"
    }
   ],
   "execution_count": 246
  },
  {
   "metadata": {
    "ExecuteTime": {
     "end_time": "2025-05-05T17:48:32.194279Z",
     "start_time": "2025-05-05T17:48:32.190421Z"
    }
   },
   "cell_type": "code",
   "source": "a_view.base is a",
   "id": "4f0e38432a5a196b",
   "outputs": [
    {
     "data": {
      "text/plain": [
       "True"
      ]
     },
     "execution_count": 247,
     "metadata": {},
     "output_type": "execute_result"
    }
   ],
   "execution_count": 247
  },
  {
   "metadata": {
    "ExecuteTime": {
     "end_time": "2025-05-05T17:48:32.261189Z",
     "start_time": "2025-05-05T17:48:32.257072Z"
    }
   },
   "cell_type": "code",
   "source": "a_view.base",
   "id": "a9d52daf85b0fccd",
   "outputs": [
    {
     "data": {
      "text/plain": [
       "array([ 0,  1,  2,  3,  4,  5,  6,  7,  8,  9, 10, 11])"
      ]
     },
     "execution_count": 248,
     "metadata": {},
     "output_type": "execute_result"
    }
   ],
   "execution_count": 248
  },
  {
   "metadata": {
    "ExecuteTime": {
     "end_time": "2025-05-05T17:48:32.319770Z",
     "start_time": "2025-05-05T17:48:32.315911Z"
    }
   },
   "cell_type": "code",
   "source": "a_view.flags.owndata",
   "id": "7b4b715d49912cb8",
   "outputs": [
    {
     "data": {
      "text/plain": [
       "False"
      ]
     },
     "execution_count": 249,
     "metadata": {},
     "output_type": "execute_result"
    }
   ],
   "execution_count": 249
  },
  {
   "metadata": {
    "ExecuteTime": {
     "end_time": "2025-05-05T17:48:32.378924Z",
     "start_time": "2025-05-05T17:48:32.375255Z"
    }
   },
   "cell_type": "code",
   "source": "a.flags.owndata",
   "id": "88aadab91d1a69cc",
   "outputs": [
    {
     "data": {
      "text/plain": [
       "True"
      ]
     },
     "execution_count": 250,
     "metadata": {},
     "output_type": "execute_result"
    }
   ],
   "execution_count": 250
  },
  {
   "metadata": {
    "ExecuteTime": {
     "end_time": "2025-05-05T17:48:32.454364Z",
     "start_time": "2025-05-05T17:48:32.450613Z"
    }
   },
   "cell_type": "code",
   "source": [
    "a_view = a_view.reshape((2, 6))\n",
    "a_view"
   ],
   "id": "5cb4a63999114c47",
   "outputs": [
    {
     "data": {
      "text/plain": [
       "array([[ 0,  1,  2,  3,  4,  5],\n",
       "       [ 6,  7,  8,  9, 10, 11]])"
      ]
     },
     "execution_count": 251,
     "metadata": {},
     "output_type": "execute_result"
    }
   ],
   "execution_count": 251
  },
  {
   "metadata": {
    "ExecuteTime": {
     "end_time": "2025-05-05T17:48:32.538728Z",
     "start_time": "2025-05-05T17:48:32.534508Z"
    }
   },
   "cell_type": "code",
   "source": [
    "a_view[0, 4] = 1234\n",
    "a_view"
   ],
   "id": "749beb4e028a51aa",
   "outputs": [
    {
     "data": {
      "text/plain": [
       "array([[   0,    1,    2,    3, 1234,    5],\n",
       "       [   6,    7,    8,    9,   10,   11]])"
      ]
     },
     "execution_count": 252,
     "metadata": {},
     "output_type": "execute_result"
    }
   ],
   "execution_count": 252
  },
  {
   "metadata": {
    "ExecuteTime": {
     "end_time": "2025-05-05T17:48:32.625555Z",
     "start_time": "2025-05-05T17:48:32.620760Z"
    }
   },
   "cell_type": "code",
   "source": "a  # В основном массиве a элемент [0, 4] также изменился",
   "id": "5d0a3ec80868ef5f",
   "outputs": [
    {
     "data": {
      "text/plain": [
       "array([   0,    1,    2,    3, 1234,    5,    6,    7,    8,    9,   10,\n",
       "         11])"
      ]
     },
     "execution_count": 253,
     "metadata": {},
     "output_type": "execute_result"
    }
   ],
   "execution_count": 253
  },
  {
   "metadata": {
    "ExecuteTime": {
     "end_time": "2025-05-05T17:48:32.695396Z",
     "start_time": "2025-05-05T17:48:32.692243Z"
    }
   },
   "cell_type": "code",
   "source": "b = a.copy()",
   "id": "3283530bc86703a5",
   "outputs": [],
   "execution_count": 254
  },
  {
   "metadata": {
    "ExecuteTime": {
     "end_time": "2025-05-05T17:48:32.834701Z",
     "start_time": "2025-05-05T17:48:32.830781Z"
    }
   },
   "cell_type": "code",
   "source": "b is a",
   "id": "4856c1788e590447",
   "outputs": [
    {
     "data": {
      "text/plain": [
       "False"
      ]
     },
     "execution_count": 255,
     "metadata": {},
     "output_type": "execute_result"
    }
   ],
   "execution_count": 255
  },
  {
   "metadata": {
    "ExecuteTime": {
     "end_time": "2025-05-05T17:48:32.914181Z",
     "start_time": "2025-05-05T17:48:32.910349Z"
    }
   },
   "cell_type": "code",
   "source": "b.base is a",
   "id": "c888b88413316c4d",
   "outputs": [
    {
     "data": {
      "text/plain": [
       "False"
      ]
     },
     "execution_count": 256,
     "metadata": {},
     "output_type": "execute_result"
    }
   ],
   "execution_count": 256
  },
  {
   "metadata": {},
   "cell_type": "markdown",
   "source": "#### как работает метод copy ####",
   "id": "1f59b19c2ac3a041"
  },
  {
   "metadata": {
    "ExecuteTime": {
     "end_time": "2025-05-05T17:48:32.966421Z",
     "start_time": "2025-05-05T17:48:32.963654Z"
    }
   },
   "cell_type": "code",
   "source": "a = np.arange(12).reshape(3, 4)",
   "id": "1b3c1295044ae6e9",
   "outputs": [],
   "execution_count": 257
  },
  {
   "metadata": {
    "ExecuteTime": {
     "end_time": "2025-05-05T17:48:33.012582Z",
     "start_time": "2025-05-05T17:48:33.009818Z"
    }
   },
   "cell_type": "code",
   "source": "b = a.copy()",
   "id": "6c86c3cc55a0c04a",
   "outputs": [],
   "execution_count": 258
  },
  {
   "metadata": {
    "ExecuteTime": {
     "end_time": "2025-05-05T17:48:33.075127Z",
     "start_time": "2025-05-05T17:48:33.071120Z"
    }
   },
   "cell_type": "code",
   "source": "b is a",
   "id": "b37401f3e7dc031f",
   "outputs": [
    {
     "data": {
      "text/plain": [
       "False"
      ]
     },
     "execution_count": 259,
     "metadata": {},
     "output_type": "execute_result"
    }
   ],
   "execution_count": 259
  },
  {
   "metadata": {
    "ExecuteTime": {
     "end_time": "2025-05-05T17:48:33.129381Z",
     "start_time": "2025-05-05T17:48:33.124927Z"
    }
   },
   "cell_type": "code",
   "source": "b.base is a",
   "id": "de4dea9f4d7eaa30",
   "outputs": [
    {
     "data": {
      "text/plain": [
       "False"
      ]
     },
     "execution_count": 260,
     "metadata": {},
     "output_type": "execute_result"
    }
   ],
   "execution_count": 260
  },
  {
   "metadata": {
    "ExecuteTime": {
     "end_time": "2025-05-05T17:48:33.184953Z",
     "start_time": "2025-05-05T17:48:33.182285Z"
    }
   },
   "cell_type": "code",
   "source": "b[0, 0] = 1000",
   "id": "3dc6fc7b73c262f9",
   "outputs": [],
   "execution_count": 261
  },
  {
   "metadata": {
    "ExecuteTime": {
     "end_time": "2025-05-05T17:48:33.237967Z",
     "start_time": "2025-05-05T17:48:33.233742Z"
    }
   },
   "cell_type": "code",
   "source": "a",
   "id": "1257453e942c3c86",
   "outputs": [
    {
     "data": {
      "text/plain": [
       "array([[ 0,  1,  2,  3],\n",
       "       [ 4,  5,  6,  7],\n",
       "       [ 8,  9, 10, 11]])"
      ]
     },
     "execution_count": 262,
     "metadata": {},
     "output_type": "execute_result"
    }
   ],
   "execution_count": 262
  },
  {
   "metadata": {
    "ExecuteTime": {
     "end_time": "2025-05-05T17:48:33.315650Z",
     "start_time": "2025-05-05T17:48:33.311952Z"
    }
   },
   "cell_type": "code",
   "source": "b",
   "id": "194f2bf9687f6e57",
   "outputs": [
    {
     "data": {
      "text/plain": [
       "array([[1000,    1,    2,    3],\n",
       "       [   4,    5,    6,    7],\n",
       "       [   8,    9,   10,   11]])"
      ]
     },
     "execution_count": 263,
     "metadata": {},
     "output_type": "execute_result"
    }
   ],
   "execution_count": 263
  },
  {
   "metadata": {},
   "cell_type": "markdown",
   "source": "#### Индексация списками ####",
   "id": "f6f26415caf5cd38"
  },
  {
   "metadata": {
    "ExecuteTime": {
     "end_time": "2025-05-05T17:48:33.375651Z",
     "start_time": "2025-05-05T17:48:33.372369Z"
    }
   },
   "cell_type": "code",
   "source": [
    "a = np.arange(12) ** 2\n",
    "i = np.array([1, 1, 3, 8, 5])"
   ],
   "id": "d5bd4796b9abe451",
   "outputs": [],
   "execution_count": 264
  },
  {
   "metadata": {
    "ExecuteTime": {
     "end_time": "2025-05-05T17:48:33.460779Z",
     "start_time": "2025-05-05T17:48:33.457022Z"
    }
   },
   "cell_type": "code",
   "source": "a",
   "id": "dcee6f02f711edb5",
   "outputs": [
    {
     "data": {
      "text/plain": [
       "array([  0,   1,   4,   9,  16,  25,  36,  49,  64,  81, 100, 121])"
      ]
     },
     "execution_count": 265,
     "metadata": {},
     "output_type": "execute_result"
    }
   ],
   "execution_count": 265
  },
  {
   "metadata": {
    "ExecuteTime": {
     "end_time": "2025-05-05T17:48:33.587449Z",
     "start_time": "2025-05-05T17:48:33.583558Z"
    }
   },
   "cell_type": "code",
   "source": "a[i]",
   "id": "8c369da58c4a3a97",
   "outputs": [
    {
     "data": {
      "text/plain": [
       "array([ 1,  1,  9, 64, 25])"
      ]
     },
     "execution_count": 266,
     "metadata": {},
     "output_type": "execute_result"
    }
   ],
   "execution_count": 266
  },
  {
   "metadata": {
    "ExecuteTime": {
     "end_time": "2025-05-05T17:48:43.788829Z",
     "start_time": "2025-05-05T17:48:43.784177Z"
    }
   },
   "cell_type": "code",
   "source": [
    "j = np.array([[3, 4], [9, 7]])\n",
    "a[j]"
   ],
   "id": "268964ac5cc68bf2",
   "outputs": [
    {
     "data": {
      "text/plain": [
       "array([[ 9, 16],\n",
       "       [81, 49]])"
      ]
     },
     "execution_count": 268,
     "metadata": {},
     "output_type": "execute_result"
    }
   ],
   "execution_count": 268
  },
  {
   "metadata": {
    "ExecuteTime": {
     "end_time": "2025-05-05T17:49:31.780751Z",
     "start_time": "2025-05-05T17:49:31.776584Z"
    }
   },
   "cell_type": "code",
   "source": [
    "k = a > 10\n",
    "k"
   ],
   "id": "8c6444a26aae8ecc",
   "outputs": [
    {
     "data": {
      "text/plain": [
       "array([False, False, False, False,  True,  True,  True,  True,  True,\n",
       "        True,  True,  True])"
      ]
     },
     "execution_count": 270,
     "metadata": {},
     "output_type": "execute_result"
    }
   ],
   "execution_count": 270
  },
  {
   "metadata": {
    "ExecuteTime": {
     "end_time": "2025-05-05T17:50:06.185565Z",
     "start_time": "2025-05-05T17:50:06.181595Z"
    }
   },
   "cell_type": "code",
   "source": "a[k]",
   "id": "e3caec82f9eb9dc0",
   "outputs": [
    {
     "data": {
      "text/plain": [
       "array([ 16,  25,  36,  49,  64,  81, 100, 121])"
      ]
     },
     "execution_count": 271,
     "metadata": {},
     "output_type": "execute_result"
    }
   ],
   "execution_count": 271
  },
  {
   "metadata": {},
   "cell_type": "markdown",
   "source": "#### Операции над матрицами ####",
   "id": "d5e139ca168c30b6"
  },
  {
   "metadata": {
    "ExecuteTime": {
     "end_time": "2025-05-05T17:52:04.325804Z",
     "start_time": "2025-05-05T17:52:04.321321Z"
    }
   },
   "cell_type": "code",
   "source": "np.identity(4)",
   "id": "f4787c33f6ff6537",
   "outputs": [
    {
     "data": {
      "text/plain": [
       "array([[1., 0., 0., 0.],\n",
       "       [0., 1., 0., 0.],\n",
       "       [0., 0., 1., 0.],\n",
       "       [0., 0., 0., 1.]])"
      ]
     },
     "execution_count": 272,
     "metadata": {},
     "output_type": "execute_result"
    }
   ],
   "execution_count": 272
  },
  {
   "metadata": {
    "ExecuteTime": {
     "end_time": "2025-05-05T17:52:26.831319Z",
     "start_time": "2025-05-05T17:52:26.826589Z"
    }
   },
   "cell_type": "code",
   "source": "np.zeros(4)",
   "id": "8bf5d44ff0482862",
   "outputs": [
    {
     "data": {
      "text/plain": [
       "array([0., 0., 0., 0.])"
      ]
     },
     "execution_count": 273,
     "metadata": {},
     "output_type": "execute_result"
    }
   ],
   "execution_count": 273
  },
  {
   "metadata": {
    "ExecuteTime": {
     "end_time": "2025-05-05T17:53:04.324062Z",
     "start_time": "2025-05-05T17:53:04.320022Z"
    }
   },
   "cell_type": "code",
   "source": "np.zeros((3, 3), dtype=int)",
   "id": "73dba28d4e76726d",
   "outputs": [
    {
     "data": {
      "text/plain": [
       "array([[0, 0, 0],\n",
       "       [0, 0, 0],\n",
       "       [0, 0, 0]])"
      ]
     },
     "execution_count": 274,
     "metadata": {},
     "output_type": "execute_result"
    }
   ],
   "execution_count": 274
  },
  {
   "metadata": {
    "ExecuteTime": {
     "end_time": "2025-05-05T17:56:37.384205Z",
     "start_time": "2025-05-05T17:56:37.379808Z"
    }
   },
   "cell_type": "code",
   "source": [
    "v = np.array([1, 1])\n",
    "A = np.array([[0, -1], [1, 0]], dtype=int)\n",
    "A @ v"
   ],
   "id": "d5f1b016cd565b5b",
   "outputs": [
    {
     "data": {
      "text/plain": [
       "array([-1,  1])"
      ]
     },
     "execution_count": 277,
     "metadata": {},
     "output_type": "execute_result"
    }
   ],
   "execution_count": 277
  },
  {
   "metadata": {
    "ExecuteTime": {
     "end_time": "2025-05-05T17:57:02.655261Z",
     "start_time": "2025-05-05T17:57:02.651327Z"
    }
   },
   "cell_type": "code",
   "source": "np.linalg.det(A)",
   "id": "5ff98c8db361bc0",
   "outputs": [
    {
     "data": {
      "text/plain": [
       "np.float64(1.0)"
      ]
     },
     "execution_count": 278,
     "metadata": {},
     "output_type": "execute_result"
    }
   ],
   "execution_count": 278
  }
 ],
 "metadata": {
  "kernelspec": {
   "display_name": "Python 3",
   "language": "python",
   "name": "python3"
  },
  "language_info": {
   "codemirror_mode": {
    "name": "ipython",
    "version": 2
   },
   "file_extension": ".py",
   "mimetype": "text/x-python",
   "name": "python",
   "nbconvert_exporter": "python",
   "pygments_lexer": "ipython2",
   "version": "2.7.6"
  }
 },
 "nbformat": 4,
 "nbformat_minor": 5
}
