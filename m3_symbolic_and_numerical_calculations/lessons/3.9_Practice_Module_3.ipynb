{
 "cells": [
  {
   "cell_type": "markdown",
   "metadata": {
    "id": "sBkd3_lmgQ3-"
   },
   "source": [
    "*Курсив*# Практическая работа. Модуль 3\n",
    "\n",
    "В этой практической работе мы рассмотрим применение символьных и численных расчётов при помощи Python и его библиотек (SymPy, NumPy, SciPy).\n",
    "\n",
    "Не забудьте запустить следующую ячейку, чтобы импортировать библиотеки."
   ]
  },
  {
   "cell_type": "code",
   "execution_count": 1,
   "metadata": {
    "ExecuteTime": {
     "end_time": "2025-05-06T12:19:17.187055Z",
     "start_time": "2025-05-06T12:19:16.163712Z"
    },
    "id": "CbhWGI10QTbK"
   },
   "outputs": [],
   "source": [
    "import matplotlib.pyplot as plt\n",
    "import numpy as np\n",
    "import sympy"
   ]
  },
  {
   "cell_type": "markdown",
   "metadata": {
    "id": "9r6yOexfglPs"
   },
   "source": [
    "## Задание 1. Создание массивов\n",
    "\n",
    "Для начала попробуем создать NumPy-массив, в котором будет четыре элемента: -1, 3, -2, 5."
   ]
  },
  {
   "cell_type": "code",
   "execution_count": 2,
   "metadata": {
    "ExecuteTime": {
     "end_time": "2025-05-06T12:19:17.218202Z",
     "start_time": "2025-05-06T12:19:17.207536Z"
    },
    "id": "9qCRJ00LgJnv"
   },
   "outputs": [
    {
     "data": {
      "text/plain": [
       "array([-1,  3, -2,  5])"
      ]
     },
     "execution_count": 2,
     "metadata": {},
     "output_type": "execute_result"
    }
   ],
   "source": [
    "array = np.array([-1, 3, -2, 5])  # вставьте свой код здесь\n",
    "array"
   ]
  },
  {
   "cell_type": "markdown",
   "metadata": {
    "id": "4lqUeEQ0iU_U"
   },
   "source": [
    "Попробуем найти сумму и произведение элементов этого массива. Для этого запустите ячейку ниже."
   ]
  },
  {
   "cell_type": "code",
   "execution_count": 3,
   "metadata": {
    "ExecuteTime": {
     "end_time": "2025-05-06T12:19:17.401131Z",
     "start_time": "2025-05-06T12:19:17.395748Z"
    },
    "id": "52MbAF1Vhvn3"
   },
   "outputs": [
    {
     "name": "stdout",
     "output_type": "stream",
     "text": [
      "Сумма элементов массива = 5\n",
      "Произведение элементов массива = 30\n"
     ]
    }
   ],
   "source": [
    "print(f\"Сумма элементов массива = {np.sum(array)}\")\n",
    "print(f\"Произведение элементов массива = {np.prod(array)}\")"
   ]
  },
  {
   "cell_type": "markdown",
   "metadata": {
    "id": "QFSRJzMGjA22"
   },
   "source": [
    "Вывод ячейки должен выглядеть следующим образом:\n",
    "\n",
    "Сумма элементов массива = 5\n",
    "\n",
    "Произведение элементов массива = 30"
   ]
  },
  {
   "cell_type": "markdown",
   "metadata": {
    "id": "-iqGhgPIj040"
   },
   "source": [
    "Замечательная особенность этих массивов — возможность применять обычные операции как покомпонентные. Например, мы можем найти квадраты всех элементов массива путём возведения его в степень по обычным синтаксическим правилам Python."
   ]
  },
  {
   "cell_type": "code",
   "execution_count": 4,
   "metadata": {
    "ExecuteTime": {
     "end_time": "2025-05-06T12:19:17.480403Z",
     "start_time": "2025-05-06T12:19:17.476624Z"
    },
    "id": "GjoGCdIojISV"
   },
   "outputs": [
    {
     "name": "stdout",
     "output_type": "stream",
     "text": [
      "[ 1  9  4 25]\n"
     ]
    }
   ],
   "source": [
    "squared_array = array ** 2\n",
    "print(squared_array)"
   ]
  },
  {
   "cell_type": "markdown",
   "metadata": {
    "id": "jn8Dp5kckDkh"
   },
   "source": [
    "Запустите эту ячейку, чтобы вычислить squared_error. Затем найдите сумму квадратов элементов массива и выведите её в таком же формате, как и в ячейке выше."
   ]
  },
  {
   "cell_type": "code",
   "execution_count": 5,
   "metadata": {
    "ExecuteTime": {
     "end_time": "2025-05-06T12:19:17.562252Z",
     "start_time": "2025-05-06T12:19:17.557532Z"
    },
    "id": "aokOpacckBaJ"
   },
   "outputs": [
    {
     "name": "stdout",
     "output_type": "stream",
     "text": [
      "Сумма элементов массива =  39\n"
     ]
    }
   ],
   "source": [
    "sum_quad = np.sum(squared_array)\n",
    "print('Сумма элементов массива = ', sum_quad)"
   ]
  },
  {
   "cell_type": "markdown",
   "metadata": {
    "id": "J_BRR46AksNA"
   },
   "source": [
    "Вывод ячейки должен составлять:\n",
    "\n",
    "Сумма элементов массива = 39"
   ]
  },
  {
   "cell_type": "markdown",
   "metadata": {
    "id": "6m3mZr8iODBl"
   },
   "source": [
    "## Задание 2. Случайные массивы\n",
    "\n",
    "Ещё один способ создания массивов состоит в использовании случайных чисел. Библиотека NumPy поддерживает пакет random, позволяющий генерировать наборы чисел случайным образом из различных вероятностных распределений.\n",
    "\n",
    "Рассмотрим пример создания массива из пяти целых чисел в отрезке [-10, 10]."
   ]
  },
  {
   "cell_type": "code",
   "execution_count": 6,
   "metadata": {
    "ExecuteTime": {
     "end_time": "2025-05-06T12:19:17.655676Z",
     "start_time": "2025-05-06T12:19:17.626215Z"
    },
    "id": "-ZQFeWSFklTp"
   },
   "outputs": [
    {
     "name": "stdout",
     "output_type": "stream",
     "text": [
      "[ 5  4  3  8 -4]\n"
     ]
    }
   ],
   "source": [
    "rand_arr = np.random.randint(low=-10, high=10, size=5)\n",
    "print(rand_arr)"
   ]
  },
  {
   "cell_type": "markdown",
   "metadata": {
    "id": "1sPWy_oVRrh3"
   },
   "source": [
    "Такой подход позволяет, в том числе создавать случайные массивы, обладающие определёнными свойствами. Например, мы можем сгенерировать массив, сумма элементов которого равна нулю. Вот как это можно сделать:"
   ]
  },
  {
   "cell_type": "code",
   "execution_count": 7,
   "metadata": {
    "ExecuteTime": {
     "end_time": "2025-05-06T12:19:17.710381Z",
     "start_time": "2025-05-06T12:19:17.704315Z"
    },
    "colab": {
     "base_uri": "https://localhost:8080/"
    },
    "id": "94rbSjO5RqlG",
    "outputId": "6631dec3-cce3-4e8b-ff36-548c160b3197"
   },
   "outputs": [
    {
     "name": "stdout",
     "output_type": "stream",
     "text": [
      "Случайный массив: [-8  2  6 -4  4]\n",
      "Сумма элементов: 0\n"
     ]
    }
   ],
   "source": [
    "while True:\n",
    "    rand_arr = np.random.randint(low=-10, high=10, size=5)\n",
    "    if np.sum(rand_arr) == 0:\n",
    "        break\n",
    "print(\"Случайный массив:\", rand_arr)\n",
    "print(\"Сумма элементов:\", np.sum(rand_arr))"
   ]
  },
  {
   "cell_type": "markdown",
   "metadata": {
    "id": "5f3znIrVUH0l"
   },
   "source": [
    "Запустите эту ячейку множество раз, и вы увидите, что каждый раз с большой долей вероятности вы будете получать разные массивы, но их общее свойство будет сохраняться."
   ]
  },
  {
   "cell_type": "markdown",
   "metadata": {
    "id": "I_UEsTiMk5nw"
   },
   "source": [
    "## Задание 3. Случайные матрицы\n",
    "\n",
    "Теперь попробуем таким же образом сгенерировать матрицу (двумерный массив) таким образом, что её определитель был равен единице.\n",
    "\n",
    "Построенная матрица должна быть пятого порядка. Для этого в аргумент size нужно передать кортеж (5,5). Для увеличения скорости поиска матрицы с нужными свойствами рекомендуется выбирать случайные числа из отрезка [-2, 2].\n",
    "\n",
    "Для вычисления самого определителя необходимо воспользоваться функцией np.linalg.det(matrix)."
   ]
  },
  {
   "cell_type": "code",
   "execution_count": 8,
   "metadata": {
    "ExecuteTime": {
     "end_time": "2025-05-06T12:19:17.800252Z",
     "start_time": "2025-05-06T12:19:17.794932Z"
    },
    "colab": {
     "base_uri": "https://localhost:8080/"
    },
    "id": "fzWNZb7QRcZa",
    "outputId": "04d386d4-0b6a-41c2-af83-c9923dfc1d43"
   },
   "outputs": [
    {
     "name": "stdout",
     "output_type": "stream",
     "text": [
      "Случайная матрица:\n",
      " [[-1 -1 -1 -2 -2]\n",
      " [-1  1  0  1  0]\n",
      " [-1 -2  1  1 -1]\n",
      " [-1 -1 -1  1  0]\n",
      " [ 1  1  0  0  1]]\n",
      "Определитель матрицы: 1.0\n"
     ]
    }
   ],
   "source": [
    "while True:\n",
    "    matrix = np.random.randint(low=-2, high=2, size=(5, 5))\n",
    "    if np.linalg.det(matrix) == 1:\n",
    "        break\n",
    "print(\"Случайная матрица:\\n\", matrix)\n",
    "print(\"Определитель матрицы:\", np.linalg.det(matrix))"
   ]
  },
  {
   "cell_type": "markdown",
   "metadata": {
    "id": "QSUE62bdZkX1"
   },
   "source": [
    "Кроме того, пользуясь возможностями библиотеки (метод np.linalg.inv()), мы можем найти обратную матрицу к matrix."
   ]
  },
  {
   "cell_type": "code",
   "execution_count": 9,
   "metadata": {
    "ExecuteTime": {
     "end_time": "2025-05-06T12:19:17.860918Z",
     "start_time": "2025-05-06T12:19:17.853540Z"
    },
    "colab": {
     "base_uri": "https://localhost:8080/"
    },
    "id": "xpwbyBeJREWV",
    "outputId": "e243c9f1-f3da-4db0-ab22-c6fac89200e3"
   },
   "outputs": [
    {
     "name": "stdout",
     "output_type": "stream",
     "text": [
      "Обратная матрица:\n",
      " [[  4.   2.   5.   1.  13.]\n",
      " [  1.   1.   1.   0.   3.]\n",
      " [ -2.  -1.  -2.  -1.  -6.]\n",
      " [  3.   2.   4.   1.  10.]\n",
      " [ -5.  -3.  -6.  -1. -15.]]\n"
     ]
    }
   ],
   "source": [
    "matrix_inv = np.linalg.inv(matrix)  # вставьте свой код здесь\n",
    "print(\"Обратная матрица:\\n\", matrix_inv)"
   ]
  },
  {
   "cell_type": "markdown",
   "metadata": {
    "id": "7TYz6MFVaRvo"
   },
   "source": [
    "По свойствам умножения матриц их произведение должно дать единичную матрицу. Убедимся в этом.\n",
    "\n",
    "Воспользуйтесь методом A.dot(B), который выполняет умножение AxB."
   ]
  },
  {
   "cell_type": "code",
   "execution_count": 10,
   "metadata": {
    "ExecuteTime": {
     "end_time": "2025-05-06T12:19:17.915761Z",
     "start_time": "2025-05-06T12:19:17.911284Z"
    },
    "id": "Y5BDKfksaAM3"
   },
   "outputs": [
    {
     "name": "stdout",
     "output_type": "stream",
     "text": [
      "[[ 1.00000000e+00  0.00000000e+00  0.00000000e+00  0.00000000e+00\n",
      "   0.00000000e+00]\n",
      " [-4.44089210e-16  1.00000000e+00 -8.88178420e-16  0.00000000e+00\n",
      "  -1.77635684e-15]\n",
      " [ 8.88178420e-16  4.44089210e-16  1.00000000e+00  0.00000000e+00\n",
      "   1.77635684e-15]\n",
      " [-4.44089210e-16 -4.44089210e-16 -8.88178420e-16  1.00000000e+00\n",
      "  -1.77635684e-15]\n",
      " [ 0.00000000e+00  0.00000000e+00  0.00000000e+00  0.00000000e+00\n",
      "   1.00000000e+00]]\n"
     ]
    }
   ],
   "source": [
    "result = matrix.dot(matrix_inv)  # вставьте свой код здесь\n",
    "print(result)"
   ]
  },
  {
   "cell_type": "markdown",
   "metadata": {
    "id": "-ROqFddmavBq"
   },
   "source": [
    "Обратите внимание, что из-за ограниченности памяти типов данных, которые использует NumPy, могут возникать небольшие отличия от нуля вне диагональных элементов порядка 1e-15."
   ]
  },
  {
   "cell_type": "markdown",
   "metadata": {
    "id": "HqOJVekDlBfU"
   },
   "source": [
    "## Задание 4. Матрицы SymPy\n",
    "\n",
    "Библиотека NumPy преимущественно подходит к операциям с точки зрения численных методов. В противоположность ей библиотека SymPy позволяет работать с математическими объектами с точки зрения символьных вычислений.\n",
    "\n",
    "С этими двумя библиотеками можно работать в связке при помощи преобразования типов. Например, уже полученную с помощью случайных чисел матрицу мы можем преобразовать в матричный тип библиотеки SymPy."
   ]
  },
  {
   "cell_type": "code",
   "execution_count": 11,
   "metadata": {
    "ExecuteTime": {
     "end_time": "2025-05-06T12:19:17.977765Z",
     "start_time": "2025-05-06T12:19:17.971548Z"
    },
    "id": "QjT3-ABeaW5W"
   },
   "outputs": [
    {
     "data": {
      "text/latex": [
       "$\\displaystyle \\left[\\begin{matrix}-1 & -1 & -1 & -2 & -2\\\\-1 & 1 & 0 & 1 & 0\\\\-1 & -2 & 1 & 1 & -1\\\\-1 & -1 & -1 & 1 & 0\\\\1 & 1 & 0 & 0 & 1\\end{matrix}\\right]$"
      ],
      "text/plain": [
       "Matrix([\n",
       "[-1, -1, -1, -2, -2],\n",
       "[-1,  1,  0,  1,  0],\n",
       "[-1, -2,  1,  1, -1],\n",
       "[-1, -1, -1,  1,  0],\n",
       "[ 1,  1,  0,  0,  1]])"
      ]
     },
     "execution_count": 11,
     "metadata": {},
     "output_type": "execute_result"
    }
   ],
   "source": [
    "sympy_matrix = sympy.Matrix(matrix)\n",
    "sympy_matrix"
   ]
  },
  {
   "cell_type": "markdown",
   "metadata": {
    "id": "k3q5lpc7mNoy"
   },
   "source": [
    "Можно заметить, что вывод матрицы при помощи SymPy более красивый. Вместе с тем с ними можно выполнять те же самые операции. Например, возведём эту матрицу в квадрат. Для этого можно воспользоваться стандартной операцией возведения в степень при помощи оператора «двойная звёздочка»."
   ]
  },
  {
   "cell_type": "code",
   "execution_count": 12,
   "metadata": {
    "ExecuteTime": {
     "end_time": "2025-05-06T12:19:18.037425Z",
     "start_time": "2025-05-06T12:19:18.031400Z"
    },
    "id": "EJeRfn9gmKxC"
   },
   "outputs": [
    {
     "data": {
      "text/latex": [
       "$\\displaystyle \\left[\\begin{matrix}3 & 2 & 2 & -2 & 1\\\\-1 & 1 & 0 & 4 & 2\\\\0 & -5 & 1 & 2 & 0\\\\2 & 1 & -1 & 1 & 3\\\\-1 & 1 & -1 & -1 & -1\\end{matrix}\\right]$"
      ],
      "text/plain": [
       "Matrix([\n",
       "[ 3,  2,  2, -2,  1],\n",
       "[-1,  1,  0,  4,  2],\n",
       "[ 0, -5,  1,  2,  0],\n",
       "[ 2,  1, -1,  1,  3],\n",
       "[-1,  1, -1, -1, -1]])"
      ]
     },
     "execution_count": 12,
     "metadata": {},
     "output_type": "execute_result"
    }
   ],
   "source": [
    "squared_matrix = sympy_matrix ** 2  # вставьте свой код здесь\n",
    "squared_matrix"
   ]
  },
  {
   "cell_type": "markdown",
   "metadata": {
    "id": "AW-tZ5Tsm1ZI"
   },
   "source": [
    "Мы также можем найти определитель матрицы. Например, для новой матрицы squared_matrix. Для этого воспользуемся методом A.det(), где A — это наша матрица."
   ]
  },
  {
   "cell_type": "code",
   "execution_count": 13,
   "metadata": {
    "ExecuteTime": {
     "end_time": "2025-05-06T12:19:18.097689Z",
     "start_time": "2025-05-06T12:19:18.090996Z"
    },
    "colab": {
     "base_uri": "https://localhost:8080/",
     "height": 37
    },
    "id": "uFVI9NU5mHgL",
    "outputId": "16a054cd-5a21-47ea-f6d4-defb4fb0aae8"
   },
   "outputs": [
    {
     "data": {
      "text/latex": [
       "$\\displaystyle 1$"
      ],
      "text/plain": [
       "1"
      ]
     },
     "execution_count": 13,
     "metadata": {},
     "output_type": "execute_result"
    }
   ],
   "source": [
    "det_sqaured_matrix = squared_matrix.det()\n",
    "det_sqaured_matrix"
   ]
  },
  {
   "cell_type": "markdown",
   "metadata": {
    "id": "XkybzdbBm1es"
   },
   "source": [
    "Определитель этой матрицы вновь получился равным единице! Это одно из замечательных свойств матриц, благодаря которому определитель произведения матриц равен произведению определителей. Если определитель матрицы равен единице, то и определитель квадрата матрицы тоже будет равен единице.\n",
    "\n",
    "Найдём теперь обратную матрицу при помощи метода A.inv(), где A — это наша матрица."
   ]
  },
  {
   "cell_type": "code",
   "execution_count": 14,
   "metadata": {
    "ExecuteTime": {
     "end_time": "2025-05-06T12:19:18.158951Z",
     "start_time": "2025-05-06T12:19:18.151787Z"
    },
    "id": "9MdE7yFUnYd1"
   },
   "outputs": [
    {
     "data": {
      "text/latex": [
       "$\\displaystyle \\left[\\begin{matrix}-54 & -32 & -62 & -13 & -157\\\\-12 & -7 & -14 & -3 & -35\\\\22 & 13 & 25 & 5 & 63\\\\-41 & -24 & -47 & -10 & -119\\\\61 & 36 & 70 & 15 & 177\\end{matrix}\\right]$"
      ],
      "text/plain": [
       "Matrix([\n",
       "[-54, -32, -62, -13, -157],\n",
       "[-12,  -7, -14,  -3,  -35],\n",
       "[ 22,  13,  25,   5,   63],\n",
       "[-41, -24, -47, -10, -119],\n",
       "[ 61,  36,  70,  15,  177]])"
      ]
     },
     "execution_count": 14,
     "metadata": {},
     "output_type": "execute_result"
    }
   ],
   "source": [
    "inv_squared_matrix = squared_matrix.inv()  # вставьте свой код здесь\n",
    "inv_squared_matrix"
   ]
  },
  {
   "cell_type": "markdown",
   "metadata": {
    "id": "5RrrJmxCnwyE"
   },
   "source": [
    "И наконец, проверим, что произведение матрицы на обратную к ней даст нам единичную матрицу. С матрицами типа Matrix библиотеки SymPy умножение производится при помощи обычного символа умножения «*»."
   ]
  },
  {
   "cell_type": "code",
   "execution_count": 15,
   "metadata": {
    "ExecuteTime": {
     "end_time": "2025-05-06T12:19:18.217729Z",
     "start_time": "2025-05-06T12:19:18.211194Z"
    },
    "id": "2T4Ng2mVnrDD"
   },
   "outputs": [
    {
     "data": {
      "text/latex": [
       "$\\displaystyle \\left[\\begin{matrix}1 & 0 & 0 & 0 & 0\\\\0 & 1 & 0 & 0 & 0\\\\0 & 0 & 1 & 0 & 0\\\\0 & 0 & 0 & 1 & 0\\\\0 & 0 & 0 & 0 & 1\\end{matrix}\\right]$"
      ],
      "text/plain": [
       "Matrix([\n",
       "[1, 0, 0, 0, 0],\n",
       "[0, 1, 0, 0, 0],\n",
       "[0, 0, 1, 0, 0],\n",
       "[0, 0, 0, 1, 0],\n",
       "[0, 0, 0, 0, 1]])"
      ]
     },
     "execution_count": 15,
     "metadata": {},
     "output_type": "execute_result"
    }
   ],
   "source": [
    "result = squared_matrix * inv_squared_matrix  # вставьте свой код здесь\n",
    "result"
   ]
  },
  {
   "cell_type": "markdown",
   "metadata": {
    "id": "ANus2Oc5os7F"
   },
   "source": [
    "## Задание 5. О визуализации\n",
    "\n",
    "Чтобы продемонстрировать следующее задание, сначала построим графики. Но для этого нам вновь необходимо воспользоваться методами NumPy.\n",
    "\n",
    "Мы построим график двух фигур. Первая фигура — это окружность с радиусом, равным единице, и центром в начале координат. Координаты точек $(x,y)$ окружности удовлетворяют уравнению $x^2+y^2=1$, но мы определим их из следующих равенств:\n",
    "\n",
    "$\\begin{cases}\n",
    "x = \\cosφ \\\\\n",
    "y = \\sinφ\n",
    "\\end{cases},$\n",
    "\n",
    "где $φ$ означает угол, отсчитываемый от положительного направления оси Ox. Определяя значения угла от $0$ до $2\\pi$, можно обойти всю окружность.\n",
    "\n",
    "Следовательно, наша первая задача — сделать равномерную сетку значений угла. Мы можем это сделать при помощи функции np.linspace(). Запустите следующую ячейку."
   ]
  },
  {
   "cell_type": "code",
   "execution_count": 16,
   "metadata": {
    "ExecuteTime": {
     "end_time": "2025-05-06T12:19:18.278004Z",
     "start_time": "2025-05-06T12:19:18.271885Z"
    },
    "id": "Sj9gK-4MosN6"
   },
   "outputs": [
    {
     "data": {
      "text/plain": [
       "array([0.        , 0.06346652, 0.12693304, 0.19039955, 0.25386607,\n",
       "       0.31733259, 0.38079911, 0.44426563, 0.50773215, 0.57119866,\n",
       "       0.63466518, 0.6981317 , 0.76159822, 0.82506474, 0.88853126,\n",
       "       0.95199777, 1.01546429, 1.07893081, 1.14239733, 1.20586385,\n",
       "       1.26933037, 1.33279688, 1.3962634 , 1.45972992, 1.52319644,\n",
       "       1.58666296, 1.65012947, 1.71359599, 1.77706251, 1.84052903,\n",
       "       1.90399555, 1.96746207, 2.03092858, 2.0943951 , 2.15786162,\n",
       "       2.22132814, 2.28479466, 2.34826118, 2.41172769, 2.47519421,\n",
       "       2.53866073, 2.60212725, 2.66559377, 2.72906028, 2.7925268 ,\n",
       "       2.85599332, 2.91945984, 2.98292636, 3.04639288, 3.10985939,\n",
       "       3.17332591, 3.23679243, 3.30025895, 3.36372547, 3.42719199,\n",
       "       3.4906585 , 3.55412502, 3.61759154, 3.68105806, 3.74452458,\n",
       "       3.8079911 , 3.87145761, 3.93492413, 3.99839065, 4.06185717,\n",
       "       4.12532369, 4.1887902 , 4.25225672, 4.31572324, 4.37918976,\n",
       "       4.44265628, 4.5061228 , 4.56958931, 4.63305583, 4.69652235,\n",
       "       4.75998887, 4.82345539, 4.88692191, 4.95038842, 5.01385494,\n",
       "       5.07732146, 5.14078798, 5.2042545 , 5.26772102, 5.33118753,\n",
       "       5.39465405, 5.45812057, 5.52158709, 5.58505361, 5.64852012,\n",
       "       5.71198664, 5.77545316, 5.83891968, 5.9023862 , 5.96585272,\n",
       "       6.02931923, 6.09278575, 6.15625227, 6.21971879, 6.28318531])"
      ]
     },
     "execution_count": 16,
     "metadata": {},
     "output_type": "execute_result"
    }
   ],
   "source": [
    "phi = np.linspace(0, 2 * np.pi, 100)\n",
    "phi"
   ]
  },
  {
   "cell_type": "code",
   "execution_count": null,
   "metadata": {
    "ExecuteTime": {
     "end_time": "2025-05-06T12:19:18.333511Z",
     "start_time": "2025-05-06T12:19:18.330813Z"
    }
   },
   "outputs": [],
   "source": []
  },
  {
   "cell_type": "markdown",
   "metadata": {
    "id": "r3jko8epqVrM"
   },
   "source": [
    "Затем при помощи этого угла нам нужно определить значения самих точек окружности. Вспомним, что NumPy изначально подразумевает некоторые основы функционального программирования и стандартные функции в нём векторизованы. Иными словами, при передаче аргумента-массива в функцию NumPy мы получим результат, также являющийся массивом из элементов, каждый из которых получен путём применения функции. Схожим образом действует функция map, о которой мы говорили ранее."
   ]
  },
  {
   "cell_type": "code",
   "execution_count": 17,
   "metadata": {
    "ExecuteTime": {
     "end_time": "2025-05-06T12:19:18.402061Z",
     "start_time": "2025-05-06T12:19:18.395458Z"
    },
    "id": "dvLQzGChocYY"
   },
   "outputs": [
    {
     "name": "stdout",
     "output_type": "stream",
     "text": [
      "x-координаты точек окружности:\n",
      " [ 1.          0.99798668  0.99195481  0.9819287   0.9679487   0.95007112\n",
      "  0.92836793  0.90292654  0.87384938  0.84125353  0.80527026  0.76604444\n",
      "  0.72373404  0.67850941  0.63055267  0.58005691  0.52722547  0.47227107\n",
      "  0.41541501  0.35688622  0.29692038  0.23575894  0.17364818  0.1108382\n",
      "  0.04758192 -0.01586596 -0.07924996 -0.14231484 -0.20480667 -0.26647381\n",
      " -0.32706796 -0.38634513 -0.44406661 -0.5        -0.55392006 -0.60560969\n",
      " -0.65486073 -0.70147489 -0.74526445 -0.78605309 -0.82367658 -0.85798341\n",
      " -0.88883545 -0.91610846 -0.93969262 -0.95949297 -0.97542979 -0.98743889\n",
      " -0.99547192 -0.99949654 -0.99949654 -0.99547192 -0.98743889 -0.97542979\n",
      " -0.95949297 -0.93969262 -0.91610846 -0.88883545 -0.85798341 -0.82367658\n",
      " -0.78605309 -0.74526445 -0.70147489 -0.65486073 -0.60560969 -0.55392006\n",
      " -0.5        -0.44406661 -0.38634513 -0.32706796 -0.26647381 -0.20480667\n",
      " -0.14231484 -0.07924996 -0.01586596  0.04758192  0.1108382   0.17364818\n",
      "  0.23575894  0.29692038  0.35688622  0.41541501  0.47227107  0.52722547\n",
      "  0.58005691  0.63055267  0.67850941  0.72373404  0.76604444  0.80527026\n",
      "  0.84125353  0.87384938  0.90292654  0.92836793  0.95007112  0.9679487\n",
      "  0.9819287   0.99195481  0.99798668  1.        ]\n",
      "y-координаты точек окружности:\n",
      " [ 0.00000000e+00  6.34239197e-02  1.26592454e-01  1.89251244e-01\n",
      "  2.51147987e-01  3.12033446e-01  3.71662456e-01  4.29794912e-01\n",
      "  4.86196736e-01  5.40640817e-01  5.92907929e-01  6.42787610e-01\n",
      "  6.90079011e-01  7.34591709e-01  7.76146464e-01  8.14575952e-01\n",
      "  8.49725430e-01  8.81453363e-01  9.09631995e-01  9.34147860e-01\n",
      "  9.54902241e-01  9.71811568e-01  9.84807753e-01  9.93838464e-01\n",
      "  9.98867339e-01  9.99874128e-01  9.96854776e-01  9.89821442e-01\n",
      "  9.78802446e-01  9.63842159e-01  9.45000819e-01  9.22354294e-01\n",
      "  8.95993774e-01  8.66025404e-01  8.32569855e-01  7.95761841e-01\n",
      "  7.55749574e-01  7.12694171e-01  6.66769001e-01  6.18158986e-01\n",
      "  5.67059864e-01  5.13677392e-01  4.58226522e-01  4.00930535e-01\n",
      "  3.42020143e-01  2.81732557e-01  2.20310533e-01  1.58001396e-01\n",
      "  9.50560433e-02  3.17279335e-02 -3.17279335e-02 -9.50560433e-02\n",
      " -1.58001396e-01 -2.20310533e-01 -2.81732557e-01 -3.42020143e-01\n",
      " -4.00930535e-01 -4.58226522e-01 -5.13677392e-01 -5.67059864e-01\n",
      " -6.18158986e-01 -6.66769001e-01 -7.12694171e-01 -7.55749574e-01\n",
      " -7.95761841e-01 -8.32569855e-01 -8.66025404e-01 -8.95993774e-01\n",
      " -9.22354294e-01 -9.45000819e-01 -9.63842159e-01 -9.78802446e-01\n",
      " -9.89821442e-01 -9.96854776e-01 -9.99874128e-01 -9.98867339e-01\n",
      " -9.93838464e-01 -9.84807753e-01 -9.71811568e-01 -9.54902241e-01\n",
      " -9.34147860e-01 -9.09631995e-01 -8.81453363e-01 -8.49725430e-01\n",
      " -8.14575952e-01 -7.76146464e-01 -7.34591709e-01 -6.90079011e-01\n",
      " -6.42787610e-01 -5.92907929e-01 -5.40640817e-01 -4.86196736e-01\n",
      " -4.29794912e-01 -3.71662456e-01 -3.12033446e-01 -2.51147987e-01\n",
      " -1.89251244e-01 -1.26592454e-01 -6.34239197e-02 -2.44929360e-16]\n"
     ]
    }
   ],
   "source": [
    "x_circle = np.cos(phi)\n",
    "y_circle = np.sin(phi)  # вставьте свой код здесь\n",
    "print(\"x-координаты точек окружности:\\n\", x_circle)\n",
    "print(\"y-координаты точек окружности:\\n\", y_circle)"
   ]
  },
  {
   "cell_type": "markdown",
   "metadata": {
    "id": "r5ahfHBUrMds"
   },
   "source": [
    "Запустите эту ячейку и увидите, что действительно были посчитаны именно массивы.\n",
    "\n",
    "Далее попробуйте самостоятельно определить координаты точек, принадлежащих прямой\n",
    "\n",
    "$y = 2x+1$\n",
    "\n",
    "Чтобы это сделать, при помощи той же функции np.linspace() создайте массив из 100 точек x-координаты, которые находятся в отрезке [-2,2]."
   ]
  },
  {
   "cell_type": "code",
   "execution_count": 18,
   "metadata": {
    "ExecuteTime": {
     "end_time": "2025-05-06T12:19:18.457397Z",
     "start_time": "2025-05-06T12:19:18.451594Z"
    },
    "id": "Jepe1-UHrKPU"
   },
   "outputs": [
    {
     "data": {
      "text/plain": [
       "array([-2.        , -1.95959596, -1.91919192, -1.87878788, -1.83838384,\n",
       "       -1.7979798 , -1.75757576, -1.71717172, -1.67676768, -1.63636364,\n",
       "       -1.5959596 , -1.55555556, -1.51515152, -1.47474747, -1.43434343,\n",
       "       -1.39393939, -1.35353535, -1.31313131, -1.27272727, -1.23232323,\n",
       "       -1.19191919, -1.15151515, -1.11111111, -1.07070707, -1.03030303,\n",
       "       -0.98989899, -0.94949495, -0.90909091, -0.86868687, -0.82828283,\n",
       "       -0.78787879, -0.74747475, -0.70707071, -0.66666667, -0.62626263,\n",
       "       -0.58585859, -0.54545455, -0.50505051, -0.46464646, -0.42424242,\n",
       "       -0.38383838, -0.34343434, -0.3030303 , -0.26262626, -0.22222222,\n",
       "       -0.18181818, -0.14141414, -0.1010101 , -0.06060606, -0.02020202,\n",
       "        0.02020202,  0.06060606,  0.1010101 ,  0.14141414,  0.18181818,\n",
       "        0.22222222,  0.26262626,  0.3030303 ,  0.34343434,  0.38383838,\n",
       "        0.42424242,  0.46464646,  0.50505051,  0.54545455,  0.58585859,\n",
       "        0.62626263,  0.66666667,  0.70707071,  0.74747475,  0.78787879,\n",
       "        0.82828283,  0.86868687,  0.90909091,  0.94949495,  0.98989899,\n",
       "        1.03030303,  1.07070707,  1.11111111,  1.15151515,  1.19191919,\n",
       "        1.23232323,  1.27272727,  1.31313131,  1.35353535,  1.39393939,\n",
       "        1.43434343,  1.47474747,  1.51515152,  1.55555556,  1.5959596 ,\n",
       "        1.63636364,  1.67676768,  1.71717172,  1.75757576,  1.7979798 ,\n",
       "        1.83838384,  1.87878788,  1.91919192,  1.95959596,  2.        ])"
      ]
     },
     "execution_count": 18,
     "metadata": {},
     "output_type": "execute_result"
    }
   ],
   "source": [
    "x_lin = np.linspace(-2, 2, 100)  # вставьте свой код здесь\n",
    "x_lin"
   ]
  },
  {
   "cell_type": "markdown",
   "metadata": {
    "id": "pnfKpHFfxoeA"
   },
   "source": [
    "Затем определите y-координаты точек при помощи уравнения прямой, записанного выше."
   ]
  },
  {
   "cell_type": "code",
   "execution_count": 19,
   "metadata": {
    "ExecuteTime": {
     "end_time": "2025-05-06T12:19:18.517099Z",
     "start_time": "2025-05-06T12:19:18.510855Z"
    },
    "id": "tdV1NvnwxunB"
   },
   "outputs": [
    {
     "data": {
      "text/plain": [
       "array([-3.        , -2.91919192, -2.83838384, -2.75757576, -2.67676768,\n",
       "       -2.5959596 , -2.51515152, -2.43434343, -2.35353535, -2.27272727,\n",
       "       -2.19191919, -2.11111111, -2.03030303, -1.94949495, -1.86868687,\n",
       "       -1.78787879, -1.70707071, -1.62626263, -1.54545455, -1.46464646,\n",
       "       -1.38383838, -1.3030303 , -1.22222222, -1.14141414, -1.06060606,\n",
       "       -0.97979798, -0.8989899 , -0.81818182, -0.73737374, -0.65656566,\n",
       "       -0.57575758, -0.49494949, -0.41414141, -0.33333333, -0.25252525,\n",
       "       -0.17171717, -0.09090909, -0.01010101,  0.07070707,  0.15151515,\n",
       "        0.23232323,  0.31313131,  0.39393939,  0.47474747,  0.55555556,\n",
       "        0.63636364,  0.71717172,  0.7979798 ,  0.87878788,  0.95959596,\n",
       "        1.04040404,  1.12121212,  1.2020202 ,  1.28282828,  1.36363636,\n",
       "        1.44444444,  1.52525253,  1.60606061,  1.68686869,  1.76767677,\n",
       "        1.84848485,  1.92929293,  2.01010101,  2.09090909,  2.17171717,\n",
       "        2.25252525,  2.33333333,  2.41414141,  2.49494949,  2.57575758,\n",
       "        2.65656566,  2.73737374,  2.81818182,  2.8989899 ,  2.97979798,\n",
       "        3.06060606,  3.14141414,  3.22222222,  3.3030303 ,  3.38383838,\n",
       "        3.46464646,  3.54545455,  3.62626263,  3.70707071,  3.78787879,\n",
       "        3.86868687,  3.94949495,  4.03030303,  4.11111111,  4.19191919,\n",
       "        4.27272727,  4.35353535,  4.43434343,  4.51515152,  4.5959596 ,\n",
       "        4.67676768,  4.75757576,  4.83838384,  4.91919192,  5.        ])"
      ]
     },
     "execution_count": 19,
     "metadata": {},
     "output_type": "execute_result"
    }
   ],
   "source": [
    "y_lin = 2 * x_lin + 1  # вставьте свой код здесь\n",
    "y_lin"
   ]
  },
  {
   "cell_type": "markdown",
   "metadata": {
    "id": "bk4ypXEfyFIA"
   },
   "source": [
    "Теперь запустите следующую ячейку, которая позволит нарисовать полученные фигуры. Подробнее с визуализацией мы познакомимся в следующей части курса, а пока просто наслаждайтесь! :)"
   ]
  },
  {
   "cell_type": "code",
   "execution_count": 20,
   "metadata": {
    "ExecuteTime": {
     "end_time": "2025-05-06T12:19:18.870133Z",
     "start_time": "2025-05-06T12:19:18.570435Z"
    },
    "id": "6DQd6rwsxyBN"
   },
   "outputs": [
    {
     "data": {
      "image/png": "[encoded data removed]",
      "text/plain": [
       "<Figure size 640x480 with 1 Axes>"
      ]
     },
     "metadata": {},
     "output_type": "display_data"
    }
   ],
   "source": [
    "plt.xlim(-2, 2)\n",
    "plt.ylim(-2, 2)\n",
    "\n",
    "plt.plot(x_circle, y_circle, 's', color='red', label='Окружность')\n",
    "plt.plot(x_lin, y_lin, '-', color='green', label='Прямая')\n",
    "plt.title(\"Графики окружности и прямой\")\n",
    "plt.legend()\n",
    "\n",
    "plt.grid(which='major', color='#300000', linewidth='0.9', alpha=0.3, linestyle='-')\n",
    "plt.minorticks_on()\n",
    "plt.grid(which='minor', color='#300000', linewidth='0.3', alpha=0.2, linestyle='-')"
   ]
  },
  {
   "cell_type": "markdown",
   "metadata": {
    "id": "bxsj1SEezqhX"
   },
   "source": [
    "## Задание 6. Решение уравнений\n",
    "\n",
    "Самое важное для нас — увидеть, что прямая и окружность пересекаются в двух точках $A=(0,1)$ и $B=(-0.8, -0.6)$. Попробуем найти координаты этих точек как решение системы уравнений при помощи библиотеки SymPy.\n",
    "\n",
    "Для этого нам нужно определить символы — буквы $x$ и $y$, фигурирующие в уравнениях, которые нам нужно совместно решить:\n",
    "$\\begin{cases}\n",
    "x^2+y^2=1 \\\\\n",
    "y=2x+1\n",
    "\\end{cases}$\n",
    "\n",
    "Для этого воспользуемся объектами Symbol из библиотеки SymPy."
   ]
  },
  {
   "cell_type": "code",
   "execution_count": 21,
   "metadata": {
    "ExecuteTime": {
     "end_time": "2025-05-06T12:19:18.890600Z",
     "start_time": "2025-05-06T12:19:18.885498Z"
    },
    "id": "FgY5hRwH0KmM"
   },
   "outputs": [
    {
     "ename": "SyntaxError",
     "evalue": "invalid syntax (2078396857.py, line 2)",
     "output_type": "error",
     "traceback": [
      "\u001b[0;36m  Cell \u001b[0;32mIn[21], line 2\u001b[0;36m\u001b[0m\n\u001b[0;31m    y =  # вставьте свой код здесь\u001b[0m\n\u001b[0m         ^\u001b[0m\n\u001b[0;31mSyntaxError\u001b[0m\u001b[0;31m:\u001b[0m invalid syntax\n"
     ]
    }
   ],
   "source": [
    "x = sympy.Symbol('x')\n",
    "y =  # вставьте свой код здесь"
   ]
  },
  {
   "cell_type": "markdown",
   "metadata": {
    "id": "yA9aW0cT0ZXn"
   },
   "source": [
    "Далее нам нужно задать уравнения, которые нужно решать. Сначала определим уравнение окружности:"
   ]
  },
  {
   "cell_type": "code",
   "execution_count": 62,
   "metadata": {
    "ExecuteTime": {
     "end_time": "2025-05-06T12:19:19.802736300Z",
     "start_time": "2025-05-06T12:09:20.959131Z"
    },
    "colab": {
     "base_uri": "https://localhost:8080/",
     "height": 38
    },
    "id": "KChFLuUp0YYi",
    "outputId": "0aa88f91-532d-476b-bd76-41eaf149f5f8"
   },
   "outputs": [
    {
     "data": {
      "text/latex": [
       "$\\displaystyle x^{2} + y^{2} = 1$"
      ],
      "text/plain": [
       "Eq(x**2 + y**2, 1)"
      ]
     },
     "execution_count": 62,
     "metadata": {},
     "output_type": "execute_result"
    }
   ],
   "source": [
    "circle_eq = sympy.Eq(x ** 2 + y ** 2, 1)  # вставьте свой код здесь\n",
    "circle_eq"
   ]
  },
  {
   "cell_type": "markdown",
   "metadata": {
    "id": "nyuJQj4XzHLp"
   },
   "source": [
    "Как видите, вывод уравнения вновь достаточно красив. Определим точно так же уравнение для прямой. Для этого необходимо вспомнить, что функция Eq принимает два аргумента. Первый аргумент — это левая часть уравнения, а второй — правая."
   ]
  },
  {
   "cell_type": "code",
   "execution_count": 63,
   "metadata": {
    "ExecuteTime": {
     "end_time": "2025-05-06T12:19:19.804739600Z",
     "start_time": "2025-05-06T12:10:14.772622Z"
    },
    "id": "2oMNsWy100Uh"
   },
   "outputs": [
    {
     "data": {
      "text/latex": [
       "$\\displaystyle y = 2 x + 1$"
      ],
      "text/plain": [
       "Eq(y, 2*x + 1)"
      ]
     },
     "execution_count": 63,
     "metadata": {},
     "output_type": "execute_result"
    }
   ],
   "source": [
    "line_eq = sympy.Eq(y, 2 * x + 1)\n",
    "line_eq # вставьте свой код здесь"
   ]
  },
  {
   "cell_type": "markdown",
   "metadata": {
    "id": "Dql-yMSv22ng"
   },
   "source": [
    "После чего воспользуемся функцией solve, позволяющей решить систему уравнений. Первый аргумент — это список уравнений типа Eq, а второй аргумент — кортеж из переменных, относительно которых нужно решить уравнения. Вот как это можно сделать:"
   ]
  },
  {
   "cell_type": "code",
   "execution_count": 64,
   "metadata": {
    "ExecuteTime": {
     "end_time": "2025-05-06T12:19:19.815886100Z",
     "start_time": "2025-05-06T12:10:23.671639Z"
    },
    "id": "Jwy5itI0yc37"
   },
   "outputs": [
    {
     "data": {
      "text/plain": [
       "[(-4/5, -3/5), (0, 1)]"
      ]
     },
     "execution_count": 64,
     "metadata": {},
     "output_type": "execute_result"
    }
   ],
   "source": [
    "sympy.solve([circle_eq, line_eq], (x, y))"
   ]
  },
  {
   "cell_type": "markdown",
   "metadata": {
    "id": "jvOFcFHF3El1"
   },
   "source": [
    "После запуска ячейки вы должны увидеть список из двух точек, которые соответствуют тем же самым точкам, что мы определили по графику."
   ]
  }
 ],
 "metadata": {
  "colab": {
   "provenance": []
  },
  "kernelspec": {
   "display_name": "Python 3 (ipykernel)",
   "language": "python",
   "name": "python3"
  },
  "language_info": {
   "codemirror_mode": {
    "name": "ipython",
    "version": 3
   },
   "file_extension": ".py",
   "mimetype": "text/x-python",
   "name": "python",
   "nbconvert_exporter": "python",
   "pygments_lexer": "ipython3",
   "version": "3.11.11"
  }
 },
 "nbformat": 4,
 "nbformat_minor": 4
}
