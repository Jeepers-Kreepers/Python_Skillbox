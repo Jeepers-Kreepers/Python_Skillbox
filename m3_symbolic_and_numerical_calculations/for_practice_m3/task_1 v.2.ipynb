{
 "cells": [
  {
   "cell_type": "code",
   "id": "initial_id",
   "metadata": {
    "collapsed": true,
    "ExecuteTime": {
     "end_time": "2025-06-05T12:00:24.504997Z",
     "start_time": "2025-06-05T12:00:23.837258Z"
    }
   },
   "source": [
    "import sympy as sp\n",
    "import math\n",
    "\n",
    "# Определяем символы\n",
    "a, b, t = sp.symbols('a b t')\n",
    "\n",
    "# Матрица A\n",
    "A = sp.Matrix([[sp.cos(a), sp.sin(a)],\n",
    "              [sp.sin(b), sp.cos(b)]])\n",
    "det_A_sym = A.det().simplify()\n",
    "det_A_num = det_A_sym.subs({a: math.pi/2, b: math.pi/3})\n",
    "\n",
    "print(\"Матрица A:\")\n",
    "print(f\"Символьный определитель: {det_A_sym}\")\n",
    "print(f\"Численный определитель при a = π/2, b = π/3: {det_A_num.evalf()}\\n\")\n",
    "\n",
    "# Матрица B\n",
    "B = sp.Matrix([[(1 - t**2)/(1 + t**2), 2*t/(1 + t**2)],\n",
    "              [-2*t/(1 + t**2), (1 - t**2)/(1 + t**2)]])\n",
    "det_B_sym = B.det().simplify()\n",
    "det_B_num = det_B_sym.subs(t, 1)\n",
    "\n",
    "print(\"Матрица B:\")\n",
    "print(f\"Символьный определитель: {det_B_sym}\")\n",
    "print(f\"Численный определитель при t = 1: {det_B_num}\\n\")\n",
    "\n",
    "# Матрица C\n",
    "C = sp.Matrix([[a**2, a*b],\n",
    "              [a*b, b**2]])\n",
    "det_C_sym = C.det().simplify()\n",
    "det_C_num = det_C_sym.subs({a: math.pi/2, b: math.pi/3})\n",
    "\n",
    "print(\"Матрица C:\")\n",
    "print(f\"Символьный определитель: {det_C_sym}\")\n",
    "print(f\"Численный определитель при a = π/2, b = π/3: {det_C_num.evalf()}\\n\")\n",
    "\n",
    "# Матрица D\n",
    "D = sp.Matrix([[5, 2, 0],\n",
    "              [7, 3, 0],\n",
    "              [0, 0, 1]])\n",
    "det_D_sym = D.det().simplify()\n",
    "\n",
    "print(\"Матрица D:\")\n",
    "print(f\"Символьный определитель: {det_D_sym}\")"
   ],
   "outputs": [
    {
     "name": "stdout",
     "output_type": "stream",
     "text": [
      "Матрица A:\n",
      "Символьный определитель: cos(a + b)\n",
      "Численный определитель при a = π/2, b = π/3: -0.866025403784438\n",
      "\n",
      "Матрица B:\n",
      "Символьный определитель: 1\n",
      "Численный определитель при t = 1: 1\n",
      "\n",
      "Матрица C:\n",
      "Символьный определитель: 0\n",
      "Численный определитель при a = π/2, b = π/3: 0\n",
      "\n",
      "Матрица D:\n",
      "Символьный определитель: 1\n"
     ]
    }
   ],
   "execution_count": 1
  }
 ],
 "metadata": {
  "kernelspec": {
   "display_name": "Python 3",
   "language": "python",
   "name": "python3"
  },
  "language_info": {
   "codemirror_mode": {
    "name": "ipython",
    "version": 2
   },
   "file_extension": ".py",
   "mimetype": "text/x-python",
   "name": "python",
   "nbconvert_exporter": "python",
   "pygments_lexer": "ipython2",
   "version": "2.7.6"
  }
 },
 "nbformat": 4,
 "nbformat_minor": 5
}
