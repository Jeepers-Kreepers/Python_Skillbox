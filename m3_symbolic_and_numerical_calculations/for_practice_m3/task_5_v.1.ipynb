{
 "cells": [
  {
   "metadata": {},
   "cell_type": "markdown",
   "source": "Пересчитайте координаты вектора при переходе из одной системы координат в другую. Вам заданы матрицы трансформации в виде вектора — переноса начала координат и углов поворота относительно осей.",
   "id": "c27c58d4aeab3e73"
  },
  {
   "metadata": {},
   "cell_type": "markdown",
   "source": "Покажите, используя символьные вычисления, справедливость равенства:",
   "id": "23b98cee6beb0f7b"
  },
  {
   "metadata": {},
   "cell_type": "markdown",
   "source": [
    "$\n",
    "T\\cdot R_{x}(\\alpha)=\\begin{bmatrix}\n",
    " 1& 0 & 0 & T_{x} \\\\\n",
    "0 & 1 & 0 & T_{y} \\\\\n",
    "0 & 0 & 1 & T_{z} \\\\\n",
    "0 & 0 & 0 & 1 \\\\\n",
    "\\end{bmatrix}\\cdot \\begin{bmatrix}\n",
    "cos(\\alpha ) & -sin(\\alpha) & 0  & 0 \\\\\n",
    "sin(\\alpha ) & cos(\\alpha) & 0 & 0 \\\\\n",
    "0 & 0 & 1 & 0 \\\\\n",
    "0 &  0& 0 & 1 \\\\\n",
    "\\end{bmatrix} = \\begin{bmatrix}\n",
    "cos(\\alpha) & -sin(\\alpha) & 0 & T_{x} \\\\\n",
    "sin(\\alpha) & cos(\\alpha) & 0 & T_{y} \\\\\n",
    "0 & 0 & 1 & T_{z} \\\\\n",
    "0 & 0 & 0 & 1 \\\\\n",
    "\\end{bmatrix}\n",
    "$"
   ],
   "id": "d9d338719f9a4495"
  },
  {
   "metadata": {
    "ExecuteTime": {
     "end_time": "2025-06-25T13:48:51.929457Z",
     "start_time": "2025-06-25T13:48:51.817077Z"
    }
   },
   "cell_type": "code",
   "source": [
    "import numpy as np\n",
    "import math\n",
    "\n",
    "def transform_coordinates(x, y, z, Tx, Ty, Tz, alpha_deg, beta_deg, gamma_deg):\n",
    "    \"\"\"\n",
    "    Пересчитывает координаты вектора из одной системы координат в другую.\n",
    "\n",
    "    Args:\n",
    "        x, y, z: Координаты вектора в исходной системе координат.\n",
    "        Tx, Ty, Tz: Вектор переноса начала координат.\n",
    "        alpha_deg, beta_deg, gamma_deg: Углы поворота в градусах (ZYX порядок).\n",
    "\n",
    "    Returns:\n",
    "        (x_new, y_new, z_new): Координаты вектора в новой системе координат.\n",
    "    \"\"\"\n",
    "    # Преобразуем углы в радианы\n",
    "    alpha = math.radians(alpha_deg)\n",
    "    beta = math.radians(beta_deg)\n",
    "    gamma = math.radians(gamma_deg)\n",
    "\n",
    "    # Матрицы поворотов\n",
    "    Rx = np.array([[1, 0, 0],\n",
    "                   [0, math.cos(alpha), -math.sin(alpha)],\n",
    "                   [0, math.sin(alpha), math.cos(alpha)]])\n",
    "\n",
    "    Ry = np.array([[math.cos(beta), 0, math.sin(beta)],\n",
    "                   [0, 1, 0],\n",
    "                   [-math.sin(beta), 0, math.cos(beta)]])\n",
    "\n",
    "    Rz = np.array([[math.cos(gamma), -math.sin(gamma), 0],\n",
    "                   [math.sin(gamma), math.cos(gamma), 0],\n",
    "                   [0, 0, 1]])\n",
    "\n",
    "    # Общая матрица поворота (ZYX)\n",
    "    R = Rz @ Ry @ Rx\n",
    "\n",
    "    # Преобразуем исходный вектор в вектор-столбец\n",
    "    v_original = np.array([x, y, z])\n",
    "\n",
    "    # Поворачиваем вектор\n",
    "    v_rotated = R @ v_original\n",
    "\n",
    "    # Переносим вектор\n",
    "    v_new = v_rotated - np.array([Tx, Ty, Tz])\n",
    "\n",
    "    return tuple(v_new)\n",
    "\n",
    "\n",
    "# Пример использования:\n",
    "x = 2\n",
    "y = 3\n",
    "z = 4\n",
    "Tx = 1\n",
    "Ty = 2\n",
    "Tz = 3\n",
    "alpha_deg = 30  # Угол поворота вокруг X (в градусах)\n",
    "beta_deg = 45   # Угол поворота вокруг Y (в градусах)\n",
    "gamma_deg = 60  # Угол поворота вокруг Z (в градусах)\n",
    "\n",
    "\n",
    "x_new, y_new, z_new = transform_coordinates(x, y, z, Tx, Ty, Tz, alpha_deg, beta_deg, gamma_deg)\n",
    "print(f\"Исходные координаты: ({x}, {y}, {z})\")\n",
    "print(f\"Новые координаты: ({x_new:.2f}, {y_new:.2f}, {z_new:.2f})\")"
   ],
   "id": "96c994de40427d9b",
   "outputs": [
    {
     "name": "stdout",
     "output_type": "stream",
     "text": [
      "Исходные координаты: (2, 3, 4)\n",
      "Новые координаты: (0.94, 2.56, -0.90)\n"
     ]
    }
   ],
   "execution_count": 1
  }
 ],
 "metadata": {
  "kernelspec": {
   "display_name": "Python 3",
   "language": "python",
   "name": "python3"
  },
  "language_info": {
   "codemirror_mode": {
    "name": "ipython",
    "version": 2
   },
   "file_extension": ".py",
   "mimetype": "text/x-python",
   "name": "python",
   "nbconvert_exporter": "python",
   "pygments_lexer": "ipython2",
   "version": "2.7.6"
  }
 },
 "nbformat": 4,
 "nbformat_minor": 5
}
