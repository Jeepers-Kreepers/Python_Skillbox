{
 "cells": [
  {
   "metadata": {},
   "cell_type": "markdown",
   "source": [
    "### Задача 3 ###\n",
    "#### Решите систему уравнений: ####"
   ],
   "id": "8ae36b3a6de41974"
  },
  {
   "metadata": {},
   "cell_type": "markdown",
   "source": [
    "$$ \\left\\{\\begin{matrix}\n",
    "\\sqrt{x - 4y}-2\\sqrt{x + 3y} = 1 \\\\\n",
    "7\\sqrt{x+3y} - 5x + 22y = 13\n",
    "\\end{matrix}\\right. $$"
   ],
   "id": "396c7064f0c79b39"
  },
  {
   "metadata": {
    "ExecuteTime": {
     "end_time": "2025-06-14T14:48:50.459165Z",
     "start_time": "2025-06-14T14:48:49.971237Z"
    }
   },
   "cell_type": "code",
   "source": [
    "from sympy import symbols, Eq, sqrt, solve\n",
    "\n",
    "# Определяем переменные\n",
    "x, y, z = symbols('x y z')\n",
    "\n",
    "# Записываем систему уравнений\n",
    "eq1 = Eq(sqrt(x - 4 * y) - 2 * sqrt(x + 3 * y), 1)\n",
    "eq2 = Eq(7 * sqrt(x + 3 * y) - 5 * x + 22 * y, 13)\n",
    "\n",
    "# Решаем систему уравнений\n",
    "solutions1 = solve([eq1, eq2], (x, y))\n",
    "\n",
    "# Выводим решение\n",
    "print(\"Решения системы:\")\n",
    "if solutions1:\n",
    "    for sol in solutions1:\n",
    "        print(f\"x = {sol[0]}, y = {sol[1]}\")\n",
    "else:\n",
    "    print(\"Нет решений\")"
   ],
   "id": "2552179568ae0c6d",
   "outputs": [
    {
     "name": "stdout",
     "output_type": "stream",
     "text": [
      "Решения системы:\n",
      "Нет решений\n"
     ]
    }
   ],
   "execution_count": 4
  },
  {
   "metadata": {
    "ExecuteTime": {
     "end_time": "2025-06-14T14:48:50.574997Z",
     "start_time": "2025-06-14T14:48:50.472401Z"
    }
   },
   "cell_type": "code",
   "source": [
    "eq1 = x ** 4 - y ** 4 - 15\n",
    "eq2 = x ** 3 * y - x * y ** 3 - 6\n",
    "\n",
    "# Решаем систему\n",
    "solutions2 = solve([eq1, eq2], (x, y))\n",
    "print(\"Решения системы:\")\n",
    "for sol in solutions2:\n",
    "    print(f\"x = {sol[0]}, y = {sol[1]}\")"
   ],
   "id": "2ff6181d86067c6f",
   "outputs": [
    {
     "name": "stdout",
     "output_type": "stream",
     "text": [
      "Решения системы:\n",
      "x = -2, y = -1\n",
      "x = 2, y = 1\n",
      "x = -2*I, y = -I\n",
      "x = 2*I, y = I\n",
      "x = sqrt(2)*(-1 - I)/2, y = -sqrt(2) - sqrt(2)*I\n",
      "x = sqrt(2)*(-1 + I)/2, y = -sqrt(2) + sqrt(2)*I\n",
      "x = sqrt(2)*(1 - I)/2, y = sqrt(2) - sqrt(2)*I\n",
      "x = sqrt(2)*(1 + I)/2, y = sqrt(2) + sqrt(2)*I\n"
     ]
    }
   ],
   "execution_count": 5
  },
  {
   "metadata": {},
   "cell_type": "markdown",
   "source": [
    "$$ \\left\\{\\begin{matrix}\n",
    "x - y + z =  2 \\\\ x ^ 2 + y ^ 2 + z ^ 2 =  6\n",
    " \\\\ x ^ 3 + y ^ 3 + z ^ 3 = 8\n",
    "\\end{matrix}\\right. $$"
   ],
   "id": "7d578f9bd33e18a7"
  },
  {
   "metadata": {
    "ExecuteTime": {
     "end_time": "2025-06-14T14:48:50.623029Z",
     "start_time": "2025-06-14T14:48:50.591015Z"
    }
   },
   "cell_type": "code",
   "source": [
    "eq1 = Eq(x - y + z, 2)\n",
    "eq2 = Eq(x ** 2 + y ** 2 + z ** 2, 6)\n",
    "eq3 = Eq(x ** 3 + y ** 3 + z ** 3, 8)\n",
    "\n",
    "solutions3 = solve([eq1, eq2, eq3], (x, y, z))\n",
    "\n",
    "print(\"Решения системы:\")\n",
    "if solutions3:\n",
    "    for sol in solutions3:\n",
    "        print(f\"x = {sol[0]}, y = {sol[1]}, z = {sol[2]}\")\n",
    "else:\n",
    "    print(\"Нет решений\")"
   ],
   "id": "d11655b77c7f550a",
   "outputs": [
    {
     "name": "stdout",
     "output_type": "stream",
     "text": [
      "Решения системы:\n",
      "Нет решений\n"
     ]
    }
   ],
   "execution_count": 6
  },
  {
   "metadata": {},
   "cell_type": "markdown",
   "source": [
    "$$ \\left\\{\\begin{matrix}\n",
    "x / y - y / z + z / x = 3 \\\\ y / x + z / y + x / z = 3\n",
    " \\\\ x + y + z = 3\n",
    "\\end{matrix}\\right. $$"
   ],
   "id": "2726c16858404d8b"
  },
  {
   "metadata": {
    "ExecuteTime": {
     "end_time": "2025-06-14T14:48:50.673942Z",
     "start_time": "2025-06-14T14:48:50.639030Z"
    }
   },
   "cell_type": "code",
   "source": [
    "x, y, z = symbols('x y z')\n",
    "\n",
    "eq1 = Eq(x / y - y / z + z / x, 3)\n",
    "eq2 = Eq(y / x + z / y + x / z, 3)\n",
    "eq3 = Eq(x + y + z, 3)\n",
    "\n",
    "solutions4 = solve([eq1, eq2, eq3], (x, y, z))\n",
    "print(\"Решения системы:\")\n",
    "if solutions4:\n",
    "    for sol in solutions4:\n",
    "        print(f\"x = {sol[0]}, y = {sol[1]}, z = {sol[2]}\")\n",
    "else:\n",
    "    print(\"Нет решений\")"
   ],
   "id": "fb1029c8bc7e7f6f",
   "outputs": [
    {
     "name": "stdout",
     "output_type": "stream",
     "text": [
      "Решения системы:\n",
      "Нет решений\n"
     ]
    }
   ],
   "execution_count": 7
  },
  {
   "metadata": {
    "ExecuteTime": {
     "end_time": "2025-06-14T14:49:50.062432Z",
     "start_time": "2025-06-14T14:49:49.771709Z"
    }
   },
   "cell_type": "code",
   "source": [
    "from sympy import symbols, Eq, solve, sqrt, nsolve\n",
    "\n",
    "# Определяем переменные\n",
    "x, y = symbols('x y', real=True)\n",
    "\n",
    "# Записываем уравнения\n",
    "eq1 = Eq(sqrt(x - 4 * y) - 2 * sqrt(x + 3 * y), 1)\n",
    "eq2 = Eq(7 * sqrt(x + 3 * y) - 5 * x + 22 * y, 13)\n",
    "\n",
    "# Решаем систему\n",
    "solution = solve((eq1, eq2), (x, y))\n",
    "# solution2 = nsolve((eq1, eq2), (x, y), (5, 1))\n",
    "\n",
    "# Выводим решение\n",
    "print(\"Решение системы:\")\n",
    "print(solution)"
   ],
   "id": "53c2fd08f5564ee2",
   "outputs": [
    {
     "name": "stdout",
     "output_type": "stream",
     "text": [
      "Решение системы:\n",
      "[]\n"
     ]
    }
   ],
   "execution_count": 10
  },
  {
   "metadata": {
    "ExecuteTime": {
     "end_time": "2025-06-14T14:50:14.963363Z",
     "start_time": "2025-06-14T14:50:14.864676Z"
    }
   },
   "cell_type": "code",
   "source": [
    "from sympy import nsolve\n",
    "\n",
    "# Определяем переменные\n",
    "x, y = symbols('x y', real=True)\n",
    "\n",
    "# Уравнения\n",
    "eq1 = sqrt(x - 4*y) - 2*sqrt(x + 3*y) - 1\n",
    "eq2 = 7*sqrt(x + 3*y) - 5*x + 22*y - 13\n",
    "\n",
    "# Численное решение с начальным приближением (5, 1)\n",
    "solution = nsolve((eq1, eq2), (x, y), (5, 1))\n",
    "\n",
    "print(\"Численное решение:\", solution)"
   ],
   "id": "efbaefbd93e5bd1a",
   "outputs": [
    {
     "ename": "ValueError",
     "evalue": "Could not find root within given tolerance. (2.13947846449842665739 > 2.16840434497100886801e-19)\nTry another starting point or tweak arguments.",
     "output_type": "error",
     "traceback": [
      "\u001B[31m---------------------------------------------------------------------------\u001B[39m",
      "\u001B[31mValueError\u001B[39m                                Traceback (most recent call last)",
      "\u001B[36mCell\u001B[39m\u001B[36m \u001B[39m\u001B[32mIn[11]\u001B[39m\u001B[32m, line 11\u001B[39m\n\u001B[32m      8\u001B[39m eq2 = \u001B[32m7\u001B[39m*sqrt(x + \u001B[32m3\u001B[39m*y) - \u001B[32m5\u001B[39m*x + \u001B[32m22\u001B[39m*y - \u001B[32m13\u001B[39m\n\u001B[32m     10\u001B[39m \u001B[38;5;66;03m# Численное решение с начальным приближением (5, 1)\u001B[39;00m\n\u001B[32m---> \u001B[39m\u001B[32m11\u001B[39m solution = \u001B[43mnsolve\u001B[49m\u001B[43m(\u001B[49m\u001B[43m(\u001B[49m\u001B[43meq1\u001B[49m\u001B[43m,\u001B[49m\u001B[43m \u001B[49m\u001B[43meq2\u001B[49m\u001B[43m)\u001B[49m\u001B[43m,\u001B[49m\u001B[43m \u001B[49m\u001B[43m(\u001B[49m\u001B[43mx\u001B[49m\u001B[43m,\u001B[49m\u001B[43m \u001B[49m\u001B[43my\u001B[49m\u001B[43m)\u001B[49m\u001B[43m,\u001B[49m\u001B[43m \u001B[49m\u001B[43m(\u001B[49m\u001B[32;43m5\u001B[39;49m\u001B[43m,\u001B[49m\u001B[43m \u001B[49m\u001B[32;43m1\u001B[39;49m\u001B[43m)\u001B[49m\u001B[43m)\u001B[49m\n\u001B[32m     13\u001B[39m \u001B[38;5;28mprint\u001B[39m(\u001B[33m\"\u001B[39m\u001B[33mЧисленное решение:\u001B[39m\u001B[33m\"\u001B[39m, solution)\n",
      "\u001B[36mFile \u001B[39m\u001B[32m~\\AppData\\Local\\pypoetry\\Cache\\virtualenvs\\python-skillbox-O96OhYhw-py3.11\\Lib\\site-packages\\sympy\\utilities\\decorator.py:87\u001B[39m, in \u001B[36mconserve_mpmath_dps.<locals>.func_wrapper\u001B[39m\u001B[34m(*args, **kwargs)\u001B[39m\n\u001B[32m     85\u001B[39m dps = mpmath.mp.dps\n\u001B[32m     86\u001B[39m \u001B[38;5;28;01mtry\u001B[39;00m:\n\u001B[32m---> \u001B[39m\u001B[32m87\u001B[39m     \u001B[38;5;28;01mreturn\u001B[39;00m \u001B[43mfunc\u001B[49m\u001B[43m(\u001B[49m\u001B[43m*\u001B[49m\u001B[43margs\u001B[49m\u001B[43m,\u001B[49m\u001B[43m \u001B[49m\u001B[43m*\u001B[49m\u001B[43m*\u001B[49m\u001B[43mkwargs\u001B[49m\u001B[43m)\u001B[49m\n\u001B[32m     88\u001B[39m \u001B[38;5;28;01mfinally\u001B[39;00m:\n\u001B[32m     89\u001B[39m     mpmath.mp.dps = dps\n",
      "\u001B[36mFile \u001B[39m\u001B[32m~\\AppData\\Local\\pypoetry\\Cache\\virtualenvs\\python-skillbox-O96OhYhw-py3.11\\Lib\\site-packages\\sympy\\solvers\\solvers.py:3104\u001B[39m, in \u001B[36mnsolve\u001B[39m\u001B[34m(dict, *args, **kwargs)\u001B[39m\n\u001B[32m   3102\u001B[39m J = lambdify(fargs, J, modules)\n\u001B[32m   3103\u001B[39m \u001B[38;5;66;03m# solve the system numerically\u001B[39;00m\n\u001B[32m-> \u001B[39m\u001B[32m3104\u001B[39m x = \u001B[43mfindroot\u001B[49m\u001B[43m(\u001B[49m\u001B[43mf\u001B[49m\u001B[43m,\u001B[49m\u001B[43m \u001B[49m\u001B[43mx0\u001B[49m\u001B[43m,\u001B[49m\u001B[43m \u001B[49m\u001B[43mJ\u001B[49m\u001B[43m=\u001B[49m\u001B[43mJ\u001B[49m\u001B[43m,\u001B[49m\u001B[43m \u001B[49m\u001B[43m*\u001B[49m\u001B[43m*\u001B[49m\u001B[43mkwargs\u001B[49m\u001B[43m)\u001B[49m\n\u001B[32m   3105\u001B[39m \u001B[38;5;28;01mif\u001B[39;00m as_dict:\n\u001B[32m   3106\u001B[39m     \u001B[38;5;28;01mreturn\u001B[39;00m [\u001B[38;5;28mdict\u001B[39m(\u001B[38;5;28mzip\u001B[39m(fargs, [sympify(xi) \u001B[38;5;28;01mfor\u001B[39;00m xi \u001B[38;5;129;01min\u001B[39;00m x]))]\n",
      "\u001B[36mFile \u001B[39m\u001B[32m~\\AppData\\Local\\pypoetry\\Cache\\virtualenvs\\python-skillbox-O96OhYhw-py3.11\\Lib\\site-packages\\mpmath\\calculus\\optimization.py:985\u001B[39m, in \u001B[36mfindroot\u001B[39m\u001B[34m(ctx, f, x0, solver, tol, verbose, verify, **kwargs)\u001B[39m\n\u001B[32m    983\u001B[39m         xl = x\n\u001B[32m    984\u001B[39m     \u001B[38;5;28;01mif\u001B[39;00m verify \u001B[38;5;129;01mand\u001B[39;00m norm(f(*xl))**\u001B[32m2\u001B[39m > tol: \u001B[38;5;66;03m# TODO: better condition?\u001B[39;00m\n\u001B[32m--> \u001B[39m\u001B[32m985\u001B[39m         \u001B[38;5;28;01mraise\u001B[39;00m \u001B[38;5;167;01mValueError\u001B[39;00m(\u001B[33m'\u001B[39m\u001B[33mCould not find root within given tolerance. \u001B[39m\u001B[33m'\u001B[39m\n\u001B[32m    986\u001B[39m                          \u001B[33m'\u001B[39m\u001B[33m(\u001B[39m\u001B[38;5;132;01m%s\u001B[39;00m\u001B[33m > \u001B[39m\u001B[38;5;132;01m%s\u001B[39;00m\u001B[33m)\u001B[39m\u001B[38;5;130;01m\\n\u001B[39;00m\u001B[33m'\u001B[39m\n\u001B[32m    987\u001B[39m                          \u001B[33m'\u001B[39m\u001B[33mTry another starting point or tweak arguments.\u001B[39m\u001B[33m'\u001B[39m\n\u001B[32m    988\u001B[39m                          % (norm(f(*xl))**\u001B[32m2\u001B[39m, tol))\n\u001B[32m    989\u001B[39m     \u001B[38;5;28;01mreturn\u001B[39;00m x\n\u001B[32m    990\u001B[39m \u001B[38;5;28;01mfinally\u001B[39;00m:\n",
      "\u001B[31mValueError\u001B[39m: Could not find root within given tolerance. (2.13947846449842665739 > 2.16840434497100886801e-19)\nTry another starting point or tweak arguments."
     ]
    }
   ],
   "execution_count": 11
  },
  {
   "metadata": {
    "ExecuteTime": {
     "end_time": "2025-06-14T14:52:18.041579Z",
     "start_time": "2025-06-14T14:52:17.763130Z"
    }
   },
   "cell_type": "code",
   "source": [
    "from sympy import symbols, Eq, solve, sqrt\n",
    "\n",
    "x, y = symbols('x y', real=True)\n",
    "\n",
    "eq1 = Eq(sqrt(x - 4*y) - 2*sqrt(x + 3*y), 1)\n",
    "eq2 = Eq(7*sqrt(x + 3*y) - 5*x + 22*y, 13)\n",
    "\n",
    "solution = solve((eq1, eq2), (x, y))\n",
    "print(\"Символьное решение:\", solution)"
   ],
   "id": "51ba58b0783e8a05",
   "outputs": [
    {
     "name": "stdout",
     "output_type": "stream",
     "text": [
      "Символьное решение: []\n"
     ]
    }
   ],
   "execution_count": 12
  }
 ],
 "metadata": {
  "kernelspec": {
   "display_name": "Python 3",
   "language": "python",
   "name": "python3"
  },
  "language_info": {
   "codemirror_mode": {
    "name": "ipython",
    "version": 2
   },
   "file_extension": ".py",
   "mimetype": "text/x-python",
   "name": "python",
   "nbconvert_exporter": "python",
   "pygments_lexer": "ipython2",
   "version": "2.7.6"
  }
 },
 "nbformat": 4,
 "nbformat_minor": 5
}
