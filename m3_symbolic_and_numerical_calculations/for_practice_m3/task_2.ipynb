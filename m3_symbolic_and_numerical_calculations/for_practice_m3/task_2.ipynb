{
 "cells": [
  {
   "cell_type": "markdown",
   "id": "a62c0251251afe45",
   "metadata": {},
   "source": [
    "#### Решите линейное уравнение с матричными неизвестным X и параметрами. ####\n",
    "\n",
    "$ AX+B=C$\n",
    "\n",
    "$B = \\begin{bmatrix}\n",
    " 1.2\\\\\n",
    " 3.3\\\\\n",
    "5.1\n",
    "\\end{bmatrix}$  $C = \\begin{bmatrix}\n",
    " 3.2\\\\\n",
    " 4.5\\\\0.3\n",
    "\\end{bmatrix}$  $A = \\begin{bmatrix}\n",
    "0.1 & 2.1 & 4.1 \\\\\n",
    "3.2 & 1.8 & 2.6 \\\\\n",
    "1.1 & 6.2 & 3.4 \\\\\n",
    "\\end{bmatrix}$"
   ]
  },
  {
   "metadata": {
    "ExecuteTime": {
     "end_time": "2025-06-05T13:32:59.535326Z",
     "start_time": "2025-06-05T13:32:59.530556Z"
    }
   },
   "cell_type": "code",
   "source": [
    "from sympy import Matrix, linsolve\n",
    "\n",
    "# Определите матрицы A, B и C\n",
    "A = Matrix([\n",
    "    [0.1, 2.1, 4.1],\n",
    "    [3.2, 1.8, 2.6],\n",
    "    [1.1, 6.2, 3.4]\n",
    "])\n",
    "\n",
    "B = Matrix([1.2, 3.3, 5.1])\n",
    "C = Matrix([3.2, 4.5, 0.3])\n",
    "\n",
    "# Вычислите C - B\n",
    "C_minus_B = C - B"
   ],
   "id": "2ea98e670375a62e",
   "outputs": [],
   "execution_count": 57
  },
  {
   "metadata": {
    "ExecuteTime": {
     "end_time": "2025-06-05T13:32:59.575934Z",
     "start_time": "2025-06-05T13:32:59.562747Z"
    }
   },
   "cell_type": "code",
   "source": [
    "# Решите уравнение AX = C - B\n",
    "X = linsolve((A, C_minus_B))\n",
    "X"
   ],
   "id": "614004f328d91702",
   "outputs": [
    {
     "data": {
      "text/plain": [
       "{(0.201357792864365, -1.49451105012278, 1.24837498194424)}"
      ],
      "text/latex": "$\\displaystyle \\left\\{\\left( 0.201357792864365, \\  -1.49451105012278, \\  1.24837498194424\\right)\\right\\}$"
     },
     "execution_count": 58,
     "metadata": {},
     "output_type": "execute_result"
    }
   ],
   "execution_count": 58
  },
  {
   "metadata": {
    "ExecuteTime": {
     "end_time": "2025-06-05T13:32:59.607162Z",
     "start_time": "2025-06-05T13:32:59.601675Z"
    }
   },
   "cell_type": "code",
   "source": [
    "# Преобразуем результат в численное представление\n",
    "X_evalf = [x.evalf() for x in X.args[0]]\n",
    "X_evalf"
   ],
   "id": "ccf43e681586d63f",
   "outputs": [
    {
     "data": {
      "text/plain": [
       "[0.201357792864365, -1.49451105012278, 1.24837498194424]"
      ]
     },
     "execution_count": 59,
     "metadata": {},
     "output_type": "execute_result"
    }
   ],
   "execution_count": 59
  },
  {
   "metadata": {
    "ExecuteTime": {
     "end_time": "2025-06-05T13:32:59.637463Z",
     "start_time": "2025-06-05T13:32:59.633451Z"
    }
   },
   "cell_type": "code",
   "source": [
    "print(\"Решение X:\")\n",
    "print(Matrix(X_evalf))"
   ],
   "id": "4f2946ee2c984085",
   "outputs": [
    {
     "name": "stdout",
     "output_type": "stream",
     "text": [
      "Решение X:\n",
      "Matrix([[0.201357792864365], [-1.49451105012278], [1.24837498194424]])\n"
     ]
    }
   ],
   "execution_count": 60
  },
  {
   "metadata": {
    "ExecuteTime": {
     "end_time": "2025-06-05T13:32:59.666533Z",
     "start_time": "2025-06-05T13:32:59.661220Z"
    }
   },
   "cell_type": "code",
   "source": [
    "AX = A * Matrix(X_evalf)\n",
    "print(\"Проверка: AX + B =\", AX + B)\n",
    "print(\"C =\", C)"
   ],
   "id": "463bc922bb381d7a",
   "outputs": [
    {
     "name": "stdout",
     "output_type": "stream",
     "text": [
      "Проверка: AX + B = Matrix([[3.20000000000000], [4.50000000000000], [0.300000000000000]])\n",
      "C = Matrix([[3.20000000000000], [4.50000000000000], [0.300000000000000]])\n"
     ]
    }
   ],
   "execution_count": 61
  },
  {
   "metadata": {
    "ExecuteTime": {
     "end_time": "2025-06-05T13:32:59.687804Z",
     "start_time": "2025-06-05T13:32:59.685137Z"
    }
   },
   "cell_type": "code",
   "source": "",
   "id": "5e98794e0cf2cb22",
   "outputs": [],
   "execution_count": null
  },
  {
   "metadata": {},
   "cell_type": "markdown",
   "source": [
    "Вторая система линейных уравнений\n",
    "$B = \\begin{bmatrix}\n",
    "9 & 5 & 2 \\\\\n",
    "4 & 7 & 7 \\\\\n",
    "4 & 7 & 2 \\\\\n",
    "\\end{bmatrix}$  $C = \\begin{bmatrix}\n",
    "5 & 3 & 7 \\\\\n",
    "8 & 9 & 9 \\\\\n",
    "3 & 1 & 7 \\\\\n",
    "\\end{bmatrix}$  $A = \\begin{bmatrix}\n",
    "8 & 9 & 2 \\\\\n",
    "8 & 2 & 5 \\\\\n",
    "1 & 9 & 3.4 \\\\\n",
    "\\end{bmatrix}$"
   ],
   "id": "6a8decc9c4f02734"
  },
  {
   "metadata": {
    "ExecuteTime": {
     "end_time": "2025-06-05T13:32:59.711799Z",
     "start_time": "2025-06-05T13:32:59.705121Z"
    }
   },
   "cell_type": "code",
   "source": [
    "import numpy as np\n",
    "\n",
    "# Матрица A\n",
    "A = np.array([\n",
    "    [8, 9, 2],\n",
    "    [8, 2, 5],\n",
    "    [1, 9, 6]\n",
    "])\n",
    "\n",
    "# Матрицы B и C\n",
    "B = np.array([\n",
    "    [9, 5, 2],\n",
    "    [4, 7, 7],\n",
    "    [4, 7, 2]\n",
    "])\n",
    "\n",
    "C = np.array([\n",
    "    [5, 3, 7],\n",
    "    [8, 9, 9],\n",
    "    [3, 1, 7]\n",
    "])\n",
    "\n",
    "# Вычисляем правую часть: C - B\n",
    "C_minus_B = C - B\n",
    "\n",
    "# Проверяем обратимость матрицы A\n",
    "try:\n",
    "    A_inv = np.linalg.inv(A)  # Обратная матрица A\n",
    "except np.linalg.LinAlgError:\n",
    "    print(\"Матрица A вырожденная (определитель равен нулю), решение не существует\")\n",
    "else:\n",
    "    # Решаем уравнение AX = D\n",
    "    X = A_inv @ C_minus_B\n",
    "    print(\"Решение X:\")\n",
    "    print(X)\n",
    "\n",
    "    # Проверка: AX + B ≈ C\n",
    "    AX_plus_B = A @ X + B\n",
    "    print(\"\\nПроверка: AX + B ≈ C\")\n",
    "    print(AX_plus_B)"
   ],
   "id": "e88fa4ccaded8e0f",
   "outputs": [
    {
     "name": "stdout",
     "output_type": "stream",
     "text": [
      "Решение X:\n",
      "[[ 0.1037182   0.49315068  0.06262231]\n",
      " [-0.74363992 -0.63013699  0.47553816]\n",
      " [ 0.93150685 -0.1369863   0.10958904]]\n",
      "\n",
      "Проверка: AX + B ≈ C\n",
      "[[5. 3. 7.]\n",
      " [8. 9. 9.]\n",
      " [3. 1. 7.]]\n"
     ]
    }
   ],
   "execution_count": 62
  }
 ],
 "metadata": {
  "kernelspec": {
   "display_name": "Python 3 (ipykernel)",
   "language": "python",
   "name": "python3"
  },
  "language_info": {
   "codemirror_mode": {
    "name": "ipython",
    "version": 3
   },
   "file_extension": ".py",
   "mimetype": "text/x-python",
   "name": "python",
   "nbconvert_exporter": "python",
   "pygments_lexer": "ipython3",
   "version": "3.11.11"
  }
 },
 "nbformat": 4,
 "nbformat_minor": 5
}
