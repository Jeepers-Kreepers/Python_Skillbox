{
 "cells": [
  {
   "cell_type": "code",
   "id": "initial_id",
   "metadata": {},
   "source": [
    "\n",
    "import pandas as pd"
   ],
   "outputs": [],
   "execution_count": null
  },
  {
   "cell_type": "markdown",
   "id": "90d73135c320f67c",
   "metadata": {},
   "source": [
    "### Создание DataFrame из файла CSV ###"
   ]
  },
  {
   "cell_type": "code",
   "id": "9675842be02a5f8b",
   "metadata": {},
   "source": [
    "wine_dataset = pd.read_csv('datasets/wine-quality.csv')\n",
    "wine_dataset.info()"
   ],
   "outputs": [],
   "execution_count": null
  },
  {
   "cell_type": "markdown",
   "id": "275b1dfcacd5778e",
   "metadata": {},
   "source": [
    "### Создание DataFrame из файла Excel ###"
   ]
  },
  {
   "cell_type": "code",
   "id": "28aeb877a0c8e167",
   "metadata": {},
   "source": [
    "wine_dataset = pd.read_excel('datasets/wine-quality.xlsx', sheet_name='Sheet1')\n",
    "# Важно:\n",
    "# если ImportError: отсутствует дополнительная зависимость 'openpyxl'.  Используйте pip или Conda для установки openpyxl.\n",
    "wine_dataset_excel = pd.DataFrame.from_dict(wine_dataset)\n",
    "wine_dataset_excel.info()"
   ],
   "outputs": [],
   "execution_count": null
  },
  {
   "cell_type": "code",
   "id": "598c29fb9995a4b2",
   "metadata": {},
   "source": [
    "wine_dataset_excel.head(2)"
   ],
   "outputs": [],
   "execution_count": null
  },
  {
   "cell_type": "markdown",
   "id": "890186e151995ea9",
   "metadata": {},
   "source": [
    "### Описание Dataframe ###"
   ]
  },
  {
   "cell_type": "code",
   "id": "71fdcfca820781f4",
   "metadata": {},
   "source": [
    "wine_dataset_excel.describe()"
   ],
   "outputs": [],
   "execution_count": null
  },
  {
   "cell_type": "markdown",
   "id": "10df6cd68fa9aa0c",
   "metadata": {},
   "source": [
    "### Описание методов .describe() ###\n",
    "* DataFrame.count: Подсчитывает количество ненулевых (non-NA/null) наблюдений.\n",
    "* DataFrame.max: Максимум значений в объекте.\n",
    "* DataFrame.min: Минимум значений в объекте.\n",
    "* DataFrame.mean: Среднее значение.\n",
    "* DataFrame.std: Стандартное отклонение наблюдений.\n",
    "* DataFrame.25: Нижний перцентиль — 75% данных находятся выше этого значения.\n",
    "* DataFrame.75: Верхний перцентиль — 25% данных находятся выше этого значения.\n",
    "* DataFrame.50: 50-й перцентиль совпадает с медианой."
   ]
  },
  {
   "cell_type": "markdown",
   "id": "203236b5ba158f03",
   "metadata": {},
   "source": [
    "### Dataframe Correlation Matrix ###\n",
    "Вычислите попарную корреляцию столбцов, исключая значения NA / null. Сгенерируйте значения от -1 до 1, чтобы представить отрицательную или положительную корреляцию между двумя значениями.:"
   ]
  },
  {
   "cell_type": "code",
   "id": "fd1862b93041ca75",
   "metadata": {},
   "source": [
    "wine_dataset_excel.corr()"
   ],
   "outputs": [],
   "execution_count": null
  },
  {
   "cell_type": "markdown",
   "id": "b3032fcb384fb117",
   "metadata": {},
   "source": [
    "### Dataframes Columns ###\n",
    "#### Value Counts for Categorical Values ####\n",
    "##### Count the number of entries in a categorical column for each categroy: #####"
   ]
  },
  {
   "cell_type": "code",
   "id": "ac917d315bd21a67",
   "metadata": {},
   "source": [
    "wine_dataset_excel['quality'].value_counts()\n",
    "# есть 5 вин с качеством 9 и 2198 с качеством 6"
   ],
   "outputs": [],
   "execution_count": null
  },
  {
   "cell_type": "code",
   "id": "e7dcd93207268398",
   "metadata": {},
   "source": [
    "wine_dataset_excel['quality'].value_counts(normalize=True).plot.bar()"
   ],
   "outputs": [],
   "execution_count": null
  },
  {
   "cell_type": "markdown",
   "id": "78babea79a04d3a1",
   "metadata": {},
   "source": [
    "#### Уникальные записи в столбце ####"
   ]
  },
  {
   "cell_type": "code",
   "id": "da60cb57dda51f6f",
   "metadata": {},
   "source": [
    "print(wine_dataset_excel['quality'].unique())\n",
    "# array([6, 5, 7, 8, 4, 3, 9])\n",
    "# вин с качеством 1, 2 и 10 в списке нет"
   ],
   "outputs": [],
   "execution_count": null
  },
  {
   "cell_type": "code",
   "id": "ebb805273818f37e",
   "metadata": {},
   "source": [
    "print(wine_dataset_excel['quality'].nunique())\n",
    "# 7\n",
    "# содержится 7 классов качества в 'quality'"
   ],
   "outputs": [],
   "execution_count": null
  },
  {
   "cell_type": "markdown",
   "id": "550488ca6640048f",
   "metadata": {},
   "source": [
    "### Выбор столбцов ###"
   ]
  },
  {
   "cell_type": "code",
   "id": "1d33c7837ff63250",
   "metadata": {},
   "source": [
    "# Select a column to return a PandaSeries\n",
    "type(wine_dataset_excel['pH'])  #\n",
    "wine_dataset_excel['pH']"
   ],
   "outputs": [],
   "execution_count": null
  },
  {
   "cell_type": "code",
   "id": "8b69acb3bdcca048",
   "metadata": {},
   "source": [
    "# select only wines with a pH of 2.72\n",
    "wine_dataset_excel[wine_dataset_excel['pH'] == 2.72]"
   ],
   "outputs": [],
   "execution_count": null
  },
  {
   "cell_type": "code",
   "id": "1c643b4619a619c4",
   "metadata": {},
   "source": [
    "# select multiple columns\n",
    "columns = ['pH', 'alcohol']\n",
    "type(wine_dataset_excel[columns])\n",
    "wine_dataset_excel[columns]"
   ],
   "outputs": [],
   "execution_count": null
  },
  {
   "cell_type": "code",
   "id": "aa3682499099135b",
   "metadata": {},
   "source": [
    "plot = wine_dataset_excel[columns].plot.scatter(\n",
    "        figsize=(12, 8),\n",
    "        x='pH',\n",
    "        y='alcohol'\n",
    "        )"
   ],
   "outputs": [],
   "execution_count": null
  },
  {
   "cell_type": "markdown",
   "id": "b042432b1244253e",
   "metadata": {},
   "source": [
    "### Переименование категориальных значений / Renaming Categorical Values ###"
   ]
  },
  {
   "cell_type": "code",
   "id": "c778048277dcf117",
   "metadata": {},
   "source": [
    "wine_dataset_excel['quality'] = wine_dataset_excel['quality'].replace(\n",
    "    [10,9,8,7,6,5,4,3,2,1],\n",
    "    ['A','B','C','D','E','F','G','H','I','J']\n",
    ")\n",
    "\n",
    "wine_dataset_excel['quality']"
   ],
   "outputs": [],
   "execution_count": null
  },
  {
   "cell_type": "markdown",
   "id": "dd2899bbacc7bad2",
   "metadata": {},
   "source": [
    "### Отображение значений / Value Mapping ###"
   ]
  },
  {
   "cell_type": "code",
   "id": "106764b78fae2241",
   "metadata": {},
   "source": [
    "feature_map = {\n",
    "    'A':10,\n",
    "    'B': 9,\n",
    "    'C': 8,\n",
    "    'D': 7,\n",
    "    'E': 6,\n",
    "    'F': 5,\n",
    "    'G': 4,\n",
    "    'H': 3,\n",
    "    'I': 2,\n",
    "    'J': 1\n",
    "}\n",
    "\n",
    "wine_dataset_excel['quality'] = wine_dataset_excel['quality'].map(feature_map)\n",
    "wine_dataset_excel['quality']"
   ],
   "outputs": [],
   "execution_count": null
  },
  {
   "cell_type": "markdown",
   "id": "c3d6caaaddf9651f",
   "metadata": {},
   "source": [
    "### Сортировка по столбцам / Sorting by Columns ###"
   ]
  },
  {
   "cell_type": "code",
   "id": "6dcc9afd3212e8ef",
   "metadata": {},
   "source": [
    "wine_dataset_excel.sort_values(by='quality', ascending=False, na_position='last')"
   ],
   "outputs": [],
   "execution_count": null
  },
  {
   "cell_type": "code",
   "id": "1478318ae1ba58e3",
   "metadata": {},
   "source": [
    "wine_dataset_excel.sort_values(by=['alcohol', 'residual sugar'], ascending=False, na_position='first')"
   ],
   "outputs": [],
   "execution_count": null
  },
  {
   "cell_type": "markdown",
   "id": "f46a147760f2369d",
   "metadata": {},
   "source": [
    "### Нахождение индекса максимального/минимального значения в столбце ###\n"
   ]
  },
  {
   "cell_type": "code",
   "id": "37ce95b3f2826666",
   "metadata": {},
   "source": [
    "# максимальное значение в столбце\n",
    "wine_dataset_excel['total sulfur dioxide'].max()\n",
    "# 440.0"
   ],
   "outputs": [],
   "execution_count": null
  },
  {
   "cell_type": "code",
   "id": "fc8a28d5b2c48e78",
   "metadata": {},
   "source": [
    "# определяет положение максимального значения в столбце (ячейка)\n",
    "max_value_location = wine_dataset_excel['total sulfur dioxide'].idxmax()\n",
    "print(max_value_location)\n",
    "# 4745\n",
    "wine_dataset_excel.iloc[max_value_location]"
   ],
   "outputs": [],
   "execution_count": null
  },
  {
   "cell_type": "code",
   "id": "b8573ac4e478798c",
   "metadata": {},
   "source": [
    "# минимальное значение в столбце\n",
    "min_value_location = wine_dataset_excel['total sulfur dioxide'].idxmin()\n",
    "print(min_value_location)\n",
    "# 3710\n",
    "wine_dataset_excel.iloc[min_value_location]"
   ],
   "outputs": [],
   "execution_count": null
  },
  {
   "cell_type": "markdown",
   "id": "602ceaa9187e1bf4",
   "metadata": {},
   "source": [
    "### Добавление столбцов ###"
   ]
  },
  {
   "cell_type": "code",
   "id": "ac5ae20629dc7f6a",
   "metadata": {},
   "source": [
    "wine_dataset_excel['total acidity'] = wine_dataset_excel['fixed acidity'] + wine_dataset_excel['volatile acidity']\n",
    "wine_dataset_excel"
   ],
   "outputs": [],
   "execution_count": null
  },
  {
   "cell_type": "markdown",
   "id": "3a3fc1edb5f0b44c",
   "metadata": {},
   "source": [
    "### Удаление столбцов ###"
   ]
  },
  {
   "cell_type": "code",
   "id": "a3d9bd675be112b2",
   "metadata": {},
   "source": [
    "wine_dataset_excel_dropped = wine_dataset_excel.drop(['total acidity'], axis=1)\n",
    "wine_dataset_excel_dropped"
   ],
   "outputs": [],
   "execution_count": null
  },
  {
   "cell_type": "markdown",
   "id": "28f6baafed35d470",
   "metadata": {},
   "source": [
    "## Строки фреймов данных /  Dataframes Rows ##"
   ]
  },
  {
   "cell_type": "markdown",
   "id": "fd5312c4f74df8e6",
   "metadata": {},
   "source": [
    "### Настройка индексного столбца / Setting an Index Column ###"
   ]
  },
  {
   "cell_type": "code",
   "id": "4a2c4da6d669edb6",
   "metadata": {},
   "source": [
    "# Добавление индексного столбца\n",
    "wine_dataset_excel_dropped['index'] = range(1, len(wine_dataset_excel_dropped) + 1)\n",
    "wine_dataset_excel_dropped.head(2)"
   ],
   "outputs": [],
   "execution_count": null
  },
  {
   "cell_type": "code",
   "id": "c16bb8376bfdaf4a",
   "metadata": {},
   "source": [
    "wine_dataset_excel_indexed = wine_dataset_excel_dropped.set_index('index')\n",
    "wine_dataset_excel_indexed.head(2)"
   ],
   "outputs": [],
   "execution_count": null
  },
  {
   "cell_type": "code",
   "id": "3a44f3ba3efc9cde",
   "metadata": {},
   "source": [
    "# Сброс индекса снова превращает индекс в обычный столбец\n",
    "wine_dataset_excel_indexed.reset_index()"
   ],
   "outputs": [],
   "execution_count": null
  },
  {
   "metadata": {},
   "cell_type": "markdown",
   "source": "### Выбор строк ###",
   "id": "bccb031afa4a59f7"
  },
  {
   "cell_type": "code",
   "id": "bf5758b82a846f3c",
   "metadata": {},
   "source": [
    "# select first rows by integer location\n",
    "wine_dataset_excel_indexed.iloc[0]"
   ],
   "outputs": [],
   "execution_count": null
  },
  {
   "cell_type": "code",
   "id": "d5fb2b5b923a32c1",
   "metadata": {},
   "source": [
    "# Выберите несколько строк через срез\n",
    "wine_dataset_excel_indexed.iloc[:3]"
   ],
   "outputs": [],
   "execution_count": null
  },
  {
   "cell_type": "code",
   "id": "2a1dc766a65093f1",
   "metadata": {},
   "source": [
    "# Выберите несколько строк прямым указанием на строки\n",
    "wine_dataset_excel_indexed.loc[[111,222,333]]"
   ],
   "outputs": [],
   "execution_count": null
  },
  {
   "metadata": {},
   "cell_type": "markdown",
   "source": "### Удаление строк ###\n",
   "id": "2bd3d0ea6103b914"
  },
  {
   "cell_type": "code",
   "id": "9fb1a4efc7b0dc8f",
   "metadata": {},
   "source": "wine_dataset_excel_indexed.drop(1, axis=0)",
   "outputs": [],
   "execution_count": null
  },
  {
   "metadata": {},
   "cell_type": "markdown",
   "source": "### Вставка строк ###",
   "id": "f4757e36820866d5"
  },
  {
   "cell_type": "code",
   "id": "8f3a4cbc09f643a9",
   "metadata": {},
   "source": [
    "# copy a row\n",
    "row_copy = wine_dataset_excel_indexed.iloc[0]\n",
    "row_copy"
   ],
   "outputs": [],
   "execution_count": null
  },
  {
   "cell_type": "code",
   "id": "eb75fe331bc89f1",
   "metadata": {},
   "source": [
    "# wine_dataset_excel_indexed.append(row_copy)\n",
    "# FutureWarning: The frame.append method is deprecated and will be removed\n",
    "# from pandas in a future version. Use pandas.concat instead.\n",
    "wine_dataset_excel_indexed = pd.concat([wine_dataset_excel_indexed, row_copy], ignore_index=True)"
   ],
   "outputs": [],
   "execution_count": null
  },
  {
   "cell_type": "code",
   "id": "10989526e0d2462a",
   "metadata": {},
   "source": "wine_dataset_excel_indexed",
   "outputs": [],
   "execution_count": null
  },
  {
   "cell_type": "code",
   "id": "536748426d8e9b17",
   "metadata": {},
   "source": "pd.concat([wine_dataset_excel_indexed, row_copy.to_frame().T], ignore_index=False)",
   "outputs": [],
   "execution_count": null
  },
  {
   "metadata": {},
   "cell_type": "markdown",
   "source": "### Удаление дублирующихся строк ###",
   "id": "929695adf614708a"
  },
  {
   "cell_type": "code",
   "id": "e17f8e511013948c",
   "metadata": {},
   "source": [
    "# test for duplicated rows\n",
    "wine_dataset_excel.duplicated()\n",
    "# 4 - я строка содержит дублирующуюся запись:"
   ],
   "outputs": [],
   "execution_count": null
  },
  {
   "metadata": {},
   "cell_type": "code",
   "source": [
    "# remove duplicates\n",
    "wine_dataset_excel_deduped = wine_dataset_excel.drop_duplicates()\n",
    "wine_dataset_excel_deduped.shape\n",
    "# (3961, 12)\n",
    "# We are down from 4898 to 3961 dropping 937 rows!"
   ],
   "id": "53807e15fda9db28",
   "outputs": [],
   "execution_count": null
  },
  {
   "metadata": {},
   "cell_type": "markdown",
   "source": "### Выбор n-наибольшего / n-наименьшего значения ###",
   "id": "79bf785ae03ba465"
  },
  {
   "metadata": {},
   "cell_type": "code",
   "source": [
    "top_10_wines = wine_dataset_excel.nlargest(10, 'quality')\n",
    "top_10_wines"
   ],
   "id": "48f615e52d03e8b4",
   "outputs": [],
   "execution_count": null
  },
  {
   "metadata": {},
   "cell_type": "code",
   "source": [
    "worst_10_wines = wine_dataset_excel.nsmallest(10, 'quality')\n",
    "worst_10_wines"
   ],
   "id": "c920e0838accd23b",
   "outputs": [],
   "execution_count": null
  },
  {
   "metadata": {},
   "cell_type": "markdown",
   "source": "### Выбор случайной выборки ###",
   "id": "a995bd693cebeaa8"
  },
  {
   "metadata": {
    "ExecuteTime": {
     "end_time": "2025-05-03T14:16:05.076597Z",
     "start_time": "2025-05-03T14:16:05.065377Z"
    }
   },
   "cell_type": "code",
   "source": [
    "# sample a fixed number - 2\n",
    "two_random_wines = wine_dataset_excel.sample(n=2)\n",
    "two_random_wines"
   ],
   "id": "e4a9a1a2bb872dcc",
   "outputs": [
    {
     "data": {
      "text/plain": [
       "      fixed acidity  volatile acidity  citric acid  residual sugar  chlorides  \\\n",
       "3820            6.3              0.30         0.20             3.7      0.039   \n",
       "629             5.8              0.31         0.33             1.2      0.036   \n",
       "\n",
       "      free sulfur dioxide  total sulfur dioxide  density    pH  sulphates  \\\n",
       "3820                 34.0                 132.0  0.99158  3.00       0.38   \n",
       "629                  23.0                  99.0  0.99160  3.18       0.60   \n",
       "\n",
       "      alcohol  quality  total acidity  \n",
       "3820     10.7        5           6.60  \n",
       "629      10.5        6           6.11  "
      ],
      "text/html": [
       "<div>\n",
       "<style scoped>\n",
       "    .dataframe tbody tr th:only-of-type {\n",
       "        vertical-align: middle;\n",
       "    }\n",
       "\n",
       "    .dataframe tbody tr th {\n",
       "        vertical-align: top;\n",
       "    }\n",
       "\n",
       "    .dataframe thead th {\n",
       "        text-align: right;\n",
       "    }\n",
       "</style>\n",
       "<table border=\"1\" class=\"dataframe\">\n",
       "  <thead>\n",
       "    <tr style=\"text-align: right;\">\n",
       "      <th></th>\n",
       "      <th>fixed acidity</th>\n",
       "      <th>volatile acidity</th>\n",
       "      <th>citric acid</th>\n",
       "      <th>residual sugar</th>\n",
       "      <th>chlorides</th>\n",
       "      <th>free sulfur dioxide</th>\n",
       "      <th>total sulfur dioxide</th>\n",
       "      <th>density</th>\n",
       "      <th>pH</th>\n",
       "      <th>sulphates</th>\n",
       "      <th>alcohol</th>\n",
       "      <th>quality</th>\n",
       "      <th>total acidity</th>\n",
       "    </tr>\n",
       "  </thead>\n",
       "  <tbody>\n",
       "    <tr>\n",
       "      <th>3820</th>\n",
       "      <td>6.3</td>\n",
       "      <td>0.30</td>\n",
       "      <td>0.20</td>\n",
       "      <td>3.7</td>\n",
       "      <td>0.039</td>\n",
       "      <td>34.0</td>\n",
       "      <td>132.0</td>\n",
       "      <td>0.99158</td>\n",
       "      <td>3.00</td>\n",
       "      <td>0.38</td>\n",
       "      <td>10.7</td>\n",
       "      <td>5</td>\n",
       "      <td>6.60</td>\n",
       "    </tr>\n",
       "    <tr>\n",
       "      <th>629</th>\n",
       "      <td>5.8</td>\n",
       "      <td>0.31</td>\n",
       "      <td>0.33</td>\n",
       "      <td>1.2</td>\n",
       "      <td>0.036</td>\n",
       "      <td>23.0</td>\n",
       "      <td>99.0</td>\n",
       "      <td>0.99160</td>\n",
       "      <td>3.18</td>\n",
       "      <td>0.60</td>\n",
       "      <td>10.5</td>\n",
       "      <td>6</td>\n",
       "      <td>6.11</td>\n",
       "    </tr>\n",
       "  </tbody>\n",
       "</table>\n",
       "</div>"
      ]
     },
     "execution_count": 115,
     "metadata": {},
     "output_type": "execute_result"
    }
   ],
   "execution_count": 115
  },
  {
   "metadata": {
    "ExecuteTime": {
     "end_time": "2025-05-03T14:22:04.397387Z",
     "start_time": "2025-05-03T14:22:04.384825Z"
    }
   },
   "cell_type": "code",
   "source": [
    "# sample a percentage - 0.1%\n",
    "random_wines_01_percent = wine_dataset_excel.sample(frac=0.001)\n",
    "random_wines_01_percent"
   ],
   "id": "e03afe6f4f9121e4",
   "outputs": [
    {
     "data": {
      "text/plain": [
       "      fixed acidity  volatile acidity  citric acid  residual sugar  chlorides  \\\n",
       "2794            6.8              0.35         0.53            10.1      0.053   \n",
       "1264            7.2              0.14         0.35             1.2      0.036   \n",
       "4246            5.7              0.18         0.26             2.2      0.023   \n",
       "4371            7.0              0.23         0.28             2.7      0.053   \n",
       "2020            7.7              0.26         0.34             6.4      0.050   \n",
       "\n",
       "      free sulfur dioxide  total sulfur dioxide  density    pH  sulphates  \\\n",
       "2794                 37.0                 151.0  0.99630  3.07       0.40   \n",
       "1264                 15.0                  73.0  0.99380  3.46       0.39   \n",
       "4246                 21.0                  95.0  0.98930  3.07       0.54   \n",
       "4371                 16.0                  92.0  0.99372  3.18       0.56   \n",
       "2020                 36.0                 163.0  0.99370  3.19       0.70   \n",
       "\n",
       "      alcohol  quality  total acidity  \n",
       "2794      9.4        5           7.15  \n",
       "1264      9.9        5           7.34  \n",
       "4246     12.3        6           5.88  \n",
       "4371      9.3        5           7.23  \n",
       "2020     11.5        6           7.96  "
      ],
      "text/html": [
       "<div>\n",
       "<style scoped>\n",
       "    .dataframe tbody tr th:only-of-type {\n",
       "        vertical-align: middle;\n",
       "    }\n",
       "\n",
       "    .dataframe tbody tr th {\n",
       "        vertical-align: top;\n",
       "    }\n",
       "\n",
       "    .dataframe thead th {\n",
       "        text-align: right;\n",
       "    }\n",
       "</style>\n",
       "<table border=\"1\" class=\"dataframe\">\n",
       "  <thead>\n",
       "    <tr style=\"text-align: right;\">\n",
       "      <th></th>\n",
       "      <th>fixed acidity</th>\n",
       "      <th>volatile acidity</th>\n",
       "      <th>citric acid</th>\n",
       "      <th>residual sugar</th>\n",
       "      <th>chlorides</th>\n",
       "      <th>free sulfur dioxide</th>\n",
       "      <th>total sulfur dioxide</th>\n",
       "      <th>density</th>\n",
       "      <th>pH</th>\n",
       "      <th>sulphates</th>\n",
       "      <th>alcohol</th>\n",
       "      <th>quality</th>\n",
       "      <th>total acidity</th>\n",
       "    </tr>\n",
       "  </thead>\n",
       "  <tbody>\n",
       "    <tr>\n",
       "      <th>2794</th>\n",
       "      <td>6.8</td>\n",
       "      <td>0.35</td>\n",
       "      <td>0.53</td>\n",
       "      <td>10.1</td>\n",
       "      <td>0.053</td>\n",
       "      <td>37.0</td>\n",
       "      <td>151.0</td>\n",
       "      <td>0.99630</td>\n",
       "      <td>3.07</td>\n",
       "      <td>0.40</td>\n",
       "      <td>9.4</td>\n",
       "      <td>5</td>\n",
       "      <td>7.15</td>\n",
       "    </tr>\n",
       "    <tr>\n",
       "      <th>1264</th>\n",
       "      <td>7.2</td>\n",
       "      <td>0.14</td>\n",
       "      <td>0.35</td>\n",
       "      <td>1.2</td>\n",
       "      <td>0.036</td>\n",
       "      <td>15.0</td>\n",
       "      <td>73.0</td>\n",
       "      <td>0.99380</td>\n",
       "      <td>3.46</td>\n",
       "      <td>0.39</td>\n",
       "      <td>9.9</td>\n",
       "      <td>5</td>\n",
       "      <td>7.34</td>\n",
       "    </tr>\n",
       "    <tr>\n",
       "      <th>4246</th>\n",
       "      <td>5.7</td>\n",
       "      <td>0.18</td>\n",
       "      <td>0.26</td>\n",
       "      <td>2.2</td>\n",
       "      <td>0.023</td>\n",
       "      <td>21.0</td>\n",
       "      <td>95.0</td>\n",
       "      <td>0.98930</td>\n",
       "      <td>3.07</td>\n",
       "      <td>0.54</td>\n",
       "      <td>12.3</td>\n",
       "      <td>6</td>\n",
       "      <td>5.88</td>\n",
       "    </tr>\n",
       "    <tr>\n",
       "      <th>4371</th>\n",
       "      <td>7.0</td>\n",
       "      <td>0.23</td>\n",
       "      <td>0.28</td>\n",
       "      <td>2.7</td>\n",
       "      <td>0.053</td>\n",
       "      <td>16.0</td>\n",
       "      <td>92.0</td>\n",
       "      <td>0.99372</td>\n",
       "      <td>3.18</td>\n",
       "      <td>0.56</td>\n",
       "      <td>9.3</td>\n",
       "      <td>5</td>\n",
       "      <td>7.23</td>\n",
       "    </tr>\n",
       "    <tr>\n",
       "      <th>2020</th>\n",
       "      <td>7.7</td>\n",
       "      <td>0.26</td>\n",
       "      <td>0.34</td>\n",
       "      <td>6.4</td>\n",
       "      <td>0.050</td>\n",
       "      <td>36.0</td>\n",
       "      <td>163.0</td>\n",
       "      <td>0.99370</td>\n",
       "      <td>3.19</td>\n",
       "      <td>0.70</td>\n",
       "      <td>11.5</td>\n",
       "      <td>6</td>\n",
       "      <td>7.96</td>\n",
       "    </tr>\n",
       "  </tbody>\n",
       "</table>\n",
       "</div>"
      ]
     },
     "execution_count": 116,
     "metadata": {},
     "output_type": "execute_result"
    }
   ],
   "execution_count": 116
  },
  {
   "metadata": {
    "ExecuteTime": {
     "end_time": "2025-05-03T14:22:27.373665Z",
     "start_time": "2025-05-03T14:22:27.055872Z"
    }
   },
   "cell_type": "code",
   "source": "random_wines_01_percent.plot.bar(figsize=(12,8), rot=0)",
   "id": "88dcbbb19e179130",
   "outputs": [
    {
     "data": {
      "text/plain": [
       "<Axes: >"
      ]
     },
     "execution_count": 117,
     "metadata": {},
     "output_type": "execute_result"
    },
    {
     "data": {
      "text/plain": [
       "<Figure size 1200x800 with 1 Axes>"
      ],
      "image/png": "[encoded data removed]"
     },
     "metadata": {},
     "output_type": "display_data"
    }
   ],
   "execution_count": 117
  },
  {
   "metadata": {},
   "cell_type": "markdown",
   "source": "### Перемешать набор данных ###",
   "id": "afa47224f45c3023"
  },
  {
   "metadata": {
    "ExecuteTime": {
     "end_time": "2025-05-03T14:37:18.666057Z",
     "start_time": "2025-05-03T14:37:18.651438Z"
    }
   },
   "cell_type": "code",
   "source": [
    "# Use the randomizer in sample() to shuffle the entire dataset\n",
    "random_wines_shuffle = wine_dataset_excel.sample(frac=1)\n",
    "random_wines_shuffle"
   ],
   "id": "c645914655a69afa",
   "outputs": [
    {
     "data": {
      "text/plain": [
       "      fixed acidity  volatile acidity  citric acid  residual sugar  chlorides  \\\n",
       "1414            5.8              0.17         0.30             1.4      0.037   \n",
       "4335            7.3              0.19         0.27            13.9      0.057   \n",
       "1168            7.2              0.20         0.38             1.0      0.037   \n",
       "508             5.9              0.62         0.28             3.5      0.039   \n",
       "4409            6.3              0.29         0.29             3.3      0.037   \n",
       "...             ...               ...          ...             ...        ...   \n",
       "1953            8.1              0.24         0.38             4.3      0.044   \n",
       "4845            6.6              0.38         0.29             2.4      0.136   \n",
       "3480            6.5              0.30         0.27             4.0      0.038   \n",
       "3780            6.7              0.42         0.39            12.1      0.040   \n",
       "4289            6.6              0.26         0.27            11.8      0.048   \n",
       "\n",
       "      free sulfur dioxide  total sulfur dioxide  density    pH  sulphates  \\\n",
       "1414                 55.0                 130.0  0.99090  3.29       0.38   \n",
       "4335                 45.0                 155.0  0.99807  2.94       0.41   \n",
       "1168                 21.0                  74.0  0.99180  3.21       0.37   \n",
       "508                  55.0                 152.0  0.99070  3.44       0.44   \n",
       "4409                 32.0                 140.0  0.98950  3.17       0.36   \n",
       "...                   ...                   ...      ...   ...        ...   \n",
       "1953                 49.0                 172.0  0.99600  3.37       0.74   \n",
       "4845                 15.0                  93.0  0.99336  3.18       0.60   \n",
       "3480                 37.0                  97.0  0.99026  3.20       0.60   \n",
       "3780                 61.0                 248.0  0.99794  3.31       0.58   \n",
       "4289                 28.0                 112.0  0.99606  2.87       0.49   \n",
       "\n",
       "      alcohol  quality  total acidity  \n",
       "1414     11.3        6           5.97  \n",
       "4335      8.8        8           7.49  \n",
       "1168     11.0        5           7.40  \n",
       "508      12.0        6           6.52  \n",
       "4409     12.8        7           6.59  \n",
       "...       ...      ...            ...  \n",
       "1953     10.8        6           8.34  \n",
       "4845      9.5        5           6.98  \n",
       "3480     12.6        8           6.80  \n",
       "3780      9.7        5           7.12  \n",
       "4289      9.7        6           6.86  \n",
       "\n",
       "[4898 rows x 13 columns]"
      ],
      "text/html": [
       "<div>\n",
       "<style scoped>\n",
       "    .dataframe tbody tr th:only-of-type {\n",
       "        vertical-align: middle;\n",
       "    }\n",
       "\n",
       "    .dataframe tbody tr th {\n",
       "        vertical-align: top;\n",
       "    }\n",
       "\n",
       "    .dataframe thead th {\n",
       "        text-align: right;\n",
       "    }\n",
       "</style>\n",
       "<table border=\"1\" class=\"dataframe\">\n",
       "  <thead>\n",
       "    <tr style=\"text-align: right;\">\n",
       "      <th></th>\n",
       "      <th>fixed acidity</th>\n",
       "      <th>volatile acidity</th>\n",
       "      <th>citric acid</th>\n",
       "      <th>residual sugar</th>\n",
       "      <th>chlorides</th>\n",
       "      <th>free sulfur dioxide</th>\n",
       "      <th>total sulfur dioxide</th>\n",
       "      <th>density</th>\n",
       "      <th>pH</th>\n",
       "      <th>sulphates</th>\n",
       "      <th>alcohol</th>\n",
       "      <th>quality</th>\n",
       "      <th>total acidity</th>\n",
       "    </tr>\n",
       "  </thead>\n",
       "  <tbody>\n",
       "    <tr>\n",
       "      <th>1414</th>\n",
       "      <td>5.8</td>\n",
       "      <td>0.17</td>\n",
       "      <td>0.30</td>\n",
       "      <td>1.4</td>\n",
       "      <td>0.037</td>\n",
       "      <td>55.0</td>\n",
       "      <td>130.0</td>\n",
       "      <td>0.99090</td>\n",
       "      <td>3.29</td>\n",
       "      <td>0.38</td>\n",
       "      <td>11.3</td>\n",
       "      <td>6</td>\n",
       "      <td>5.97</td>\n",
       "    </tr>\n",
       "    <tr>\n",
       "      <th>4335</th>\n",
       "      <td>7.3</td>\n",
       "      <td>0.19</td>\n",
       "      <td>0.27</td>\n",
       "      <td>13.9</td>\n",
       "      <td>0.057</td>\n",
       "      <td>45.0</td>\n",
       "      <td>155.0</td>\n",
       "      <td>0.99807</td>\n",
       "      <td>2.94</td>\n",
       "      <td>0.41</td>\n",
       "      <td>8.8</td>\n",
       "      <td>8</td>\n",
       "      <td>7.49</td>\n",
       "    </tr>\n",
       "    <tr>\n",
       "      <th>1168</th>\n",
       "      <td>7.2</td>\n",
       "      <td>0.20</td>\n",
       "      <td>0.38</td>\n",
       "      <td>1.0</td>\n",
       "      <td>0.037</td>\n",
       "      <td>21.0</td>\n",
       "      <td>74.0</td>\n",
       "      <td>0.99180</td>\n",
       "      <td>3.21</td>\n",
       "      <td>0.37</td>\n",
       "      <td>11.0</td>\n",
       "      <td>5</td>\n",
       "      <td>7.40</td>\n",
       "    </tr>\n",
       "    <tr>\n",
       "      <th>508</th>\n",
       "      <td>5.9</td>\n",
       "      <td>0.62</td>\n",
       "      <td>0.28</td>\n",
       "      <td>3.5</td>\n",
       "      <td>0.039</td>\n",
       "      <td>55.0</td>\n",
       "      <td>152.0</td>\n",
       "      <td>0.99070</td>\n",
       "      <td>3.44</td>\n",
       "      <td>0.44</td>\n",
       "      <td>12.0</td>\n",
       "      <td>6</td>\n",
       "      <td>6.52</td>\n",
       "    </tr>\n",
       "    <tr>\n",
       "      <th>4409</th>\n",
       "      <td>6.3</td>\n",
       "      <td>0.29</td>\n",
       "      <td>0.29</td>\n",
       "      <td>3.3</td>\n",
       "      <td>0.037</td>\n",
       "      <td>32.0</td>\n",
       "      <td>140.0</td>\n",
       "      <td>0.98950</td>\n",
       "      <td>3.17</td>\n",
       "      <td>0.36</td>\n",
       "      <td>12.8</td>\n",
       "      <td>7</td>\n",
       "      <td>6.59</td>\n",
       "    </tr>\n",
       "    <tr>\n",
       "      <th>...</th>\n",
       "      <td>...</td>\n",
       "      <td>...</td>\n",
       "      <td>...</td>\n",
       "      <td>...</td>\n",
       "      <td>...</td>\n",
       "      <td>...</td>\n",
       "      <td>...</td>\n",
       "      <td>...</td>\n",
       "      <td>...</td>\n",
       "      <td>...</td>\n",
       "      <td>...</td>\n",
       "      <td>...</td>\n",
       "      <td>...</td>\n",
       "    </tr>\n",
       "    <tr>\n",
       "      <th>1953</th>\n",
       "      <td>8.1</td>\n",
       "      <td>0.24</td>\n",
       "      <td>0.38</td>\n",
       "      <td>4.3</td>\n",
       "      <td>0.044</td>\n",
       "      <td>49.0</td>\n",
       "      <td>172.0</td>\n",
       "      <td>0.99600</td>\n",
       "      <td>3.37</td>\n",
       "      <td>0.74</td>\n",
       "      <td>10.8</td>\n",
       "      <td>6</td>\n",
       "      <td>8.34</td>\n",
       "    </tr>\n",
       "    <tr>\n",
       "      <th>4845</th>\n",
       "      <td>6.6</td>\n",
       "      <td>0.38</td>\n",
       "      <td>0.29</td>\n",
       "      <td>2.4</td>\n",
       "      <td>0.136</td>\n",
       "      <td>15.0</td>\n",
       "      <td>93.0</td>\n",
       "      <td>0.99336</td>\n",
       "      <td>3.18</td>\n",
       "      <td>0.60</td>\n",
       "      <td>9.5</td>\n",
       "      <td>5</td>\n",
       "      <td>6.98</td>\n",
       "    </tr>\n",
       "    <tr>\n",
       "      <th>3480</th>\n",
       "      <td>6.5</td>\n",
       "      <td>0.30</td>\n",
       "      <td>0.27</td>\n",
       "      <td>4.0</td>\n",
       "      <td>0.038</td>\n",
       "      <td>37.0</td>\n",
       "      <td>97.0</td>\n",
       "      <td>0.99026</td>\n",
       "      <td>3.20</td>\n",
       "      <td>0.60</td>\n",
       "      <td>12.6</td>\n",
       "      <td>8</td>\n",
       "      <td>6.80</td>\n",
       "    </tr>\n",
       "    <tr>\n",
       "      <th>3780</th>\n",
       "      <td>6.7</td>\n",
       "      <td>0.42</td>\n",
       "      <td>0.39</td>\n",
       "      <td>12.1</td>\n",
       "      <td>0.040</td>\n",
       "      <td>61.0</td>\n",
       "      <td>248.0</td>\n",
       "      <td>0.99794</td>\n",
       "      <td>3.31</td>\n",
       "      <td>0.58</td>\n",
       "      <td>9.7</td>\n",
       "      <td>5</td>\n",
       "      <td>7.12</td>\n",
       "    </tr>\n",
       "    <tr>\n",
       "      <th>4289</th>\n",
       "      <td>6.6</td>\n",
       "      <td>0.26</td>\n",
       "      <td>0.27</td>\n",
       "      <td>11.8</td>\n",
       "      <td>0.048</td>\n",
       "      <td>28.0</td>\n",
       "      <td>112.0</td>\n",
       "      <td>0.99606</td>\n",
       "      <td>2.87</td>\n",
       "      <td>0.49</td>\n",
       "      <td>9.7</td>\n",
       "      <td>6</td>\n",
       "      <td>6.86</td>\n",
       "    </tr>\n",
       "  </tbody>\n",
       "</table>\n",
       "<p>4898 rows × 13 columns</p>\n",
       "</div>"
      ]
     },
     "execution_count": 118,
     "metadata": {},
     "output_type": "execute_result"
    }
   ],
   "execution_count": 118
  },
  {
   "metadata": {},
   "cell_type": "markdown",
   "source": "### Условная фильтрация ###",
   "id": "b55824f9c55c633e"
  },
  {
   "metadata": {
    "ExecuteTime": {
     "end_time": "2025-05-03T14:42:55.513021Z",
     "start_time": "2025-05-03T14:42:55.500942Z"
    }
   },
   "cell_type": "code",
   "source": [
    "# Отметьте в столбце 'really sour' все вина с pH ниже 3. Да или Нет.\n",
    "wine_dataset_excel_indexed['really sour'] = wine_dataset_excel_indexed['pH'] < 3.\n",
    "wine_dataset_excel_indexed.head(5)"
   ],
   "id": "1de0f4044086d9e0",
   "outputs": [
    {
     "data": {
      "text/plain": [
       "   fixed acidity  volatile acidity  citric acid  residual sugar  chlorides  \\\n",
       "0            7.0              0.27         0.36            20.7      0.045   \n",
       "1            6.3              0.30         0.34             1.6      0.049   \n",
       "2            8.1              0.28         0.40             6.9      0.050   \n",
       "3            7.2              0.23         0.32             8.5      0.058   \n",
       "4            7.2              0.23         0.32             8.5      0.058   \n",
       "\n",
       "   free sulfur dioxide  total sulfur dioxide  density    pH  sulphates  \\\n",
       "0                 45.0                 170.0   1.0010  3.00       0.45   \n",
       "1                 14.0                 132.0   0.9940  3.30       0.49   \n",
       "2                 30.0                  97.0   0.9951  3.26       0.44   \n",
       "3                 47.0                 186.0   0.9956  3.19       0.40   \n",
       "4                 47.0                 186.0   0.9956  3.19       0.40   \n",
       "\n",
       "   alcohol  quality   0  really sour  \n",
       "0      8.8      6.0 NaN        False  \n",
       "1      9.5      6.0 NaN        False  \n",
       "2     10.1      6.0 NaN        False  \n",
       "3      9.9      6.0 NaN        False  \n",
       "4      9.9      6.0 NaN        False  "
      ],
      "text/html": [
       "<div>\n",
       "<style scoped>\n",
       "    .dataframe tbody tr th:only-of-type {\n",
       "        vertical-align: middle;\n",
       "    }\n",
       "\n",
       "    .dataframe tbody tr th {\n",
       "        vertical-align: top;\n",
       "    }\n",
       "\n",
       "    .dataframe thead th {\n",
       "        text-align: right;\n",
       "    }\n",
       "</style>\n",
       "<table border=\"1\" class=\"dataframe\">\n",
       "  <thead>\n",
       "    <tr style=\"text-align: right;\">\n",
       "      <th></th>\n",
       "      <th>fixed acidity</th>\n",
       "      <th>volatile acidity</th>\n",
       "      <th>citric acid</th>\n",
       "      <th>residual sugar</th>\n",
       "      <th>chlorides</th>\n",
       "      <th>free sulfur dioxide</th>\n",
       "      <th>total sulfur dioxide</th>\n",
       "      <th>density</th>\n",
       "      <th>pH</th>\n",
       "      <th>sulphates</th>\n",
       "      <th>alcohol</th>\n",
       "      <th>quality</th>\n",
       "      <th>0</th>\n",
       "      <th>really sour</th>\n",
       "    </tr>\n",
       "  </thead>\n",
       "  <tbody>\n",
       "    <tr>\n",
       "      <th>0</th>\n",
       "      <td>7.0</td>\n",
       "      <td>0.27</td>\n",
       "      <td>0.36</td>\n",
       "      <td>20.7</td>\n",
       "      <td>0.045</td>\n",
       "      <td>45.0</td>\n",
       "      <td>170.0</td>\n",
       "      <td>1.0010</td>\n",
       "      <td>3.00</td>\n",
       "      <td>0.45</td>\n",
       "      <td>8.8</td>\n",
       "      <td>6.0</td>\n",
       "      <td>NaN</td>\n",
       "      <td>False</td>\n",
       "    </tr>\n",
       "    <tr>\n",
       "      <th>1</th>\n",
       "      <td>6.3</td>\n",
       "      <td>0.30</td>\n",
       "      <td>0.34</td>\n",
       "      <td>1.6</td>\n",
       "      <td>0.049</td>\n",
       "      <td>14.0</td>\n",
       "      <td>132.0</td>\n",
       "      <td>0.9940</td>\n",
       "      <td>3.30</td>\n",
       "      <td>0.49</td>\n",
       "      <td>9.5</td>\n",
       "      <td>6.0</td>\n",
       "      <td>NaN</td>\n",
       "      <td>False</td>\n",
       "    </tr>\n",
       "    <tr>\n",
       "      <th>2</th>\n",
       "      <td>8.1</td>\n",
       "      <td>0.28</td>\n",
       "      <td>0.40</td>\n",
       "      <td>6.9</td>\n",
       "      <td>0.050</td>\n",
       "      <td>30.0</td>\n",
       "      <td>97.0</td>\n",
       "      <td>0.9951</td>\n",
       "      <td>3.26</td>\n",
       "      <td>0.44</td>\n",
       "      <td>10.1</td>\n",
       "      <td>6.0</td>\n",
       "      <td>NaN</td>\n",
       "      <td>False</td>\n",
       "    </tr>\n",
       "    <tr>\n",
       "      <th>3</th>\n",
       "      <td>7.2</td>\n",
       "      <td>0.23</td>\n",
       "      <td>0.32</td>\n",
       "      <td>8.5</td>\n",
       "      <td>0.058</td>\n",
       "      <td>47.0</td>\n",
       "      <td>186.0</td>\n",
       "      <td>0.9956</td>\n",
       "      <td>3.19</td>\n",
       "      <td>0.40</td>\n",
       "      <td>9.9</td>\n",
       "      <td>6.0</td>\n",
       "      <td>NaN</td>\n",
       "      <td>False</td>\n",
       "    </tr>\n",
       "    <tr>\n",
       "      <th>4</th>\n",
       "      <td>7.2</td>\n",
       "      <td>0.23</td>\n",
       "      <td>0.32</td>\n",
       "      <td>8.5</td>\n",
       "      <td>0.058</td>\n",
       "      <td>47.0</td>\n",
       "      <td>186.0</td>\n",
       "      <td>0.9956</td>\n",
       "      <td>3.19</td>\n",
       "      <td>0.40</td>\n",
       "      <td>9.9</td>\n",
       "      <td>6.0</td>\n",
       "      <td>NaN</td>\n",
       "      <td>False</td>\n",
       "    </tr>\n",
       "  </tbody>\n",
       "</table>\n",
       "</div>"
      ]
     },
     "execution_count": 121,
     "metadata": {},
     "output_type": "execute_result"
    }
   ],
   "execution_count": 121
  },
  {
   "metadata": {},
   "cell_type": "markdown",
   "source": "### Фильтровать по значению ###",
   "id": "7401c0683845abd8"
  },
  {
   "metadata": {
    "ExecuteTime": {
     "end_time": "2025-05-03T14:45:00.331257Z",
     "start_time": "2025-05-03T14:45:00.316072Z"
    }
   },
   "cell_type": "code",
   "source": [
    "# Выберите только строки со значением pH ниже 3\n",
    "sour_wines = wine_dataset_excel_indexed[wine_dataset_excel_indexed['pH'] < 3.]\n",
    "print(sour_wines.shape)\n",
    "# there are 437 sour wines - (437, 13)\n",
    "sour_wines.head(5)"
   ],
   "id": "509cde2f7463aed4",
   "outputs": [
    {
     "name": "stdout",
     "output_type": "stream",
     "text": [
      "(437, 14)\n"
     ]
    },
    {
     "data": {
      "text/plain": [
       "    fixed acidity  volatile acidity  citric acid  residual sugar  chlorides  \\\n",
       "10            8.1             0.270         0.41            1.45      0.033   \n",
       "14            8.3             0.420         0.62           19.25      0.040   \n",
       "73            8.6             0.230         0.46            1.00      0.054   \n",
       "78            7.4             0.180         0.30            8.80      0.064   \n",
       "97            8.6             0.265         0.36            1.20      0.034   \n",
       "\n",
       "    free sulfur dioxide  total sulfur dioxide  density    pH  sulphates  \\\n",
       "10                 11.0                  63.0   0.9908  2.99       0.56   \n",
       "14                 41.0                 172.0   1.0002  2.98       0.67   \n",
       "73                  9.0                  72.0   0.9941  2.95       0.49   \n",
       "78                 26.0                 103.0   0.9961  2.94       0.56   \n",
       "97                 15.0                  80.0   0.9913  2.95       0.36   \n",
       "\n",
       "    alcohol  quality   0  really sour  \n",
       "10     12.0      5.0 NaN         True  \n",
       "14      9.7      5.0 NaN         True  \n",
       "73      9.1      6.0 NaN         True  \n",
       "78      9.3      5.0 NaN         True  \n",
       "97     11.4      7.0 NaN         True  "
      ],
      "text/html": [
       "<div>\n",
       "<style scoped>\n",
       "    .dataframe tbody tr th:only-of-type {\n",
       "        vertical-align: middle;\n",
       "    }\n",
       "\n",
       "    .dataframe tbody tr th {\n",
       "        vertical-align: top;\n",
       "    }\n",
       "\n",
       "    .dataframe thead th {\n",
       "        text-align: right;\n",
       "    }\n",
       "</style>\n",
       "<table border=\"1\" class=\"dataframe\">\n",
       "  <thead>\n",
       "    <tr style=\"text-align: right;\">\n",
       "      <th></th>\n",
       "      <th>fixed acidity</th>\n",
       "      <th>volatile acidity</th>\n",
       "      <th>citric acid</th>\n",
       "      <th>residual sugar</th>\n",
       "      <th>chlorides</th>\n",
       "      <th>free sulfur dioxide</th>\n",
       "      <th>total sulfur dioxide</th>\n",
       "      <th>density</th>\n",
       "      <th>pH</th>\n",
       "      <th>sulphates</th>\n",
       "      <th>alcohol</th>\n",
       "      <th>quality</th>\n",
       "      <th>0</th>\n",
       "      <th>really sour</th>\n",
       "    </tr>\n",
       "  </thead>\n",
       "  <tbody>\n",
       "    <tr>\n",
       "      <th>10</th>\n",
       "      <td>8.1</td>\n",
       "      <td>0.270</td>\n",
       "      <td>0.41</td>\n",
       "      <td>1.45</td>\n",
       "      <td>0.033</td>\n",
       "      <td>11.0</td>\n",
       "      <td>63.0</td>\n",
       "      <td>0.9908</td>\n",
       "      <td>2.99</td>\n",
       "      <td>0.56</td>\n",
       "      <td>12.0</td>\n",
       "      <td>5.0</td>\n",
       "      <td>NaN</td>\n",
       "      <td>True</td>\n",
       "    </tr>\n",
       "    <tr>\n",
       "      <th>14</th>\n",
       "      <td>8.3</td>\n",
       "      <td>0.420</td>\n",
       "      <td>0.62</td>\n",
       "      <td>19.25</td>\n",
       "      <td>0.040</td>\n",
       "      <td>41.0</td>\n",
       "      <td>172.0</td>\n",
       "      <td>1.0002</td>\n",
       "      <td>2.98</td>\n",
       "      <td>0.67</td>\n",
       "      <td>9.7</td>\n",
       "      <td>5.0</td>\n",
       "      <td>NaN</td>\n",
       "      <td>True</td>\n",
       "    </tr>\n",
       "    <tr>\n",
       "      <th>73</th>\n",
       "      <td>8.6</td>\n",
       "      <td>0.230</td>\n",
       "      <td>0.46</td>\n",
       "      <td>1.00</td>\n",
       "      <td>0.054</td>\n",
       "      <td>9.0</td>\n",
       "      <td>72.0</td>\n",
       "      <td>0.9941</td>\n",
       "      <td>2.95</td>\n",
       "      <td>0.49</td>\n",
       "      <td>9.1</td>\n",
       "      <td>6.0</td>\n",
       "      <td>NaN</td>\n",
       "      <td>True</td>\n",
       "    </tr>\n",
       "    <tr>\n",
       "      <th>78</th>\n",
       "      <td>7.4</td>\n",
       "      <td>0.180</td>\n",
       "      <td>0.30</td>\n",
       "      <td>8.80</td>\n",
       "      <td>0.064</td>\n",
       "      <td>26.0</td>\n",
       "      <td>103.0</td>\n",
       "      <td>0.9961</td>\n",
       "      <td>2.94</td>\n",
       "      <td>0.56</td>\n",
       "      <td>9.3</td>\n",
       "      <td>5.0</td>\n",
       "      <td>NaN</td>\n",
       "      <td>True</td>\n",
       "    </tr>\n",
       "    <tr>\n",
       "      <th>97</th>\n",
       "      <td>8.6</td>\n",
       "      <td>0.265</td>\n",
       "      <td>0.36</td>\n",
       "      <td>1.20</td>\n",
       "      <td>0.034</td>\n",
       "      <td>15.0</td>\n",
       "      <td>80.0</td>\n",
       "      <td>0.9913</td>\n",
       "      <td>2.95</td>\n",
       "      <td>0.36</td>\n",
       "      <td>11.4</td>\n",
       "      <td>7.0</td>\n",
       "      <td>NaN</td>\n",
       "      <td>True</td>\n",
       "    </tr>\n",
       "  </tbody>\n",
       "</table>\n",
       "</div>"
      ]
     },
     "execution_count": 122,
     "metadata": {},
     "output_type": "execute_result"
    }
   ],
   "execution_count": 122
  },
  {
   "metadata": {
    "ExecuteTime": {
     "end_time": "2025-05-03T14:47:35.809234Z",
     "start_time": "2025-05-03T14:47:35.795905Z"
    }
   },
   "cell_type": "code",
   "source": [
    "# select only rows that are marked as not sour\n",
    "not_so_sour_wines = wine_dataset_excel_indexed[wine_dataset_excel_indexed['really sour'] == False]\n",
    "print(not_so_sour_wines.shape)\n",
    "# there are 4497 not so sour wines - (4497, 14)\n",
    "not_so_sour_wines.head(5)"
   ],
   "id": "7dfb204b5a21fa05",
   "outputs": [
    {
     "name": "stdout",
     "output_type": "stream",
     "text": [
      "(4497, 14)\n"
     ]
    },
    {
     "data": {
      "text/plain": [
       "   fixed acidity  volatile acidity  citric acid  residual sugar  chlorides  \\\n",
       "0            7.0              0.27         0.36            20.7      0.045   \n",
       "1            6.3              0.30         0.34             1.6      0.049   \n",
       "2            8.1              0.28         0.40             6.9      0.050   \n",
       "3            7.2              0.23         0.32             8.5      0.058   \n",
       "4            7.2              0.23         0.32             8.5      0.058   \n",
       "\n",
       "   free sulfur dioxide  total sulfur dioxide  density    pH  sulphates  \\\n",
       "0                 45.0                 170.0   1.0010  3.00       0.45   \n",
       "1                 14.0                 132.0   0.9940  3.30       0.49   \n",
       "2                 30.0                  97.0   0.9951  3.26       0.44   \n",
       "3                 47.0                 186.0   0.9956  3.19       0.40   \n",
       "4                 47.0                 186.0   0.9956  3.19       0.40   \n",
       "\n",
       "   alcohol  quality   0  really sour  \n",
       "0      8.8      6.0 NaN        False  \n",
       "1      9.5      6.0 NaN        False  \n",
       "2     10.1      6.0 NaN        False  \n",
       "3      9.9      6.0 NaN        False  \n",
       "4      9.9      6.0 NaN        False  "
      ],
      "text/html": [
       "<div>\n",
       "<style scoped>\n",
       "    .dataframe tbody tr th:only-of-type {\n",
       "        vertical-align: middle;\n",
       "    }\n",
       "\n",
       "    .dataframe tbody tr th {\n",
       "        vertical-align: top;\n",
       "    }\n",
       "\n",
       "    .dataframe thead th {\n",
       "        text-align: right;\n",
       "    }\n",
       "</style>\n",
       "<table border=\"1\" class=\"dataframe\">\n",
       "  <thead>\n",
       "    <tr style=\"text-align: right;\">\n",
       "      <th></th>\n",
       "      <th>fixed acidity</th>\n",
       "      <th>volatile acidity</th>\n",
       "      <th>citric acid</th>\n",
       "      <th>residual sugar</th>\n",
       "      <th>chlorides</th>\n",
       "      <th>free sulfur dioxide</th>\n",
       "      <th>total sulfur dioxide</th>\n",
       "      <th>density</th>\n",
       "      <th>pH</th>\n",
       "      <th>sulphates</th>\n",
       "      <th>alcohol</th>\n",
       "      <th>quality</th>\n",
       "      <th>0</th>\n",
       "      <th>really sour</th>\n",
       "    </tr>\n",
       "  </thead>\n",
       "  <tbody>\n",
       "    <tr>\n",
       "      <th>0</th>\n",
       "      <td>7.0</td>\n",
       "      <td>0.27</td>\n",
       "      <td>0.36</td>\n",
       "      <td>20.7</td>\n",
       "      <td>0.045</td>\n",
       "      <td>45.0</td>\n",
       "      <td>170.0</td>\n",
       "      <td>1.0010</td>\n",
       "      <td>3.00</td>\n",
       "      <td>0.45</td>\n",
       "      <td>8.8</td>\n",
       "      <td>6.0</td>\n",
       "      <td>NaN</td>\n",
       "      <td>False</td>\n",
       "    </tr>\n",
       "    <tr>\n",
       "      <th>1</th>\n",
       "      <td>6.3</td>\n",
       "      <td>0.30</td>\n",
       "      <td>0.34</td>\n",
       "      <td>1.6</td>\n",
       "      <td>0.049</td>\n",
       "      <td>14.0</td>\n",
       "      <td>132.0</td>\n",
       "      <td>0.9940</td>\n",
       "      <td>3.30</td>\n",
       "      <td>0.49</td>\n",
       "      <td>9.5</td>\n",
       "      <td>6.0</td>\n",
       "      <td>NaN</td>\n",
       "      <td>False</td>\n",
       "    </tr>\n",
       "    <tr>\n",
       "      <th>2</th>\n",
       "      <td>8.1</td>\n",
       "      <td>0.28</td>\n",
       "      <td>0.40</td>\n",
       "      <td>6.9</td>\n",
       "      <td>0.050</td>\n",
       "      <td>30.0</td>\n",
       "      <td>97.0</td>\n",
       "      <td>0.9951</td>\n",
       "      <td>3.26</td>\n",
       "      <td>0.44</td>\n",
       "      <td>10.1</td>\n",
       "      <td>6.0</td>\n",
       "      <td>NaN</td>\n",
       "      <td>False</td>\n",
       "    </tr>\n",
       "    <tr>\n",
       "      <th>3</th>\n",
       "      <td>7.2</td>\n",
       "      <td>0.23</td>\n",
       "      <td>0.32</td>\n",
       "      <td>8.5</td>\n",
       "      <td>0.058</td>\n",
       "      <td>47.0</td>\n",
       "      <td>186.0</td>\n",
       "      <td>0.9956</td>\n",
       "      <td>3.19</td>\n",
       "      <td>0.40</td>\n",
       "      <td>9.9</td>\n",
       "      <td>6.0</td>\n",
       "      <td>NaN</td>\n",
       "      <td>False</td>\n",
       "    </tr>\n",
       "    <tr>\n",
       "      <th>4</th>\n",
       "      <td>7.2</td>\n",
       "      <td>0.23</td>\n",
       "      <td>0.32</td>\n",
       "      <td>8.5</td>\n",
       "      <td>0.058</td>\n",
       "      <td>47.0</td>\n",
       "      <td>186.0</td>\n",
       "      <td>0.9956</td>\n",
       "      <td>3.19</td>\n",
       "      <td>0.40</td>\n",
       "      <td>9.9</td>\n",
       "      <td>6.0</td>\n",
       "      <td>NaN</td>\n",
       "      <td>False</td>\n",
       "    </tr>\n",
       "  </tbody>\n",
       "</table>\n",
       "</div>"
      ]
     },
     "execution_count": 124,
     "metadata": {},
     "output_type": "execute_result"
    }
   ],
   "execution_count": 124
  },
  {
   "metadata": {},
   "cell_type": "code",
   "outputs": [],
   "execution_count": null,
   "source": "",
   "id": "e4659c2d6698ddfd"
  }
 ],
 "metadata": {
  "kernelspec": {
   "display_name": "Python 3 (ipykernel)",
   "language": "python",
   "name": "python3"
  },
  "language_info": {
   "codemirror_mode": {
    "name": "ipython",
    "version": 3
   },
   "file_extension": ".py",
   "mimetype": "text/x-python",
   "name": "python",
   "nbconvert_exporter": "python",
   "pygments_lexer": "ipython3",
   "version": "3.11.11"
  }
 },
 "nbformat": 4,
 "nbformat_minor": 5
}
