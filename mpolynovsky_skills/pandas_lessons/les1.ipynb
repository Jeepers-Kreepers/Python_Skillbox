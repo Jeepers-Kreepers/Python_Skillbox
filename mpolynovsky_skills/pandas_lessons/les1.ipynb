{
 "cells": [
  {
   "metadata": {},
   "cell_type": "markdown",
   "source": "**Panda Series**",
   "id": "da034d46df3fb1d2"
  },
  {
   "metadata": {},
   "cell_type": "markdown",
   "source": "Numeric Index",
   "id": "527dc2c32d512da3"
  },
  {
   "metadata": {
    "collapsed": true,
    "ExecuteTime": {
     "end_time": "2025-05-04T14:57:21.622251Z",
     "start_time": "2025-05-04T14:57:21.262295Z"
    }
   },
   "cell_type": "code",
   "source": [
    "import numpy as np\n",
    "import pandas as pd\n",
    "from faker import Faker"
   ],
   "id": "initial_id",
   "outputs": [],
   "execution_count": 1
  },
  {
   "metadata": {
    "ExecuteTime": {
     "end_time": "2025-05-04T14:57:21.663049Z",
     "start_time": "2025-05-04T14:57:21.659751Z"
    }
   },
   "cell_type": "code",
   "source": "SEED = 42",
   "id": "8df52800d05d99b1",
   "outputs": [],
   "execution_count": 2
  },
  {
   "metadata": {
    "ExecuteTime": {
     "end_time": "2025-05-04T14:57:21.774685Z",
     "start_time": "2025-05-04T14:57:21.768446Z"
    }
   },
   "cell_type": "code",
   "source": "data = np.random.randint(0, 100, 5)",
   "id": "e161e1b256b26ffd",
   "outputs": [],
   "execution_count": 3
  },
  {
   "metadata": {
    "ExecuteTime": {
     "end_time": "2025-05-04T14:57:21.825041Z",
     "start_time": "2025-05-04T14:57:21.815834Z"
    }
   },
   "cell_type": "code",
   "source": [
    "series_with_numeric_index = pd.Series(data)\n",
    "series_with_numeric_index"
   ],
   "id": "2af2f3277c0aef07",
   "outputs": [
    {
     "data": {
      "text/plain": [
       "0    18\n",
       "1    29\n",
       "2    60\n",
       "3     4\n",
       "4    48\n",
       "dtype: int64"
      ]
     },
     "execution_count": 4,
     "metadata": {},
     "output_type": "execute_result"
    }
   ],
   "execution_count": 4
  },
  {
   "metadata": {},
   "cell_type": "markdown",
   "source": "Labelled Index",
   "id": "8e511fa2d7a0dd37"
  },
  {
   "metadata": {
    "ExecuteTime": {
     "end_time": "2025-05-04T14:57:21.937230Z",
     "start_time": "2025-05-04T14:57:21.887306Z"
    }
   },
   "cell_type": "code",
   "source": [
    "faker_name = Faker()\n",
    "index_name = [faker_name.name() for i in range(5)]\n",
    "index_name"
   ],
   "id": "519b5a81160073c8",
   "outputs": [
    {
     "data": {
      "text/plain": [
       "['Ray Jacobs',\n",
       " 'Kathryn Henderson',\n",
       " 'Melissa Esparza',\n",
       " 'Jason Turner',\n",
       " 'Donald Walsh']"
      ]
     },
     "execution_count": 5,
     "metadata": {},
     "output_type": "execute_result"
    }
   ],
   "execution_count": 5
  },
  {
   "metadata": {
    "ExecuteTime": {
     "end_time": "2025-05-04T14:57:21.995268Z",
     "start_time": "2025-05-04T14:57:21.988621Z"
    }
   },
   "cell_type": "code",
   "source": [
    "series_with_labelled_index = pd.Series(data, index_name)\n",
    "series_with_labelled_index"
   ],
   "id": "9d86eea792250dc0",
   "outputs": [
    {
     "data": {
      "text/plain": [
       "Ray Jacobs           18\n",
       "Kathryn Henderson    29\n",
       "Melissa Esparza      60\n",
       "Jason Turner          4\n",
       "Donald Walsh         48\n",
       "dtype: int64"
      ]
     },
     "execution_count": 6,
     "metadata": {},
     "output_type": "execute_result"
    }
   ],
   "execution_count": 6
  },
  {
   "metadata": {
    "ExecuteTime": {
     "end_time": "2025-05-04T14:57:22.147573Z",
     "start_time": "2025-05-04T14:57:22.142777Z"
    }
   },
   "cell_type": "code",
   "source": [
    "labeled_dict = series_with_labelled_index.to_dict()  # преобразование в словарь\n",
    "labeled_dict"
   ],
   "id": "fe782be2d64fe87a",
   "outputs": [
    {
     "data": {
      "text/plain": [
       "{'Ray Jacobs': 18,\n",
       " 'Kathryn Henderson': 29,\n",
       " 'Melissa Esparza': 60,\n",
       " 'Jason Turner': 4,\n",
       " 'Donald Walsh': 48}"
      ]
     },
     "execution_count": 7,
     "metadata": {},
     "output_type": "execute_result"
    }
   ],
   "execution_count": 7
  },
  {
   "metadata": {
    "ExecuteTime": {
     "end_time": "2025-05-04T14:57:22.501672Z",
     "start_time": "2025-05-04T14:57:22.496003Z"
    }
   },
   "cell_type": "code",
   "source": [
    "series_with_labelled_index = pd.Series(labeled_dict)\n",
    "series_with_labelled_index"
   ],
   "id": "49c204bcd53a421b",
   "outputs": [
    {
     "data": {
      "text/plain": [
       "Ray Jacobs           18\n",
       "Kathryn Henderson    29\n",
       "Melissa Esparza      60\n",
       "Jason Turner          4\n",
       "Donald Walsh         48\n",
       "dtype: int64"
      ]
     },
     "execution_count": 8,
     "metadata": {},
     "output_type": "execute_result"
    }
   ],
   "execution_count": 8
  },
  {
   "metadata": {},
   "cell_type": "markdown",
   "source": "### Fill Missing Data / Заполнение отсутствующих данных ###",
   "id": "cf3616990a26439e"
  },
  {
   "metadata": {
    "ExecuteTime": {
     "end_time": "2025-05-04T14:57:22.709565Z",
     "start_time": "2025-05-04T14:57:22.705958Z"
    }
   },
   "cell_type": "code",
   "source": [
    "before = {\n",
    "        'Aliqua'           : 1642,\n",
    "        'Ad ut Nulla'      : 1776,\n",
    "        'Nisi est Pastrami': 1867,\n",
    "        'Jowl Magna'       : 1821,\n",
    "        'Anim Bacon Doner' : 1909\n",
    "        }"
   ],
   "id": "fdf7e9d5cd8bb237",
   "outputs": [],
   "execution_count": 9
  },
  {
   "metadata": {
    "ExecuteTime": {
     "end_time": "2025-05-04T14:57:22.838498Z",
     "start_time": "2025-05-04T14:57:22.834931Z"
    }
   },
   "cell_type": "code",
   "source": [
    "after = {\n",
    "        'Voluptate Boudin' : 1643,\n",
    "        'Ad ut Nulla'      : 1777,\n",
    "        'Nisi est Pastrami': 1868,\n",
    "        'Jowl Magna'       : 1822,\n",
    "        'Anim Bacon Doner' : 1910\n",
    "        }"
   ],
   "id": "235c2b2f30e52c4a",
   "outputs": [],
   "execution_count": 10
  },
  {
   "metadata": {
    "ExecuteTime": {
     "end_time": "2025-05-04T14:57:22.920740Z",
     "start_time": "2025-05-04T14:57:22.916584Z"
    }
   },
   "cell_type": "code",
   "source": [
    "before_series = pd.Series(before)\n",
    "after_series = pd.Series(after)"
   ],
   "id": "5111135302b15bcd",
   "outputs": [],
   "execution_count": 11
  },
  {
   "metadata": {
    "ExecuteTime": {
     "end_time": "2025-05-04T14:57:23.027260Z",
     "start_time": "2025-05-04T14:57:23.021193Z"
    }
   },
   "cell_type": "code",
   "source": [
    "all_jowl_magna = before_series['Jowl Magna'] + after_series['Jowl Magna']\n",
    "print(all_jowl_magna)"
   ],
   "id": "899abbee6e8e58f7",
   "outputs": [
    {
     "name": "stdout",
     "output_type": "stream",
     "text": [
      "3643\n"
     ]
    }
   ],
   "execution_count": 12
  },
  {
   "metadata": {
    "ExecuteTime": {
     "end_time": "2025-05-04T14:57:23.150120Z",
     "start_time": "2025-05-04T14:57:23.138582Z"
    }
   },
   "cell_type": "code",
   "source": "before_series + after_series",
   "id": "a8a9c2a436763d7a",
   "outputs": [
    {
     "data": {
      "text/plain": [
       "Ad ut Nulla          3553.0\n",
       "Aliqua                  NaN\n",
       "Anim Bacon Doner     3819.0\n",
       "Jowl Magna           3643.0\n",
       "Nisi est Pastrami    3735.0\n",
       "Voluptate Boudin        NaN\n",
       "dtype: float64"
      ]
     },
     "execution_count": 13,
     "metadata": {},
     "output_type": "execute_result"
    }
   ],
   "execution_count": 13
  },
  {
   "metadata": {
    "ExecuteTime": {
     "end_time": "2025-05-04T14:57:23.248729Z",
     "start_time": "2025-05-04T14:57:23.241326Z"
    }
   },
   "cell_type": "code",
   "source": [
    "# Заполнение отсутствующих данных нулями - fill_value=0\n",
    "before_series.add(after_series, fill_value=0)"
   ],
   "id": "9ec7fcd6651b80b3",
   "outputs": [
    {
     "data": {
      "text/plain": [
       "Ad ut Nulla          3553.0\n",
       "Aliqua               1642.0\n",
       "Anim Bacon Doner     3819.0\n",
       "Jowl Magna           3643.0\n",
       "Nisi est Pastrami    3735.0\n",
       "Voluptate Boudin     1643.0\n",
       "dtype: float64"
      ]
     },
     "execution_count": 14,
     "metadata": {},
     "output_type": "execute_result"
    }
   ],
   "execution_count": 14
  },
  {
   "metadata": {},
   "cell_type": "markdown",
   "source": "## Panda Dataframes ##",
   "id": "3ded4496d4821210"
  },
  {
   "metadata": {},
   "cell_type": "markdown",
   "source": "### Создание DataFrame из массива Numpy ###",
   "id": "ae1e9eea31d8eacd"
  },
  {
   "metadata": {
    "ExecuteTime": {
     "end_time": "2025-05-04T14:57:23.309144Z",
     "start_time": "2025-05-04T14:57:23.304130Z"
    }
   },
   "cell_type": "code",
   "source": [
    "np.random.seed(SEED)\n",
    "\n",
    "random_data_array = np.random.randint(0, 103, (4, 3))  # 4 строки, 3 столбца\n",
    "random_data_array"
   ],
   "id": "914dd71063b3ba11",
   "outputs": [
    {
     "data": {
      "text/plain": [
       "array([[102,  51,  92],\n",
       "       [ 14,  71,  60],\n",
       "       [ 20, 102,  82],\n",
       "       [ 86,  74,  74]])"
      ]
     },
     "execution_count": 15,
     "metadata": {},
     "output_type": "execute_result"
    }
   ],
   "execution_count": 15
  },
  {
   "metadata": {
    "ExecuteTime": {
     "end_time": "2025-05-04T14:57:23.457670Z",
     "start_time": "2025-05-04T14:57:23.451475Z"
    }
   },
   "cell_type": "code",
   "source": [
    "dataframe = pd.DataFrame(random_data_array)\n",
    "dataframe"
   ],
   "id": "c4bba650901d3949",
   "outputs": [
    {
     "data": {
      "text/plain": [
       "     0    1   2\n",
       "0  102   51  92\n",
       "1   14   71  60\n",
       "2   20  102  82\n",
       "3   86   74  74"
      ],
      "text/html": [
       "<div>\n",
       "<style scoped>\n",
       "    .dataframe tbody tr th:only-of-type {\n",
       "        vertical-align: middle;\n",
       "    }\n",
       "\n",
       "    .dataframe tbody tr th {\n",
       "        vertical-align: top;\n",
       "    }\n",
       "\n",
       "    .dataframe thead th {\n",
       "        text-align: right;\n",
       "    }\n",
       "</style>\n",
       "<table border=\"1\" class=\"dataframe\">\n",
       "  <thead>\n",
       "    <tr style=\"text-align: right;\">\n",
       "      <th></th>\n",
       "      <th>0</th>\n",
       "      <th>1</th>\n",
       "      <th>2</th>\n",
       "    </tr>\n",
       "  </thead>\n",
       "  <tbody>\n",
       "    <tr>\n",
       "      <th>0</th>\n",
       "      <td>102</td>\n",
       "      <td>51</td>\n",
       "      <td>92</td>\n",
       "    </tr>\n",
       "    <tr>\n",
       "      <th>1</th>\n",
       "      <td>14</td>\n",
       "      <td>71</td>\n",
       "      <td>60</td>\n",
       "    </tr>\n",
       "    <tr>\n",
       "      <th>2</th>\n",
       "      <td>20</td>\n",
       "      <td>102</td>\n",
       "      <td>82</td>\n",
       "    </tr>\n",
       "    <tr>\n",
       "      <th>3</th>\n",
       "      <td>86</td>\n",
       "      <td>74</td>\n",
       "      <td>74</td>\n",
       "    </tr>\n",
       "  </tbody>\n",
       "</table>\n",
       "</div>"
      ]
     },
     "execution_count": 16,
     "metadata": {},
     "output_type": "execute_result"
    }
   ],
   "execution_count": 16
  },
  {
   "metadata": {
    "ExecuteTime": {
     "end_time": "2025-05-04T14:57:23.623164Z",
     "start_time": "2025-05-04T14:57:23.617981Z"
    }
   },
   "cell_type": "code",
   "source": [
    "# get column labels\n",
    "dataframe.columns"
   ],
   "id": "8232dbde2015fd3d",
   "outputs": [
    {
     "data": {
      "text/plain": [
       "RangeIndex(start=0, stop=3, step=1)"
      ]
     },
     "execution_count": 17,
     "metadata": {},
     "output_type": "execute_result"
    }
   ],
   "execution_count": 17
  },
  {
   "metadata": {
    "ExecuteTime": {
     "end_time": "2025-05-04T14:57:23.840081Z",
     "start_time": "2025-05-04T14:57:23.835988Z"
    }
   },
   "cell_type": "code",
   "source": [
    "# get index labels\n",
    "dataframe.index"
   ],
   "id": "a77e3646106a4e01",
   "outputs": [
    {
     "data": {
      "text/plain": [
       "RangeIndex(start=0, stop=4, step=1)"
      ]
     },
     "execution_count": 18,
     "metadata": {},
     "output_type": "execute_result"
    }
   ],
   "execution_count": 18
  },
  {
   "metadata": {
    "ExecuteTime": {
     "end_time": "2025-05-04T14:57:23.992225Z",
     "start_time": "2025-05-04T14:57:23.985249Z"
    }
   },
   "cell_type": "code",
   "source": [
    "# get data types\n",
    "dataframe.dtypes"
   ],
   "id": "615679aa70528e53",
   "outputs": [
    {
     "data": {
      "text/plain": [
       "0    int64\n",
       "1    int64\n",
       "2    int64\n",
       "dtype: object"
      ]
     },
     "execution_count": 19,
     "metadata": {},
     "output_type": "execute_result"
    }
   ],
   "execution_count": 19
  },
  {
   "metadata": {
    "ExecuteTime": {
     "end_time": "2025-05-04T14:57:24.105394Z",
     "start_time": "2025-05-04T14:57:24.101406Z"
    }
   },
   "cell_type": "code",
   "source": [
    "# get number of rows\n",
    "len(dataframe)"
   ],
   "id": "91d3a099ed1e71d1",
   "outputs": [
    {
     "data": {
      "text/plain": [
       "4"
      ]
     },
     "execution_count": 20,
     "metadata": {},
     "output_type": "execute_result"
    }
   ],
   "execution_count": 20
  },
  {
   "metadata": {
    "ExecuteTime": {
     "end_time": "2025-05-04T14:57:24.232606Z",
     "start_time": "2025-05-04T14:57:24.229623Z"
    }
   },
   "cell_type": "code",
   "source": [
    "data_index = ['Ad ut Nulla', 'Nisi est Pastrami', 'Jowl Magna', 'Anim Bacon Doner']\n",
    "data_columns = ['Q1', 'Q2', 'Q3']"
   ],
   "id": "629abf4b5f141b6c",
   "outputs": [],
   "execution_count": 21
  },
  {
   "metadata": {
    "ExecuteTime": {
     "end_time": "2025-05-04T14:57:24.325251Z",
     "start_time": "2025-05-04T14:57:24.318793Z"
    }
   },
   "cell_type": "code",
   "source": [
    "dataframe_with_labels = pd.DataFrame(random_data_array, index=data_index, columns=data_columns)\n",
    "dataframe_with_labels"
   ],
   "id": "89c5b0e9a42f991d",
   "outputs": [
    {
     "data": {
      "text/plain": [
       "                    Q1   Q2  Q3\n",
       "Ad ut Nulla        102   51  92\n",
       "Nisi est Pastrami   14   71  60\n",
       "Jowl Magna          20  102  82\n",
       "Anim Bacon Doner    86   74  74"
      ],
      "text/html": [
       "<div>\n",
       "<style scoped>\n",
       "    .dataframe tbody tr th:only-of-type {\n",
       "        vertical-align: middle;\n",
       "    }\n",
       "\n",
       "    .dataframe tbody tr th {\n",
       "        vertical-align: top;\n",
       "    }\n",
       "\n",
       "    .dataframe thead th {\n",
       "        text-align: right;\n",
       "    }\n",
       "</style>\n",
       "<table border=\"1\" class=\"dataframe\">\n",
       "  <thead>\n",
       "    <tr style=\"text-align: right;\">\n",
       "      <th></th>\n",
       "      <th>Q1</th>\n",
       "      <th>Q2</th>\n",
       "      <th>Q3</th>\n",
       "    </tr>\n",
       "  </thead>\n",
       "  <tbody>\n",
       "    <tr>\n",
       "      <th>Ad ut Nulla</th>\n",
       "      <td>102</td>\n",
       "      <td>51</td>\n",
       "      <td>92</td>\n",
       "    </tr>\n",
       "    <tr>\n",
       "      <th>Nisi est Pastrami</th>\n",
       "      <td>14</td>\n",
       "      <td>71</td>\n",
       "      <td>60</td>\n",
       "    </tr>\n",
       "    <tr>\n",
       "      <th>Jowl Magna</th>\n",
       "      <td>20</td>\n",
       "      <td>102</td>\n",
       "      <td>82</td>\n",
       "    </tr>\n",
       "    <tr>\n",
       "      <th>Anim Bacon Doner</th>\n",
       "      <td>86</td>\n",
       "      <td>74</td>\n",
       "      <td>74</td>\n",
       "    </tr>\n",
       "  </tbody>\n",
       "</table>\n",
       "</div>"
      ]
     },
     "execution_count": 22,
     "metadata": {},
     "output_type": "execute_result"
    }
   ],
   "execution_count": 22
  },
  {
   "metadata": {
    "ExecuteTime": {
     "end_time": "2025-05-04T14:57:24.524250Z",
     "start_time": "2025-05-04T14:57:24.508554Z"
    }
   },
   "cell_type": "code",
   "source": "dataframe_with_labels.info()",
   "id": "197ac377181ac9e8",
   "outputs": [
    {
     "name": "stdout",
     "output_type": "stream",
     "text": [
      "<class 'pandas.core.frame.DataFrame'>\n",
      "Index: 4 entries, Ad ut Nulla to Anim Bacon Doner\n",
      "Data columns (total 3 columns):\n",
      " #   Column  Non-Null Count  Dtype\n",
      "---  ------  --------------  -----\n",
      " 0   Q1      4 non-null      int64\n",
      " 1   Q2      4 non-null      int64\n",
      " 2   Q3      4 non-null      int64\n",
      "dtypes: int64(3)\n",
      "memory usage: 128.0+ bytes\n"
     ]
    }
   ],
   "execution_count": 23
  }
 ],
 "metadata": {
  "kernelspec": {
   "display_name": "Python 3",
   "language": "python",
   "name": "python3"
  },
  "language_info": {
   "codemirror_mode": {
    "name": "ipython",
    "version": 2
   },
   "file_extension": ".py",
   "mimetype": "text/x-python",
   "name": "python",
   "nbconvert_exporter": "python",
   "pygments_lexer": "ipython2",
   "version": "2.7.6"
  }
 },
 "nbformat": 4,
 "nbformat_minor": 5
}
